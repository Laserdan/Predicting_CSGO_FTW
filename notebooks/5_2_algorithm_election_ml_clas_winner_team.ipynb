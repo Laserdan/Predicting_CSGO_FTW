{
 "cells": [
  {
   "cell_type": "markdown",
   "metadata": {},
   "source": [
    "## **Supervised ML classification algorithm to predict next round winner team (CT & T)**\n",
    "## **Algorithm**"
   ]
  },
  {
   "cell_type": "code",
   "execution_count": 1,
   "metadata": {},
   "outputs": [],
   "source": [
    "import pandas as pd\n",
    "\n",
    "from sklearn.pipeline import Pipeline\n",
    "from sklearn.compose import ColumnTransformer\n",
    "from sklearn.preprocessing import StandardScaler\n",
    "from sklearn.model_selection import train_test_split, RandomizedSearchCV\n",
    "from sklearn.metrics import roc_auc_score, classification_report\n",
    "\n",
    "from sklearn.linear_model import SGDClassifier, LogisticRegression\n",
    "from sklearn.ensemble import RandomForestClassifier, GradientBoostingClassifier, AdaBoostClassifier, ExtraTreesClassifier\n",
    "from sklearn.svm import LinearSVC, SVC\n",
    "from sklearn.neighbors import KNeighborsClassifier\n",
    "from lightgbm import LGBMClassifier\n",
    "\n",
    "from joblib import dump"
   ]
  },
  {
   "cell_type": "code",
   "execution_count": 2,
   "metadata": {},
   "outputs": [],
   "source": [
    "pd.set_option('display.max_columns', 30)\n",
    "pd.set_option('display.max_rows', 30)"
   ]
  },
  {
   "cell_type": "markdown",
   "metadata": {},
   "source": [
    "### Data"
   ]
  },
  {
   "cell_type": "code",
   "execution_count": 3,
   "metadata": {},
   "outputs": [],
   "source": [
    "df = pd.read_csv('../data/processed/5_1_base_predict_winner.csv')"
   ]
  },
  {
   "cell_type": "code",
   "execution_count": 4,
   "metadata": {},
   "outputs": [
    {
     "data": {
      "text/html": [
       "<div>\n",
       "<style scoped>\n",
       "    .dataframe tbody tr th:only-of-type {\n",
       "        vertical-align: middle;\n",
       "    }\n",
       "\n",
       "    .dataframe tbody tr th {\n",
       "        vertical-align: top;\n",
       "    }\n",
       "\n",
       "    .dataframe thead th {\n",
       "        text-align: right;\n",
       "    }\n",
       "</style>\n",
       "<table border=\"1\" class=\"dataframe\">\n",
       "  <thead>\n",
       "    <tr style=\"text-align: right;\">\n",
       "      <th></th>\n",
       "      <th>file</th>\n",
       "      <th>round</th>\n",
       "      <th>wp_ct_val</th>\n",
       "      <th>wp_t_val</th>\n",
       "      <th>nade_ct_val</th>\n",
       "      <th>nade_t_val</th>\n",
       "      <th>ct_alive</th>\n",
       "      <th>t_alive</th>\n",
       "      <th>prev_ct_winner</th>\n",
       "      <th>ct_winner</th>\n",
       "      <th>prev_bomb_planted</th>\n",
       "      <th>bomb_planted</th>\n",
       "      <th>ct_cons_wins</th>\n",
       "      <th>t_cons_wins</th>\n",
       "      <th>ct_val_pred</th>\n",
       "      <th>t_val_pred</th>\n",
       "      <th>ct_round_type</th>\n",
       "      <th>t_round_type</th>\n",
       "      <th>ct_nxt_rnd_type_pred</th>\n",
       "      <th>t_nxt_rnd_type_pred</th>\n",
       "      <th>nxt_ct_winner</th>\n",
       "    </tr>\n",
       "  </thead>\n",
       "  <tbody>\n",
       "    <tr>\n",
       "      <th>0</th>\n",
       "      <td>0</td>\n",
       "      <td>1</td>\n",
       "      <td>1000.0</td>\n",
       "      <td>1166.666667</td>\n",
       "      <td>550</td>\n",
       "      <td>1200</td>\n",
       "      <td>5</td>\n",
       "      <td>5</td>\n",
       "      <td>0.5</td>\n",
       "      <td>1</td>\n",
       "      <td>0.5</td>\n",
       "      <td>0</td>\n",
       "      <td>0</td>\n",
       "      <td>0</td>\n",
       "      <td>4078.134589</td>\n",
       "      <td>3943.272665</td>\n",
       "      <td>0</td>\n",
       "      <td>0</td>\n",
       "      <td>2</td>\n",
       "      <td>1</td>\n",
       "      <td>0</td>\n",
       "    </tr>\n",
       "    <tr>\n",
       "      <th>1</th>\n",
       "      <td>0</td>\n",
       "      <td>2</td>\n",
       "      <td>10100.0</td>\n",
       "      <td>3687.500000</td>\n",
       "      <td>1100</td>\n",
       "      <td>50</td>\n",
       "      <td>4</td>\n",
       "      <td>0</td>\n",
       "      <td>1.0</td>\n",
       "      <td>0</td>\n",
       "      <td>0.0</td>\n",
       "      <td>0</td>\n",
       "      <td>1</td>\n",
       "      <td>0</td>\n",
       "      <td>17819.702711</td>\n",
       "      <td>6290.616771</td>\n",
       "      <td>2</td>\n",
       "      <td>1</td>\n",
       "      <td>3</td>\n",
       "      <td>1</td>\n",
       "      <td>1</td>\n",
       "    </tr>\n",
       "    <tr>\n",
       "      <th>2</th>\n",
       "      <td>0</td>\n",
       "      <td>3</td>\n",
       "      <td>4125.0</td>\n",
       "      <td>11700.000000</td>\n",
       "      <td>900</td>\n",
       "      <td>2450</td>\n",
       "      <td>0</td>\n",
       "      <td>1</td>\n",
       "      <td>0.0</td>\n",
       "      <td>0</td>\n",
       "      <td>0.0</td>\n",
       "      <td>1</td>\n",
       "      <td>0</td>\n",
       "      <td>1</td>\n",
       "      <td>7038.468589</td>\n",
       "      <td>19600.790638</td>\n",
       "      <td>2</td>\n",
       "      <td>3</td>\n",
       "      <td>1</td>\n",
       "      <td>3</td>\n",
       "      <td>1</td>\n",
       "    </tr>\n",
       "    <tr>\n",
       "      <th>3</th>\n",
       "      <td>0</td>\n",
       "      <td>4</td>\n",
       "      <td>1000.0</td>\n",
       "      <td>11700.000000</td>\n",
       "      <td>0</td>\n",
       "      <td>1600</td>\n",
       "      <td>0</td>\n",
       "      <td>3</td>\n",
       "      <td>0.0</td>\n",
       "      <td>0</td>\n",
       "      <td>1.0</td>\n",
       "      <td>1</td>\n",
       "      <td>0</td>\n",
       "      <td>2</td>\n",
       "      <td>1452.468928</td>\n",
       "      <td>22568.098741</td>\n",
       "      <td>1</td>\n",
       "      <td>2</td>\n",
       "      <td>3</td>\n",
       "      <td>3</td>\n",
       "      <td>0</td>\n",
       "    </tr>\n",
       "    <tr>\n",
       "      <th>4</th>\n",
       "      <td>0</td>\n",
       "      <td>5</td>\n",
       "      <td>15500.0</td>\n",
       "      <td>12750.000000</td>\n",
       "      <td>1400</td>\n",
       "      <td>1700</td>\n",
       "      <td>0</td>\n",
       "      <td>4</td>\n",
       "      <td>0.0</td>\n",
       "      <td>1</td>\n",
       "      <td>1.0</td>\n",
       "      <td>0</td>\n",
       "      <td>0</td>\n",
       "      <td>3</td>\n",
       "      <td>22676.205763</td>\n",
       "      <td>24459.855175</td>\n",
       "      <td>3</td>\n",
       "      <td>3</td>\n",
       "      <td>1</td>\n",
       "      <td>3</td>\n",
       "      <td>0</td>\n",
       "    </tr>\n",
       "  </tbody>\n",
       "</table>\n",
       "</div>"
      ],
      "text/plain": [
       "   file  round  wp_ct_val      wp_t_val  nade_ct_val  nade_t_val  ct_alive  \\\n",
       "0     0      1     1000.0   1166.666667          550        1200         5   \n",
       "1     0      2    10100.0   3687.500000         1100          50         4   \n",
       "2     0      3     4125.0  11700.000000          900        2450         0   \n",
       "3     0      4     1000.0  11700.000000            0        1600         0   \n",
       "4     0      5    15500.0  12750.000000         1400        1700         0   \n",
       "\n",
       "   t_alive  prev_ct_winner  ct_winner  prev_bomb_planted  bomb_planted  \\\n",
       "0        5             0.5          1                0.5             0   \n",
       "1        0             1.0          0                0.0             0   \n",
       "2        1             0.0          0                0.0             1   \n",
       "3        3             0.0          0                1.0             1   \n",
       "4        4             0.0          1                1.0             0   \n",
       "\n",
       "   ct_cons_wins  t_cons_wins   ct_val_pred    t_val_pred  ct_round_type  \\\n",
       "0             0            0   4078.134589   3943.272665              0   \n",
       "1             1            0  17819.702711   6290.616771              2   \n",
       "2             0            1   7038.468589  19600.790638              2   \n",
       "3             0            2   1452.468928  22568.098741              1   \n",
       "4             0            3  22676.205763  24459.855175              3   \n",
       "\n",
       "   t_round_type  ct_nxt_rnd_type_pred  t_nxt_rnd_type_pred  nxt_ct_winner  \n",
       "0             0                     2                    1              0  \n",
       "1             1                     3                    1              1  \n",
       "2             3                     1                    3              1  \n",
       "3             2                     3                    3              0  \n",
       "4             3                     1                    3              0  "
      ]
     },
     "execution_count": 4,
     "metadata": {},
     "output_type": "execute_result"
    }
   ],
   "source": [
    "df.head()"
   ]
  },
  {
   "cell_type": "markdown",
   "metadata": {},
   "source": [
    "#### We are going to predict <code>nxt_ct_winner</code> whose values are 1 if CT is the winner team or 0 if T is the winner team"
   ]
  },
  {
   "cell_type": "markdown",
   "metadata": {},
   "source": [
    "## Define features and target"
   ]
  },
  {
   "cell_type": "code",
   "execution_count": 5,
   "metadata": {},
   "outputs": [
    {
     "data": {
      "text/plain": [
       "Index(['file', 'round', 'wp_ct_val', 'wp_t_val', 'nade_ct_val', 'nade_t_val',\n",
       "       'ct_alive', 't_alive', 'prev_ct_winner', 'ct_winner',\n",
       "       'prev_bomb_planted', 'bomb_planted', 'ct_cons_wins', 't_cons_wins',\n",
       "       'ct_val_pred', 't_val_pred', 'ct_round_type', 't_round_type',\n",
       "       'ct_nxt_rnd_type_pred', 't_nxt_rnd_type_pred', 'nxt_ct_winner'],\n",
       "      dtype='object')"
      ]
     },
     "execution_count": 5,
     "metadata": {},
     "output_type": "execute_result"
    }
   ],
   "source": [
    "df.columns"
   ]
  },
  {
   "cell_type": "code",
   "execution_count": 6,
   "metadata": {},
   "outputs": [],
   "source": [
    "FEATS = ['file', 'round', 'wp_ct_val', 'wp_t_val', 'nade_ct_val', 'nade_t_val',\n",
    "       'ct_alive', 't_alive', 'prev_ct_winner', 'ct_winner',\n",
    "       'prev_bomb_planted', 'bomb_planted', 'ct_cons_wins', 't_cons_wins',\n",
    "       'ct_val_pred', 't_val_pred', 'ct_round_type', 't_round_type',\n",
    "       'ct_nxt_rnd_type_pred', 't_nxt_rnd_type_pred']\n",
    "TARGET = 'nxt_ct_winner'"
   ]
  },
  {
   "cell_type": "markdown",
   "metadata": {},
   "source": [
    "## Split"
   ]
  },
  {
   "cell_type": "code",
   "execution_count": 7,
   "metadata": {},
   "outputs": [],
   "source": [
    "X_train, X_test, y_train, y_test = train_test_split(df[FEATS], df[TARGET])"
   ]
  },
  {
   "cell_type": "markdown",
   "metadata": {},
   "source": [
    "## Algorithm election"
   ]
  },
  {
   "cell_type": "code",
   "execution_count": 7,
   "metadata": {},
   "outputs": [],
   "source": [
    "#Preprocessor\n",
    "\n",
    "numeric_transformer = Pipeline(steps=[('scaler', StandardScaler())])\n",
    "\n",
    "preprocessor = ColumnTransformer(transformers=[('num', numeric_transformer, FEATS)])"
   ]
  },
  {
   "cell_type": "code",
   "execution_count": 9,
   "metadata": {},
   "outputs": [],
   "source": [
    "# regressor = RandomForestClassifier(max_depth=2, random_state=0)\n",
    "# regressor = SGDClassifier(early_stopping=False, loss='log')\n",
    "# regressor = LinearSVC()\n",
    "# regressor = LogisticRegression()\n",
    "# regressor = SVC(gamma='auto', probability=True) # Too slooooow, I did not get a result\n",
    "# regressor = KNeighborsClassifier()\n",
    "regressor = LGBMClassifier()  # better without this (boosting_type='rf', bagging_freq=1, bagging_fraction = 0.9, n_estimators=100)\n",
    "# regressor = GradientBoostingClassifier(n_estimators=100) # Same as LGBM but one-thread processing, too slow\n",
    "# regressor = AdaBoostClassifier(n_estimators=100)\n",
    "# regressor = ExtraTreesClassifier(n_estimators=100)\n",
    "# model = RandomForestClassifier(max_depth=2, random_state=0)\n",
    "# model = SGDClassifier(early_stopping=True, loss='hinge')\n",
    "\n",
    "model = Pipeline(steps=[('preprocessor', preprocessor),\n",
    "                           ('regressor', regressor)])\n",
    "\n",
    "model.fit(X_train, y_train);"
   ]
  },
  {
   "cell_type": "code",
   "execution_count": 10,
   "metadata": {},
   "outputs": [],
   "source": [
    "y_pred = model.predict(X_test)\n",
    "y_prob = model.predict_proba(X_test)"
   ]
  },
  {
   "cell_type": "code",
   "execution_count": 11,
   "metadata": {},
   "outputs": [
    {
     "name": "stdout",
     "output_type": "stream",
     "text": [
      "              precision    recall  f1-score   support\n",
      "\n",
      "           0   0.609173  0.738845  0.667772     43074\n",
      "           1   0.558187  0.410396  0.473016     34630\n",
      "\n",
      "    accuracy                       0.592466     77704\n",
      "   macro avg   0.583680  0.574620  0.570394     77704\n",
      "weighted avg   0.586450  0.592466  0.580976     77704\n",
      "\n"
     ]
    }
   ],
   "source": [
    "sk_report = classification_report(\n",
    "    digits=6,\n",
    "    y_true=y_test, \n",
    "    y_pred=y_pred)\n",
    "print(sk_report)"
   ]
  },
  {
   "cell_type": "code",
   "execution_count": 12,
   "metadata": {},
   "outputs": [
    {
     "data": {
      "text/plain": [
       "0.6197619449761701"
      ]
     },
     "execution_count": 12,
     "metadata": {},
     "output_type": "execute_result"
    }
   ],
   "source": [
    "roc_auc_score(y_test, y_prob[:,1])"
   ]
  },
  {
   "cell_type": "markdown",
   "metadata": {},
   "source": [
    "| Algorithm | Accuracy Score | roc-auc-score |\n",
    "|----------|---------------|------------------|\n",
    "| SGDClassifier | 0.578760 | 0.5911053042759113 |\n",
    "| RandomForestClassifier | 0.571669 | 0.6005791010926799 |\n",
    "| LinearSVC | 0.583278 | no proba |\n",
    "| LogisticRegression | 0.583175 | 0.5963322313284364 |\n",
    "| SVC | Too slow, not finished |  |\n",
    "| KNeighborsClassifier | 0.548157 | 0.555818468720543 |\n",
    "| <font color='green'>LGBMClassifier</font> | <font color='green'>0.591952</font> | <font color='green'>0.6226857960041758</font> |\n",
    "| GradientBoostingClassifier | 0.590793 | 0.6215877286341829 |\n",
    "| AdaBoostClassifier | 0.583149 | 0.6086323297666735 |\n",
    "| ExtraTreesClassifier | 0.569790 | 0.588826622540981 |"
   ]
  },
  {
   "cell_type": "markdown",
   "metadata": {},
   "source": [
    "#### From the experimentation of various algorithms we conclude to use finally **LGBMClassifier** again"
   ]
  },
  {
   "cell_type": "markdown",
   "metadata": {},
   "source": [
    "## Grid search to hyperparameter tuning"
   ]
  },
  {
   "cell_type": "code",
   "execution_count": 13,
   "metadata": {},
   "outputs": [
    {
     "name": "stdout",
     "output_type": "stream",
     "text": [
      "Fitting 5 folds for each of 500 candidates, totalling 2500 fits\n"
     ]
    },
    {
     "name": "stderr",
     "output_type": "stream",
     "text": [
      "[Parallel(n_jobs=-1)]: Using backend LokyBackend with 8 concurrent workers.\n",
      "[Parallel(n_jobs=-1)]: Done   2 tasks      | elapsed:   20.8s\n",
      "[Parallel(n_jobs=-1)]: Done  56 tasks      | elapsed:  2.4min\n",
      "[Parallel(n_jobs=-1)]: Done 146 tasks      | elapsed:  5.9min\n",
      "[Parallel(n_jobs=-1)]: Done 272 tasks      | elapsed: 10.5min\n",
      "[Parallel(n_jobs=-1)]: Done 434 tasks      | elapsed: 16.5min\n",
      "[Parallel(n_jobs=-1)]: Done 632 tasks      | elapsed: 24.1min\n",
      "[Parallel(n_jobs=-1)]: Done 866 tasks      | elapsed: 32.5min\n",
      "[Parallel(n_jobs=-1)]: Done 1136 tasks      | elapsed: 42.5min\n",
      "[Parallel(n_jobs=-1)]: Done 1442 tasks      | elapsed: 53.8min\n",
      "[Parallel(n_jobs=-1)]: Done 1784 tasks      | elapsed: 66.3min\n",
      "[Parallel(n_jobs=-1)]: Done 2162 tasks      | elapsed: 80.0min\n",
      "[Parallel(n_jobs=-1)]: Done 2500 out of 2500 | elapsed: 92.3min finished\n"
     ]
    },
    {
     "data": {
      "text/plain": [
       "RandomizedSearchCV(cv=5,\n",
       "                   estimator=Pipeline(steps=[('t_preprocessor',\n",
       "                                              ColumnTransformer(transformers=[('num',\n",
       "                                                                               Pipeline(steps=[('scaler',\n",
       "                                                                                                StandardScaler())]),\n",
       "                                                                               ['file',\n",
       "                                                                                'round',\n",
       "                                                                                'wp_ct_val',\n",
       "                                                                                'wp_t_val',\n",
       "                                                                                'nade_ct_val',\n",
       "                                                                                'nade_t_val',\n",
       "                                                                                'ct_alive',\n",
       "                                                                                't_alive',\n",
       "                                                                                'prev_ct_winner',\n",
       "                                                                                'ct_winner',\n",
       "                                                                                'prev_bomb_planted',\n",
       "                                                                                'bomb_planted',\n",
       "                                                                                'ct_cons_wins',\n",
       "                                                                                't_cons_wins',\n",
       "                                                                                'ct_val_pred',\n",
       "                                                                                't_...\n",
       "                                                                         0.9,\n",
       "                                                                         0.95,\n",
       "                                                                         1],\n",
       "                                        'regressor__feature_fraction': [0.75,\n",
       "                                                                        0.8,\n",
       "                                                                        0.85,\n",
       "                                                                        0.9,\n",
       "                                                                        0.95,\n",
       "                                                                        1],\n",
       "                                        'regressor__learning_rate': [0.02, 0.03,\n",
       "                                                                     0.04,\n",
       "                                                                     0.045,\n",
       "                                                                     0.05,\n",
       "                                                                     0.055,\n",
       "                                                                     0.06],\n",
       "                                        'regressor__max_depth': [5, 6, 7],\n",
       "                                        'regressor__min_data_in_leaf': [4, 5, 6,\n",
       "                                                                        7, 8,\n",
       "                                                                        12,\n",
       "                                                                        15],\n",
       "                                        'regressor__n_estimators': [350, 360,\n",
       "                                                                    370, 380,\n",
       "                                                                    390, 400,\n",
       "                                                                    410, 420,\n",
       "                                                                    430],\n",
       "                                        'regressor__num_leaves': [47, 48, 49,\n",
       "                                                                  50, 51, 52]},\n",
       "                   scoring='accuracy', verbose=5)"
      ]
     },
     "execution_count": 13,
     "metadata": {},
     "output_type": "execute_result"
    }
   ],
   "source": [
    "# To obtain the best hyperparameters of our model, we test a wider range of values and then \n",
    "# we reduce until obtaining close but different values, in order to obtain the best results.\n",
    "\n",
    "param_grid = {\n",
    "    'regressor__num_leaves': [47,48,49,50,51,52],\n",
    "    'regressor__n_estimators': [350,360,370,380,390,400,410,420,430],\n",
    "    'regressor__min_data_in_leaf': [4,5,6,7,8,12,15],\n",
    "    'regressor__max_depth': [5,6,7],\n",
    "    'regressor__learning_rate': [0.02,0.03,0.04,0.045,0.05,0.055,0.06],\n",
    "    'regressor__feature_fraction': [0.75,0.8,0.85,0.9,0.95,1],\n",
    "    'regressor__bagging_frequency': [0.75,0.80,0.85,0.9,0.95,1],\n",
    "    'regressor__bagging_fraction': [0.75,0.8,0.85,0.9,0.95,1],\n",
    "}\n",
    "\n",
    "\n",
    "regressor = LGBMClassifier()  \n",
    "\n",
    "model = Pipeline(steps=[('t_preprocessor', preprocessor),\n",
    "                           ('regressor', regressor)])\n",
    "\n",
    "# MODEL --------------------------------------\n",
    "\n",
    "grid_search = RandomizedSearchCV(model, \n",
    "                                 param_grid, \n",
    "                                 cv=5, \n",
    "                                 verbose=5, \n",
    "                                 scoring='accuracy', \n",
    "                                 n_jobs=-1,\n",
    "                                 n_iter=500)\n",
    "\n",
    "\n",
    "grid_search.fit(X_train, y_train)"
   ]
  },
  {
   "cell_type": "code",
   "execution_count": 14,
   "metadata": {},
   "outputs": [
    {
     "data": {
      "text/plain": [
       "{'regressor__num_leaves': 49,\n",
       " 'regressor__n_estimators': 360,\n",
       " 'regressor__min_data_in_leaf': 5,\n",
       " 'regressor__max_depth': 5,\n",
       " 'regressor__learning_rate': 0.02,\n",
       " 'regressor__feature_fraction': 0.8,\n",
       " 'regressor__bagging_frequency': 0.8,\n",
       " 'regressor__bagging_fraction': 1}"
      ]
     },
     "execution_count": 14,
     "metadata": {},
     "output_type": "execute_result"
    }
   ],
   "source": [
    "#Once we have trained the model with different hyperparameter values, \n",
    "#we see which parameters have obtained the best score:\n",
    "grid_search.best_params_"
   ]
  },
  {
   "cell_type": "code",
   "execution_count": 15,
   "metadata": {},
   "outputs": [
    {
     "data": {
      "text/plain": [
       "0.5931903135054399"
      ]
     },
     "execution_count": 15,
     "metadata": {},
     "output_type": "execute_result"
    }
   ],
   "source": [
    "# see the best score that we have trained:\n",
    "grid_search.best_score_"
   ]
  },
  {
   "cell_type": "markdown",
   "metadata": {},
   "source": [
    "\n",
    "| Parameter | Value |\n",
    "|----------|---------------|\n",
    "| regressor__num_leaves | 49 |\n",
    "| regressor__n_estimators | 360 |\n",
    "| regressor__min_data_in_leaf | 5 |\n",
    "| regressor__max_depth | 5 |\n",
    "| regressor__learning_rate | 0.02 |\n",
    "| regressor__feature_fraction | 0.8 |\n",
    "| regressor__bagging_frequency | 0.8 |\n",
    "| regressor__bagging_fraction | 1 |\n",
    "| RESULT | 0.5931903135054399 |"
   ]
  },
  {
   "cell_type": "markdown",
   "metadata": {},
   "source": [
    "### Let's look the diference between by default and hyperparameter tuning for LGBMClassifier"
   ]
  },
  {
   "cell_type": "code",
   "execution_count": 8,
   "metadata": {},
   "outputs": [],
   "source": [
    "#Preprocessor\n",
    "\n",
    "numeric_transformer = Pipeline(steps=[('scaler', StandardScaler())])\n",
    "\n",
    "preprocessor = ColumnTransformer(transformers=[('num', numeric_transformer, FEATS)])"
   ]
  },
  {
   "cell_type": "code",
   "execution_count": 9,
   "metadata": {},
   "outputs": [],
   "source": [
    "regressor = LGBMClassifier()\n",
    "\n",
    "# regressor = LGBMClassifier(num_leaves=49,\n",
    "#                           n_estimators=360,\n",
    "#                           min_data_in_leaf=5,\n",
    "#                           max_depth=5,\n",
    "#                           learning_rate=0.02,\n",
    "#                           feature_fraction=0.8,\n",
    "#                           bagging_frequency=0.8,\n",
    "#                           bagging_fraction=1)\n",
    "\n",
    "# regressor = LGBMClassifier(num_leaves=50,\n",
    "#                           n_estimators=350,\n",
    "#                           min_data_in_leaf=15,\n",
    "#                           max_depth=7,\n",
    "#                           learning_rate=0.055,\n",
    "#                           feature_fraction=0.8,\n",
    "#                           bagging_frequency=0.75,\n",
    "#                           bagging_fraction=0.75)\n",
    "\n",
    "model = Pipeline(steps=[('preprocessor', preprocessor),\n",
    "                           ('regressor', regressor)])\n",
    "\n",
    "model.fit(X_train, y_train);"
   ]
  },
  {
   "cell_type": "code",
   "execution_count": 10,
   "metadata": {},
   "outputs": [],
   "source": [
    "y_pred = model.predict(X_test)\n",
    "y_prob = model.predict_proba(X_test)"
   ]
  },
  {
   "cell_type": "code",
   "execution_count": 11,
   "metadata": {},
   "outputs": [
    {
     "name": "stdout",
     "output_type": "stream",
     "text": [
      "              precision    recall  f1-score   support\n",
      "\n",
      "           0   0.609604  0.742644  0.669580     43127\n",
      "           1   0.558951  0.406802  0.470892     34577\n",
      "\n",
      "    accuracy                       0.593200     77704\n",
      "   macro avg   0.584278  0.574723  0.570236     77704\n",
      "weighted avg   0.587064  0.593200  0.581167     77704\n",
      "\n"
     ]
    }
   ],
   "source": [
    "sk_report = classification_report(\n",
    "    digits=6,\n",
    "    y_true=y_test, \n",
    "    y_pred=y_pred)\n",
    "print(sk_report)"
   ]
  },
  {
   "cell_type": "code",
   "execution_count": 12,
   "metadata": {},
   "outputs": [
    {
     "data": {
      "text/plain": [
       "0.623211161615989"
      ]
     },
     "execution_count": 12,
     "metadata": {},
     "output_type": "execute_result"
    }
   ],
   "source": [
    "roc_auc_score(y_test, y_prob[:,1])"
   ]
  },
  {
   "cell_type": "markdown",
   "metadata": {},
   "source": [
    "| Algorithm | Accuracy Score | roc-auc-score |\n",
    "|----------|---------------|------------------|\n",
    "| <font color='green'>LGBMC default</font> | <font color='green'>0.593200</font> | <font color='green'>0.623211161615989</font> |\n",
    "| LGBMC hyp. gridsearch | 0.591861 | 0.6222019109276811 |\n",
    "| LGBMC hyp. 4_3 | 0.592711 | 0.624584921501874 |"
   ]
  },
  {
   "cell_type": "markdown",
   "metadata": {},
   "source": [
    "After comparing the performance of LGBMClassifier with the hyperparameters obtained from the grid search, and the parameters of the 4_3_ml_algorithm we saw that it reaches a better score with the **default parameters**.\n",
    "\n",
    "Maybe we are not making an accurate grid search"
   ]
  },
  {
   "cell_type": "markdown",
   "metadata": {},
   "source": [
    "### **TRAIN MODEL WITH FULL DATASET & SAVE**"
   ]
  },
  {
   "cell_type": "code",
   "execution_count": 8,
   "metadata": {},
   "outputs": [],
   "source": [
    "regressor = LGBMClassifier()\n",
    "\n",
    "model = Pipeline(steps=[('preprocessor', preprocessor),\n",
    "                           ('regressor', regressor)])\n",
    "\n",
    "model.fit(df[FEATS], df[TARGET]);\n",
    "\n",
    "nxt_ct_winner_pred = model.predict(df[FEATS])"
   ]
  },
  {
   "cell_type": "code",
   "execution_count": 9,
   "metadata": {},
   "outputs": [
    {
     "data": {
      "text/plain": [
       "['../models/nxt_ct_winner.joblib']"
      ]
     },
     "execution_count": 9,
     "metadata": {},
     "output_type": "execute_result"
    }
   ],
   "source": [
    "dump(model, '../models/nxt_ct_winner.joblib') # Save model"
   ]
  },
  {
   "cell_type": "code",
   "execution_count": 10,
   "metadata": {},
   "outputs": [],
   "source": [
    "df['nxt_ct_winner_pred'] = nxt_ct_winner_pred"
   ]
  },
  {
   "cell_type": "code",
   "execution_count": 11,
   "metadata": {},
   "outputs": [],
   "source": [
    "df.to_csv('../data/results/predicted_nxt_ct_winner.csv', index=False) # Export the DataFrame with the prediction column added"
   ]
  },
  {
   "cell_type": "code",
   "execution_count": 12,
   "metadata": {},
   "outputs": [
    {
     "data": {
      "text/html": [
       "<div>\n",
       "<style scoped>\n",
       "    .dataframe tbody tr th:only-of-type {\n",
       "        vertical-align: middle;\n",
       "    }\n",
       "\n",
       "    .dataframe tbody tr th {\n",
       "        vertical-align: top;\n",
       "    }\n",
       "\n",
       "    .dataframe thead th {\n",
       "        text-align: right;\n",
       "    }\n",
       "</style>\n",
       "<table border=\"1\" class=\"dataframe\">\n",
       "  <thead>\n",
       "    <tr style=\"text-align: right;\">\n",
       "      <th></th>\n",
       "      <th>file</th>\n",
       "      <th>round</th>\n",
       "      <th>wp_ct_val</th>\n",
       "      <th>wp_t_val</th>\n",
       "      <th>nade_ct_val</th>\n",
       "      <th>nade_t_val</th>\n",
       "      <th>ct_alive</th>\n",
       "      <th>t_alive</th>\n",
       "      <th>prev_ct_winner</th>\n",
       "      <th>ct_winner</th>\n",
       "      <th>prev_bomb_planted</th>\n",
       "      <th>bomb_planted</th>\n",
       "      <th>ct_cons_wins</th>\n",
       "      <th>t_cons_wins</th>\n",
       "      <th>ct_val_pred</th>\n",
       "      <th>t_val_pred</th>\n",
       "      <th>ct_round_type</th>\n",
       "      <th>t_round_type</th>\n",
       "      <th>ct_nxt_rnd_type_pred</th>\n",
       "      <th>t_nxt_rnd_type_pred</th>\n",
       "      <th>nxt_ct_winner</th>\n",
       "      <th>nxt_ct_winner_pred</th>\n",
       "    </tr>\n",
       "  </thead>\n",
       "  <tbody>\n",
       "    <tr>\n",
       "      <th>0</th>\n",
       "      <td>0</td>\n",
       "      <td>1</td>\n",
       "      <td>1000.0</td>\n",
       "      <td>1166.666667</td>\n",
       "      <td>550</td>\n",
       "      <td>1200</td>\n",
       "      <td>5</td>\n",
       "      <td>5</td>\n",
       "      <td>0.5</td>\n",
       "      <td>1</td>\n",
       "      <td>0.5</td>\n",
       "      <td>0</td>\n",
       "      <td>0</td>\n",
       "      <td>0</td>\n",
       "      <td>4078.134589</td>\n",
       "      <td>3943.272665</td>\n",
       "      <td>0</td>\n",
       "      <td>0</td>\n",
       "      <td>2</td>\n",
       "      <td>1</td>\n",
       "      <td>0</td>\n",
       "      <td>0</td>\n",
       "    </tr>\n",
       "    <tr>\n",
       "      <th>1</th>\n",
       "      <td>0</td>\n",
       "      <td>2</td>\n",
       "      <td>10100.0</td>\n",
       "      <td>3687.500000</td>\n",
       "      <td>1100</td>\n",
       "      <td>50</td>\n",
       "      <td>4</td>\n",
       "      <td>0</td>\n",
       "      <td>1.0</td>\n",
       "      <td>0</td>\n",
       "      <td>0.0</td>\n",
       "      <td>0</td>\n",
       "      <td>1</td>\n",
       "      <td>0</td>\n",
       "      <td>17819.702711</td>\n",
       "      <td>6290.616771</td>\n",
       "      <td>2</td>\n",
       "      <td>1</td>\n",
       "      <td>3</td>\n",
       "      <td>1</td>\n",
       "      <td>1</td>\n",
       "      <td>0</td>\n",
       "    </tr>\n",
       "    <tr>\n",
       "      <th>2</th>\n",
       "      <td>0</td>\n",
       "      <td>3</td>\n",
       "      <td>4125.0</td>\n",
       "      <td>11700.000000</td>\n",
       "      <td>900</td>\n",
       "      <td>2450</td>\n",
       "      <td>0</td>\n",
       "      <td>1</td>\n",
       "      <td>0.0</td>\n",
       "      <td>0</td>\n",
       "      <td>0.0</td>\n",
       "      <td>1</td>\n",
       "      <td>0</td>\n",
       "      <td>1</td>\n",
       "      <td>7038.468589</td>\n",
       "      <td>19600.790638</td>\n",
       "      <td>2</td>\n",
       "      <td>3</td>\n",
       "      <td>1</td>\n",
       "      <td>3</td>\n",
       "      <td>1</td>\n",
       "      <td>1</td>\n",
       "    </tr>\n",
       "    <tr>\n",
       "      <th>3</th>\n",
       "      <td>0</td>\n",
       "      <td>4</td>\n",
       "      <td>1000.0</td>\n",
       "      <td>11700.000000</td>\n",
       "      <td>0</td>\n",
       "      <td>1600</td>\n",
       "      <td>0</td>\n",
       "      <td>3</td>\n",
       "      <td>0.0</td>\n",
       "      <td>0</td>\n",
       "      <td>1.0</td>\n",
       "      <td>1</td>\n",
       "      <td>0</td>\n",
       "      <td>2</td>\n",
       "      <td>1452.468928</td>\n",
       "      <td>22568.098741</td>\n",
       "      <td>1</td>\n",
       "      <td>2</td>\n",
       "      <td>3</td>\n",
       "      <td>3</td>\n",
       "      <td>0</td>\n",
       "      <td>0</td>\n",
       "    </tr>\n",
       "    <tr>\n",
       "      <th>4</th>\n",
       "      <td>0</td>\n",
       "      <td>5</td>\n",
       "      <td>15500.0</td>\n",
       "      <td>12750.000000</td>\n",
       "      <td>1400</td>\n",
       "      <td>1700</td>\n",
       "      <td>0</td>\n",
       "      <td>4</td>\n",
       "      <td>0.0</td>\n",
       "      <td>1</td>\n",
       "      <td>1.0</td>\n",
       "      <td>0</td>\n",
       "      <td>0</td>\n",
       "      <td>3</td>\n",
       "      <td>22676.205763</td>\n",
       "      <td>24459.855175</td>\n",
       "      <td>3</td>\n",
       "      <td>3</td>\n",
       "      <td>1</td>\n",
       "      <td>3</td>\n",
       "      <td>0</td>\n",
       "      <td>0</td>\n",
       "    </tr>\n",
       "  </tbody>\n",
       "</table>\n",
       "</div>"
      ],
      "text/plain": [
       "   file  round  wp_ct_val      wp_t_val  nade_ct_val  nade_t_val  ct_alive  \\\n",
       "0     0      1     1000.0   1166.666667          550        1200         5   \n",
       "1     0      2    10100.0   3687.500000         1100          50         4   \n",
       "2     0      3     4125.0  11700.000000          900        2450         0   \n",
       "3     0      4     1000.0  11700.000000            0        1600         0   \n",
       "4     0      5    15500.0  12750.000000         1400        1700         0   \n",
       "\n",
       "   t_alive  prev_ct_winner  ct_winner  prev_bomb_planted  bomb_planted  \\\n",
       "0        5             0.5          1                0.5             0   \n",
       "1        0             1.0          0                0.0             0   \n",
       "2        1             0.0          0                0.0             1   \n",
       "3        3             0.0          0                1.0             1   \n",
       "4        4             0.0          1                1.0             0   \n",
       "\n",
       "   ct_cons_wins  t_cons_wins   ct_val_pred    t_val_pred  ct_round_type  \\\n",
       "0             0            0   4078.134589   3943.272665              0   \n",
       "1             1            0  17819.702711   6290.616771              2   \n",
       "2             0            1   7038.468589  19600.790638              2   \n",
       "3             0            2   1452.468928  22568.098741              1   \n",
       "4             0            3  22676.205763  24459.855175              3   \n",
       "\n",
       "   t_round_type  ct_nxt_rnd_type_pred  t_nxt_rnd_type_pred  nxt_ct_winner  \\\n",
       "0             0                     2                    1              0   \n",
       "1             1                     3                    1              1   \n",
       "2             3                     1                    3              1   \n",
       "3             2                     3                    3              0   \n",
       "4             3                     1                    3              0   \n",
       "\n",
       "   nxt_ct_winner_pred  \n",
       "0                   0  \n",
       "1                   0  \n",
       "2                   1  \n",
       "3                   0  \n",
       "4                   0  "
      ]
     },
     "execution_count": 12,
     "metadata": {},
     "output_type": "execute_result"
    }
   ],
   "source": [
    "df.head()"
   ]
  }
 ],
 "metadata": {
  "kernelspec": {
   "display_name": "Python [conda env:ironhack_env]",
   "language": "python",
   "name": "conda-env-ironhack_env-py"
  },
  "language_info": {
   "codemirror_mode": {
    "name": "ipython",
    "version": 3
   },
   "file_extension": ".py",
   "mimetype": "text/x-python",
   "name": "python",
   "nbconvert_exporter": "python",
   "pygments_lexer": "ipython3",
   "version": "3.7.3"
  }
 },
 "nbformat": 4,
 "nbformat_minor": 4
}
