{
 "cells": [
  {
   "cell_type": "code",
   "execution_count": 2,
   "metadata": {},
   "outputs": [],
   "source": [
    "import pandas as pd\n",
    "\n",
    "from sklearn.pipeline import Pipeline\n",
    "from sklearn.compose import ColumnTransformer\n",
    "from sklearn.preprocessing import StandardScaler\n",
    "from sklearn.model_selection import train_test_split\n",
    "from sklearn.metrics import mean_squared_error, r2_score\n",
    "\n",
    "from lightgbm import LGBMRegressor"
   ]
  },
  {
   "cell_type": "code",
   "execution_count": 3,
   "metadata": {},
   "outputs": [],
   "source": [
    "ct_df = pd.read_csv('../data/results/ct_predicted_value')\n",
    "t_df = pd.read_csv('../data/results/t_predicted_value')"
   ]
  },
  {
   "cell_type": "code",
   "execution_count": 5,
   "metadata": {},
   "outputs": [],
   "source": [
    "ct_df.drop(columns=['Unnamed: 0'], inplace=True)"
   ]
  },
  {
   "cell_type": "code",
   "execution_count": 8,
   "metadata": {},
   "outputs": [
    {
     "name": "stdout",
     "output_type": "stream",
     "text": [
      "500/12185\n",
      "1000/12185\n",
      "1500/12185\n",
      "2000/12185\n",
      "2500/12185\n",
      "3000/12185\n",
      "3500/12185\n",
      "4000/12185\n",
      "4500/12185\n",
      "5000/12185\n",
      "5500/12185\n",
      "6000/12185\n",
      "6500/12185\n",
      "7000/12185\n",
      "7500/12185\n",
      "8000/12185\n",
      "8500/12185\n",
      "9000/12185\n",
      "9500/12185\n",
      "10000/12185\n",
      "10500/12185\n",
      "11000/12185\n",
      "11500/12185\n",
      "12000/12185\n"
     ]
    }
   ],
   "source": [
    "files = ct_df['file'].unique()\n",
    "\n",
    "nxt_rnd_ct_val = []\n",
    "\n",
    "log = 0\n",
    "for file in files:\n",
    "    \n",
    "    ct_df_file = ct_df[ct_df['file'] == file]\n",
    "    rounds = ct_df_file['round'].unique()\n",
    "    log += 1\n",
    "    if log % 500 == 0:\n",
    "        print(f'{log}/12185')\n",
    "    \n",
    "    for rnd in rounds:\n",
    "        if rnd == rounds[-1]:\n",
    "            nxt_rnd_ct_val.append(0)\n",
    "        else:\n",
    "            nxt_rnd_ct_val.append(ct_df_file[ct_df_file['round'] == rnd +1]['ct_val_real'].values[0])"
   ]
  },
  {
   "cell_type": "code",
   "execution_count": 9,
   "metadata": {},
   "outputs": [],
   "source": [
    "ct_df['nxt_rnd_ct_val'] = nxt_rnd_ct_val"
   ]
  },
  {
   "cell_type": "code",
   "execution_count": 11,
   "metadata": {},
   "outputs": [],
   "source": [
    "ct_df.drop(columns=['ct_val_real'], inplace=True)"
   ]
  },
  {
   "cell_type": "code",
   "execution_count": 12,
   "metadata": {},
   "outputs": [
    {
     "data": {
      "text/html": [
       "<div>\n",
       "<style scoped>\n",
       "    .dataframe tbody tr th:only-of-type {\n",
       "        vertical-align: middle;\n",
       "    }\n",
       "\n",
       "    .dataframe tbody tr th {\n",
       "        vertical-align: top;\n",
       "    }\n",
       "\n",
       "    .dataframe thead th {\n",
       "        text-align: right;\n",
       "    }\n",
       "</style>\n",
       "<table border=\"1\" class=\"dataframe\">\n",
       "  <thead>\n",
       "    <tr style=\"text-align: right;\">\n",
       "      <th></th>\n",
       "      <th>file</th>\n",
       "      <th>round</th>\n",
       "      <th>wp_ct_val</th>\n",
       "      <th>nade_ct_val</th>\n",
       "      <th>ct_alive</th>\n",
       "      <th>t_alive</th>\n",
       "      <th>ct_winner</th>\n",
       "      <th>bomb_planted</th>\n",
       "      <th>ct_cons_wins</th>\n",
       "      <th>t_cons_wins</th>\n",
       "      <th>ct_val_pred</th>\n",
       "      <th>nxt_rnd_ct_val</th>\n",
       "    </tr>\n",
       "  </thead>\n",
       "  <tbody>\n",
       "    <tr>\n",
       "      <th>0</th>\n",
       "      <td>0</td>\n",
       "      <td>1</td>\n",
       "      <td>1000.0</td>\n",
       "      <td>550</td>\n",
       "      <td>5</td>\n",
       "      <td>5</td>\n",
       "      <td>0.5</td>\n",
       "      <td>0.5</td>\n",
       "      <td>0</td>\n",
       "      <td>0</td>\n",
       "      <td>4078.134589</td>\n",
       "      <td>18450</td>\n",
       "    </tr>\n",
       "    <tr>\n",
       "      <th>1</th>\n",
       "      <td>0</td>\n",
       "      <td>2</td>\n",
       "      <td>10100.0</td>\n",
       "      <td>1100</td>\n",
       "      <td>4</td>\n",
       "      <td>0</td>\n",
       "      <td>1.0</td>\n",
       "      <td>0.0</td>\n",
       "      <td>1</td>\n",
       "      <td>0</td>\n",
       "      <td>17819.702711</td>\n",
       "      <td>9550</td>\n",
       "    </tr>\n",
       "    <tr>\n",
       "      <th>2</th>\n",
       "      <td>0</td>\n",
       "      <td>3</td>\n",
       "      <td>4125.0</td>\n",
       "      <td>900</td>\n",
       "      <td>0</td>\n",
       "      <td>1</td>\n",
       "      <td>0.0</td>\n",
       "      <td>0.0</td>\n",
       "      <td>0</td>\n",
       "      <td>1</td>\n",
       "      <td>7038.468589</td>\n",
       "      <td>1600</td>\n",
       "    </tr>\n",
       "    <tr>\n",
       "      <th>3</th>\n",
       "      <td>0</td>\n",
       "      <td>4</td>\n",
       "      <td>1000.0</td>\n",
       "      <td>0</td>\n",
       "      <td>0</td>\n",
       "      <td>3</td>\n",
       "      <td>0.0</td>\n",
       "      <td>1.0</td>\n",
       "      <td>0</td>\n",
       "      <td>2</td>\n",
       "      <td>1452.468928</td>\n",
       "      <td>23350</td>\n",
       "    </tr>\n",
       "    <tr>\n",
       "      <th>4</th>\n",
       "      <td>0</td>\n",
       "      <td>5</td>\n",
       "      <td>15500.0</td>\n",
       "      <td>1400</td>\n",
       "      <td>0</td>\n",
       "      <td>4</td>\n",
       "      <td>0.0</td>\n",
       "      <td>1.0</td>\n",
       "      <td>0</td>\n",
       "      <td>3</td>\n",
       "      <td>22676.205763</td>\n",
       "      <td>26400</td>\n",
       "    </tr>\n",
       "  </tbody>\n",
       "</table>\n",
       "</div>"
      ],
      "text/plain": [
       "   file  round  wp_ct_val  nade_ct_val  ct_alive  t_alive  ct_winner  \\\n",
       "0     0      1     1000.0          550         5        5        0.5   \n",
       "1     0      2    10100.0         1100         4        0        1.0   \n",
       "2     0      3     4125.0          900         0        1        0.0   \n",
       "3     0      4     1000.0            0         0        3        0.0   \n",
       "4     0      5    15500.0         1400         0        4        0.0   \n",
       "\n",
       "   bomb_planted  ct_cons_wins  t_cons_wins   ct_val_pred  nxt_rnd_ct_val  \n",
       "0           0.5             0            0   4078.134589           18450  \n",
       "1           0.0             1            0  17819.702711            9550  \n",
       "2           0.0             0            1   7038.468589            1600  \n",
       "3           1.0             0            2   1452.468928           23350  \n",
       "4           1.0             0            3  22676.205763           26400  "
      ]
     },
     "execution_count": 12,
     "metadata": {},
     "output_type": "execute_result"
    }
   ],
   "source": [
    "ct_df.head()"
   ]
  },
  {
   "cell_type": "code",
   "execution_count": 14,
   "metadata": {},
   "outputs": [],
   "source": [
    "FEATS = ['file', 'round', 'wp_ct_val', 'nade_ct_val', 'ct_alive', 't_alive', \n",
    "         'ct_winner', 'bomb_planted', 'ct_cons_wins', 't_cons_wins', \n",
    "         'ct_val_pred']\n",
    "\n",
    "TARGET = ['nxt_rnd_ct_val']"
   ]
  },
  {
   "cell_type": "code",
   "execution_count": 15,
   "metadata": {},
   "outputs": [],
   "source": [
    "numeric_transformer = Pipeline(steps=[('sacler', StandardScaler())])"
   ]
  },
  {
   "cell_type": "code",
   "execution_count": 16,
   "metadata": {},
   "outputs": [],
   "source": [
    "preprocessor = ColumnTransformer(transformers=[('num', numeric_transformer, FEATS)])"
   ]
  },
  {
   "cell_type": "code",
   "execution_count": 17,
   "metadata": {},
   "outputs": [],
   "source": [
    "ct_train, ct_test = train_test_split(ct_df)"
   ]
  },
  {
   "cell_type": "code",
   "execution_count": 18,
   "metadata": {},
   "outputs": [
    {
     "name": "stdout",
     "output_type": "stream",
     "text": [
      "(233109, 12) (77704, 12)\n"
     ]
    }
   ],
   "source": [
    "print(ct_train.shape, ct_test.shape)"
   ]
  },
  {
   "cell_type": "code",
   "execution_count": 19,
   "metadata": {},
   "outputs": [],
   "source": [
    "regressor = LGBMRegressor()"
   ]
  },
  {
   "cell_type": "code",
   "execution_count": 20,
   "metadata": {},
   "outputs": [],
   "source": [
    "model = Pipeline(steps=[('preprocessor', preprocessor), ('regressor', regressor)])"
   ]
  },
  {
   "cell_type": "code",
   "execution_count": 21,
   "metadata": {},
   "outputs": [
    {
     "name": "stderr",
     "output_type": "stream",
     "text": [
      "/home/victor/miniconda3/envs/ironhack_env/lib/python3.7/site-packages/sklearn/utils/validation.py:72: DataConversionWarning: A column-vector y was passed when a 1d array was expected. Please change the shape of y to (n_samples, ), for example using ravel().\n",
      "  return f(**kwargs)\n"
     ]
    },
    {
     "data": {
      "text/plain": [
       "Pipeline(steps=[('preprocessor',\n",
       "                 ColumnTransformer(transformers=[('num',\n",
       "                                                  Pipeline(steps=[('sacler',\n",
       "                                                                   StandardScaler())]),\n",
       "                                                  ['file', 'round', 'wp_ct_val',\n",
       "                                                   'nade_ct_val', 'ct_alive',\n",
       "                                                   't_alive', 'ct_winner',\n",
       "                                                   'bomb_planted',\n",
       "                                                   'ct_cons_wins',\n",
       "                                                   't_cons_wins',\n",
       "                                                   'ct_val_pred'])])),\n",
       "                ('regressor', LGBMRegressor())])"
      ]
     },
     "execution_count": 21,
     "metadata": {},
     "output_type": "execute_result"
    }
   ],
   "source": [
    "model.fit(ct_train[FEATS], ct_train[TARGET])"
   ]
  },
  {
   "cell_type": "code",
   "execution_count": 22,
   "metadata": {},
   "outputs": [],
   "source": [
    "y_ct_train = model.predict(ct_train[FEATS])"
   ]
  },
  {
   "cell_type": "code",
   "execution_count": 24,
   "metadata": {},
   "outputs": [
    {
     "data": {
      "text/plain": [
       "0.3527883569907234"
      ]
     },
     "execution_count": 24,
     "metadata": {},
     "output_type": "execute_result"
    }
   ],
   "source": [
    "r2_score(y_true = ct_train[TARGET], y_pred = y_ct_train)"
   ]
  }
 ],
 "metadata": {
  "kernelspec": {
   "display_name": "Python [conda env:ironhack_env]",
   "language": "python",
   "name": "conda-env-ironhack_env-py"
  },
  "language_info": {
   "codemirror_mode": {
    "name": "ipython",
    "version": 3
   },
   "file_extension": ".py",
   "mimetype": "text/x-python",
   "name": "python",
   "nbconvert_exporter": "python",
   "pygments_lexer": "ipython3",
   "version": "3.7.3"
  }
 },
 "nbformat": 4,
 "nbformat_minor": 4
}
