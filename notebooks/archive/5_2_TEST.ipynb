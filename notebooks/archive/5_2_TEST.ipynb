{
 "cells": [
  {
   "cell_type": "markdown",
   "metadata": {},
   "source": [
    "## **Supervised ML classification algorithm to predict next round wiiner team (CT & T)**\n",
    "## **Algorithm**"
   ]
  },
  {
   "cell_type": "code",
   "execution_count": 1,
   "metadata": {},
   "outputs": [],
   "source": [
    "import pandas as pd\n",
    "\n",
    "from sklearn.pipeline import Pipeline\n",
    "from sklearn.compose import ColumnTransformer\n",
    "from sklearn.preprocessing import StandardScaler\n",
    "from sklearn.model_selection import train_test_split, RandomizedSearchCV\n",
    "from sklearn.metrics import roc_auc_score, classification_report\n",
    "\n",
    "from sklearn.linear_model import SGDClassifier, LogisticRegression\n",
    "from sklearn.ensemble import RandomForestClassifier, GradientBoostingClassifier, AdaBoostClassifier, ExtraTreesClassifier\n",
    "from sklearn.svm import LinearSVC, SVC\n",
    "from sklearn.neighbors import KNeighborsClassifier\n",
    "from lightgbm import LGBMClassifier"
   ]
  },
  {
   "cell_type": "code",
   "execution_count": 2,
   "metadata": {},
   "outputs": [],
   "source": [
    "pd.set_option('display.max_columns', 30)\n",
    "pd.set_option('display.max_rows', 30)"
   ]
  },
  {
   "cell_type": "markdown",
   "metadata": {},
   "source": [
    "### Data"
   ]
  },
  {
   "cell_type": "code",
   "execution_count": 3,
   "metadata": {},
   "outputs": [],
   "source": [
    "df = pd.read_csv('../data/processed/5_1_base_predict_winner.csv')"
   ]
  },
  {
   "cell_type": "code",
   "execution_count": 4,
   "metadata": {},
   "outputs": [
    {
     "data": {
      "text/html": [
       "<div>\n",
       "<style scoped>\n",
       "    .dataframe tbody tr th:only-of-type {\n",
       "        vertical-align: middle;\n",
       "    }\n",
       "\n",
       "    .dataframe tbody tr th {\n",
       "        vertical-align: top;\n",
       "    }\n",
       "\n",
       "    .dataframe thead th {\n",
       "        text-align: right;\n",
       "    }\n",
       "</style>\n",
       "<table border=\"1\" class=\"dataframe\">\n",
       "  <thead>\n",
       "    <tr style=\"text-align: right;\">\n",
       "      <th></th>\n",
       "      <th>file</th>\n",
       "      <th>round</th>\n",
       "      <th>wp_ct_val</th>\n",
       "      <th>wp_t_val</th>\n",
       "      <th>nade_ct_val</th>\n",
       "      <th>nade_t_val</th>\n",
       "      <th>ct_alive</th>\n",
       "      <th>t_alive</th>\n",
       "      <th>prev_ct_winner</th>\n",
       "      <th>ct_winner</th>\n",
       "      <th>prev_bomb_planted</th>\n",
       "      <th>bomb_planted</th>\n",
       "      <th>ct_cons_wins</th>\n",
       "      <th>t_cons_wins</th>\n",
       "      <th>ct_val_pred</th>\n",
       "      <th>t_val_pred</th>\n",
       "      <th>ct_round_type</th>\n",
       "      <th>t_round_type</th>\n",
       "      <th>ct_nxt_rnd_type_pred</th>\n",
       "      <th>t_nxt_rnd_type_pred</th>\n",
       "      <th>nxt_ct_winner</th>\n",
       "    </tr>\n",
       "  </thead>\n",
       "  <tbody>\n",
       "    <tr>\n",
       "      <th>0</th>\n",
       "      <td>0</td>\n",
       "      <td>1</td>\n",
       "      <td>1000.0</td>\n",
       "      <td>1166.666667</td>\n",
       "      <td>550</td>\n",
       "      <td>1200</td>\n",
       "      <td>5</td>\n",
       "      <td>5</td>\n",
       "      <td>0.5</td>\n",
       "      <td>1</td>\n",
       "      <td>0.5</td>\n",
       "      <td>0</td>\n",
       "      <td>0</td>\n",
       "      <td>0</td>\n",
       "      <td>4078.134589</td>\n",
       "      <td>3943.272665</td>\n",
       "      <td>0</td>\n",
       "      <td>0</td>\n",
       "      <td>2</td>\n",
       "      <td>1</td>\n",
       "      <td>0</td>\n",
       "    </tr>\n",
       "    <tr>\n",
       "      <th>1</th>\n",
       "      <td>0</td>\n",
       "      <td>2</td>\n",
       "      <td>10100.0</td>\n",
       "      <td>3687.500000</td>\n",
       "      <td>1100</td>\n",
       "      <td>50</td>\n",
       "      <td>4</td>\n",
       "      <td>0</td>\n",
       "      <td>1.0</td>\n",
       "      <td>0</td>\n",
       "      <td>0.0</td>\n",
       "      <td>0</td>\n",
       "      <td>1</td>\n",
       "      <td>0</td>\n",
       "      <td>17819.702711</td>\n",
       "      <td>6290.616771</td>\n",
       "      <td>2</td>\n",
       "      <td>1</td>\n",
       "      <td>3</td>\n",
       "      <td>1</td>\n",
       "      <td>1</td>\n",
       "    </tr>\n",
       "    <tr>\n",
       "      <th>2</th>\n",
       "      <td>0</td>\n",
       "      <td>3</td>\n",
       "      <td>4125.0</td>\n",
       "      <td>11700.000000</td>\n",
       "      <td>900</td>\n",
       "      <td>2450</td>\n",
       "      <td>0</td>\n",
       "      <td>1</td>\n",
       "      <td>0.0</td>\n",
       "      <td>0</td>\n",
       "      <td>0.0</td>\n",
       "      <td>1</td>\n",
       "      <td>0</td>\n",
       "      <td>1</td>\n",
       "      <td>7038.468589</td>\n",
       "      <td>19600.790638</td>\n",
       "      <td>2</td>\n",
       "      <td>3</td>\n",
       "      <td>1</td>\n",
       "      <td>3</td>\n",
       "      <td>1</td>\n",
       "    </tr>\n",
       "    <tr>\n",
       "      <th>3</th>\n",
       "      <td>0</td>\n",
       "      <td>4</td>\n",
       "      <td>1000.0</td>\n",
       "      <td>11700.000000</td>\n",
       "      <td>0</td>\n",
       "      <td>1600</td>\n",
       "      <td>0</td>\n",
       "      <td>3</td>\n",
       "      <td>0.0</td>\n",
       "      <td>0</td>\n",
       "      <td>1.0</td>\n",
       "      <td>1</td>\n",
       "      <td>0</td>\n",
       "      <td>2</td>\n",
       "      <td>1452.468928</td>\n",
       "      <td>22568.098741</td>\n",
       "      <td>1</td>\n",
       "      <td>2</td>\n",
       "      <td>3</td>\n",
       "      <td>3</td>\n",
       "      <td>0</td>\n",
       "    </tr>\n",
       "    <tr>\n",
       "      <th>4</th>\n",
       "      <td>0</td>\n",
       "      <td>5</td>\n",
       "      <td>15500.0</td>\n",
       "      <td>12750.000000</td>\n",
       "      <td>1400</td>\n",
       "      <td>1700</td>\n",
       "      <td>0</td>\n",
       "      <td>4</td>\n",
       "      <td>0.0</td>\n",
       "      <td>1</td>\n",
       "      <td>1.0</td>\n",
       "      <td>0</td>\n",
       "      <td>0</td>\n",
       "      <td>3</td>\n",
       "      <td>22676.205763</td>\n",
       "      <td>24459.855175</td>\n",
       "      <td>3</td>\n",
       "      <td>3</td>\n",
       "      <td>1</td>\n",
       "      <td>3</td>\n",
       "      <td>0</td>\n",
       "    </tr>\n",
       "  </tbody>\n",
       "</table>\n",
       "</div>"
      ],
      "text/plain": [
       "   file  round  wp_ct_val      wp_t_val  nade_ct_val  nade_t_val  ct_alive  \\\n",
       "0     0      1     1000.0   1166.666667          550        1200         5   \n",
       "1     0      2    10100.0   3687.500000         1100          50         4   \n",
       "2     0      3     4125.0  11700.000000          900        2450         0   \n",
       "3     0      4     1000.0  11700.000000            0        1600         0   \n",
       "4     0      5    15500.0  12750.000000         1400        1700         0   \n",
       "\n",
       "   t_alive  prev_ct_winner  ct_winner  prev_bomb_planted  bomb_planted  \\\n",
       "0        5             0.5          1                0.5             0   \n",
       "1        0             1.0          0                0.0             0   \n",
       "2        1             0.0          0                0.0             1   \n",
       "3        3             0.0          0                1.0             1   \n",
       "4        4             0.0          1                1.0             0   \n",
       "\n",
       "   ct_cons_wins  t_cons_wins   ct_val_pred    t_val_pred  ct_round_type  \\\n",
       "0             0            0   4078.134589   3943.272665              0   \n",
       "1             1            0  17819.702711   6290.616771              2   \n",
       "2             0            1   7038.468589  19600.790638              2   \n",
       "3             0            2   1452.468928  22568.098741              1   \n",
       "4             0            3  22676.205763  24459.855175              3   \n",
       "\n",
       "   t_round_type  ct_nxt_rnd_type_pred  t_nxt_rnd_type_pred  nxt_ct_winner  \n",
       "0             0                     2                    1              0  \n",
       "1             1                     3                    1              1  \n",
       "2             3                     1                    3              1  \n",
       "3             2                     3                    3              0  \n",
       "4             3                     1                    3              0  "
      ]
     },
     "execution_count": 4,
     "metadata": {},
     "output_type": "execute_result"
    }
   ],
   "source": [
    "df.head()"
   ]
  },
  {
   "cell_type": "markdown",
   "metadata": {},
   "source": [
    "#### We are going to predict <code>nxt_ct_winner</code> whose values are 1 if CT is the winner team or 0 if T is the winner team"
   ]
  },
  {
   "cell_type": "markdown",
   "metadata": {},
   "source": [
    "## Define features and target"
   ]
  },
  {
   "cell_type": "code",
   "execution_count": 5,
   "metadata": {},
   "outputs": [
    {
     "data": {
      "text/plain": [
       "Index(['file', 'round', 'wp_ct_val', 'wp_t_val', 'nade_ct_val', 'nade_t_val',\n",
       "       'ct_alive', 't_alive', 'prev_ct_winner', 'ct_winner',\n",
       "       'prev_bomb_planted', 'bomb_planted', 'ct_cons_wins', 't_cons_wins',\n",
       "       'ct_val_pred', 't_val_pred', 'ct_round_type', 't_round_type',\n",
       "       'ct_nxt_rnd_type_pred', 't_nxt_rnd_type_pred', 'nxt_ct_winner'],\n",
       "      dtype='object')"
      ]
     },
     "execution_count": 5,
     "metadata": {},
     "output_type": "execute_result"
    }
   ],
   "source": [
    "df.columns"
   ]
  },
  {
   "cell_type": "code",
   "execution_count": 6,
   "metadata": {},
   "outputs": [],
   "source": [
    "FEATS = ['file', 'round', 'wp_ct_val', 'wp_t_val', 'nade_ct_val', 'nade_t_val',\n",
    "       'ct_alive', 't_alive', 'prev_ct_winner', 'ct_winner',\n",
    "       'prev_bomb_planted', 'bomb_planted', 'ct_cons_wins', 't_cons_wins',\n",
    "       'ct_val_pred', 't_val_pred', 'ct_round_type', 't_round_type',\n",
    "       'ct_nxt_rnd_type_pred', 't_nxt_rnd_type_pred']\n",
    "TARGET = 'nxt_ct_winner'"
   ]
  },
  {
   "cell_type": "markdown",
   "metadata": {},
   "source": [
    "## Split"
   ]
  },
  {
   "cell_type": "code",
   "execution_count": 7,
   "metadata": {},
   "outputs": [],
   "source": [
    "X_train, X_test, y_train, y_test = train_test_split(df[FEATS], df[TARGET])"
   ]
  },
  {
   "cell_type": "markdown",
   "metadata": {},
   "source": [
    "## Algorithm election"
   ]
  },
  {
   "cell_type": "code",
   "execution_count": 8,
   "metadata": {},
   "outputs": [],
   "source": [
    "#Preprocessor\n",
    "\n",
    "numeric_transformer = Pipeline(steps=[('scaler', StandardScaler())])\n",
    "\n",
    "preprocessor = ColumnTransformer(transformers=[('num', numeric_transformer, FEATS)])"
   ]
  },
  {
   "cell_type": "code",
   "execution_count": 9,
   "metadata": {},
   "outputs": [],
   "source": [
    "# regressor = RandomForestClassifier(max_depth=2, random_state=0)\n",
    "# regressor = SGDClassifier(early_stopping=False, loss='log')\n",
    "# regressor = LinearSVC()\n",
    "# regressor = LogisticRegression()\n",
    "# regressor = SVC(gamma='auto', probability=True) # Too slooooow, I did not get a result\n",
    "# regressor = KNeighborsClassifier()\n",
    "# regressor = LGBMClassifier()  # better without this (boosting_type='rf', bagging_freq=1, bagging_fraction = 0.9, n_estimators=100)\n",
    "# regressor = GradientBoostingClassifier(n_estimators=100) # Same as LGBM but one-thread processing, too slow\n",
    "# regressor = AdaBoostClassifier(n_estimators=100)\n",
    "regressor = ExtraTreesClassifier(n_estimators=100)\n",
    "\n",
    "model = Pipeline(steps=[('preprocessor', preprocessor),\n",
    "                           ('regressor', regressor)])\n",
    "\n",
    "model.fit(X_train, y_train);"
   ]
  },
  {
   "cell_type": "code",
   "execution_count": 10,
   "metadata": {},
   "outputs": [],
   "source": [
    "y_pred = model.predict(X_test)\n",
    "y_prob = model.predict_proba(X_test)"
   ]
  },
  {
   "cell_type": "code",
   "execution_count": 11,
   "metadata": {},
   "outputs": [
    {
     "name": "stdout",
     "output_type": "stream",
     "text": [
      "              precision    recall  f1-score   support\n",
      "\n",
      "           0   0.597914  0.694247  0.642490     43267\n",
      "           1   0.518350  0.413422  0.459978     34437\n",
      "\n",
      "    accuracy                       0.569790     77704\n",
      "   macro avg   0.558132  0.553834  0.551234     77704\n",
      "weighted avg   0.562653  0.569790  0.561604     77704\n",
      "\n"
     ]
    }
   ],
   "source": [
    "sk_report = classification_report(\n",
    "    digits=6,\n",
    "    y_true=y_test, \n",
    "    y_pred=y_pred)\n",
    "print(sk_report)"
   ]
  },
  {
   "cell_type": "code",
   "execution_count": 12,
   "metadata": {},
   "outputs": [
    {
     "data": {
      "text/plain": [
       "0.588826622540981"
      ]
     },
     "execution_count": 12,
     "metadata": {},
     "output_type": "execute_result"
    }
   ],
   "source": [
    "roc_auc_score(y_test, y_prob[:,1])"
   ]
  },
  {
   "cell_type": "markdown",
   "metadata": {},
   "source": [
    "| Algorithm | Accuracy Score | roc-auc-score |\n",
    "|----------|---------------|------------------|\n",
    "| SGDClassifier | 0.578760 | 0.5911053042759113 |\n",
    "| RandomForestClassifier | 0.571669 | 0.6005791010926799 |\n",
    "| LinearSVC | 0.583278 | no proba |\n",
    "| LogisticRegression | 0.583175 | 0.5963322313284364 |\n",
    "| SVC | Too slow, not finished |  |\n",
    "| KNeighborsClassifier | 0.548157 | 0.555818468720543 |\n",
    "| <font color='green'>LGBMClassifier</font> | <font color='green'>0.591952</font> | 0.6226857960041758 |\n",
    "| GradientBoostingClassifier | 0.590793 | 0.6215877286341829 |\n",
    "| AdaBoostClassifier | 0.583149 | 0.6086323297666735 |\n",
    "| ExtraTreesClassifier | 0.569790 | 0.588826622540981 |"
   ]
  }
 ],
 "metadata": {
  "kernelspec": {
   "display_name": "Python [conda env:ironhack_env]",
   "language": "python",
   "name": "conda-env-ironhack_env-py"
  },
  "language_info": {
   "codemirror_mode": {
    "name": "ipython",
    "version": 3
   },
   "file_extension": ".py",
   "mimetype": "text/x-python",
   "name": "python",
   "nbconvert_exporter": "python",
   "pygments_lexer": "ipython3",
   "version": "3.7.3"
  }
 },
 "nbformat": 4,
 "nbformat_minor": 4
}
