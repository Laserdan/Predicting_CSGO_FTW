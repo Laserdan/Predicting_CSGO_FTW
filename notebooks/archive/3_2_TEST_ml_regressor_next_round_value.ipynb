{
 "cells": [
  {
   "cell_type": "markdown",
   "metadata": {},
   "source": [
    "## **Supervised ML regression algorithm to predict next round team value (CT & T)**\n",
    "## **Algorithm**"
   ]
  },
  {
   "cell_type": "markdown",
   "metadata": {},
   "source": [
    "Input data: Obtained DataFrames from the previous prediction:\n",
    "- ct_predicted_value\n",
    "- t_predicted_value\n",
    "\n",
    "Preprocces the data to create a new traget column, next round team value (**nxt_rnd_ct_val** & **nxt_rnd_t_val**)"
   ]
  },
  {
   "cell_type": "code",
   "execution_count": 1,
   "metadata": {},
   "outputs": [],
   "source": [
    "import pandas as pd\n",
    "\n",
    "from sklearn.pipeline import Pipeline\n",
    "from sklearn.compose import ColumnTransformer\n",
    "from sklearn.preprocessing import StandardScaler, LabelEncoder\n",
    "from sklearn.model_selection import train_test_split, RandomizedSearchCV\n",
    "from sklearn.metrics import mean_squared_error, r2_score\n",
    "\n",
    "from sklearn.ensemble import RandomForestRegressor\n",
    "from sklearn.linear_model import Lasso\n",
    "\n",
    "from lightgbm import LGBMRegressor\n",
    "from joblib import dump, load"
   ]
  },
  {
   "cell_type": "code",
   "execution_count": 2,
   "metadata": {},
   "outputs": [],
   "source": [
    "pd.set_option('display.max_columns', 30)\n",
    "pd.set_option('display.max_rows', 30)"
   ]
  },
  {
   "cell_type": "markdown",
   "metadata": {},
   "source": [
    "### Load Data"
   ]
  },
  {
   "cell_type": "code",
   "execution_count": 3,
   "metadata": {},
   "outputs": [],
   "source": [
    "ct_df = pd.read_csv('../data/processed/3_TEST_base_predict_next_rnd_ct_val.csv')\n",
    "# t_df = pd.read_csv('../data/processed/3_base_predict_next_rnd_t_val.csv')"
   ]
  },
  {
   "cell_type": "code",
   "execution_count": 4,
   "metadata": {},
   "outputs": [
    {
     "data": {
      "text/html": [
       "<div>\n",
       "<style scoped>\n",
       "    .dataframe tbody tr th:only-of-type {\n",
       "        vertical-align: middle;\n",
       "    }\n",
       "\n",
       "    .dataframe tbody tr th {\n",
       "        vertical-align: top;\n",
       "    }\n",
       "\n",
       "    .dataframe thead th {\n",
       "        text-align: right;\n",
       "    }\n",
       "</style>\n",
       "<table border=\"1\" class=\"dataframe\">\n",
       "  <thead>\n",
       "    <tr style=\"text-align: right;\">\n",
       "      <th></th>\n",
       "      <th>file</th>\n",
       "      <th>round</th>\n",
       "      <th>wp_ct_val</th>\n",
       "      <th>nade_ct_val</th>\n",
       "      <th>ct_alive</th>\n",
       "      <th>t_alive</th>\n",
       "      <th>ct_winner</th>\n",
       "      <th>bomb_planted</th>\n",
       "      <th>ct_cons_wins</th>\n",
       "      <th>t_cons_wins</th>\n",
       "      <th>ct_val_pred</th>\n",
       "      <th>nxt_rnd_ct_val</th>\n",
       "    </tr>\n",
       "  </thead>\n",
       "  <tbody>\n",
       "    <tr>\n",
       "      <th>0</th>\n",
       "      <td>0</td>\n",
       "      <td>1</td>\n",
       "      <td>1000.0</td>\n",
       "      <td>550</td>\n",
       "      <td>5</td>\n",
       "      <td>5</td>\n",
       "      <td>0.5</td>\n",
       "      <td>0.5</td>\n",
       "      <td>0</td>\n",
       "      <td>0</td>\n",
       "      <td>4078.134589</td>\n",
       "      <td>18450</td>\n",
       "    </tr>\n",
       "    <tr>\n",
       "      <th>1</th>\n",
       "      <td>0</td>\n",
       "      <td>2</td>\n",
       "      <td>10100.0</td>\n",
       "      <td>1100</td>\n",
       "      <td>4</td>\n",
       "      <td>0</td>\n",
       "      <td>1.0</td>\n",
       "      <td>0.0</td>\n",
       "      <td>1</td>\n",
       "      <td>0</td>\n",
       "      <td>17819.702711</td>\n",
       "      <td>9550</td>\n",
       "    </tr>\n",
       "    <tr>\n",
       "      <th>2</th>\n",
       "      <td>0</td>\n",
       "      <td>3</td>\n",
       "      <td>4125.0</td>\n",
       "      <td>900</td>\n",
       "      <td>0</td>\n",
       "      <td>1</td>\n",
       "      <td>0.0</td>\n",
       "      <td>0.0</td>\n",
       "      <td>0</td>\n",
       "      <td>1</td>\n",
       "      <td>7038.468589</td>\n",
       "      <td>1600</td>\n",
       "    </tr>\n",
       "    <tr>\n",
       "      <th>3</th>\n",
       "      <td>0</td>\n",
       "      <td>4</td>\n",
       "      <td>1000.0</td>\n",
       "      <td>0</td>\n",
       "      <td>0</td>\n",
       "      <td>3</td>\n",
       "      <td>0.0</td>\n",
       "      <td>1.0</td>\n",
       "      <td>0</td>\n",
       "      <td>2</td>\n",
       "      <td>1452.468928</td>\n",
       "      <td>23350</td>\n",
       "    </tr>\n",
       "    <tr>\n",
       "      <th>4</th>\n",
       "      <td>0</td>\n",
       "      <td>5</td>\n",
       "      <td>15500.0</td>\n",
       "      <td>1400</td>\n",
       "      <td>0</td>\n",
       "      <td>4</td>\n",
       "      <td>0.0</td>\n",
       "      <td>1.0</td>\n",
       "      <td>0</td>\n",
       "      <td>3</td>\n",
       "      <td>22676.205763</td>\n",
       "      <td>26400</td>\n",
       "    </tr>\n",
       "  </tbody>\n",
       "</table>\n",
       "</div>"
      ],
      "text/plain": [
       "   file  round  wp_ct_val  nade_ct_val  ct_alive  t_alive  ct_winner  \\\n",
       "0     0      1     1000.0          550         5        5        0.5   \n",
       "1     0      2    10100.0         1100         4        0        1.0   \n",
       "2     0      3     4125.0          900         0        1        0.0   \n",
       "3     0      4     1000.0            0         0        3        0.0   \n",
       "4     0      5    15500.0         1400         0        4        0.0   \n",
       "\n",
       "   bomb_planted  ct_cons_wins  t_cons_wins   ct_val_pred  nxt_rnd_ct_val  \n",
       "0           0.5             0            0   4078.134589           18450  \n",
       "1           0.0             1            0  17819.702711            9550  \n",
       "2           0.0             0            1   7038.468589            1600  \n",
       "3           1.0             0            2   1452.468928           23350  \n",
       "4           1.0             0            3  22676.205763           26400  "
      ]
     },
     "metadata": {},
     "output_type": "display_data"
    }
   ],
   "source": [
    "display(ct_df.head())\n",
    "# display(t_df.head())"
   ]
  },
  {
   "cell_type": "markdown",
   "metadata": {},
   "source": [
    "### Label enconder"
   ]
  },
  {
   "cell_type": "code",
   "execution_count": 5,
   "metadata": {},
   "outputs": [],
   "source": [
    "# # LabelEncoder to categorical feature -> file\n",
    "# le = LabelEncoder()\n",
    "\n",
    "# ct_df['file'] = le.fit_transform(ct_df.file)"
   ]
  },
  {
   "cell_type": "code",
   "execution_count": 6,
   "metadata": {},
   "outputs": [],
   "source": [
    "# display(ct_df.tail())"
   ]
  },
  {
   "cell_type": "code",
   "execution_count": 7,
   "metadata": {},
   "outputs": [],
   "source": [
    "CT_FEATS = ['file', 'round', 'wp_ct_val', 'nade_ct_val', 'ct_alive', 't_alive', 'ct_winner', 'bomb_planted', 'ct_cons_wins', 't_cons_wins', 'ct_val_pred']\n",
    "# CT_SCALER_FEATS = ['file', 'round', 'wp_ct_val', 'nade_ct_val', 'ct_alive', 't_alive', 'ct_cons_wins', 't_cons_wins', 'ct_val_real']"
   ]
  },
  {
   "cell_type": "code",
   "execution_count": 8,
   "metadata": {},
   "outputs": [],
   "source": [
    "scaler = StandardScaler()\n",
    "\n",
    "# ct_df['file'] = se.fit_transform(ct_df.file)\n",
    "# ct_df['round'] = se.fit_transform(ct_df.round)\n",
    "# ct_df['wp_ct_val'] = se.fit_transform(ct_df.wp_ct_val)\n",
    "# ct_df['nade_ct_val'] = se.fit_transform(ct_df.nade_ct_val)\n",
    "# ct_df['ct_alive'] = se.fit_transform(ct_df.ct_alive)\n",
    "# ct_df['t_alive'] = se.fit_transform(ct_df.t_alive)\n",
    "# ct_df['ct_cons_wins'] = se.fit_transform(ct_df.ct_cons_wins)\n",
    "# ct_df['t_cons_wins'] = se.fit_transform(ct_df.t_cons_wins)\n",
    "# ct_df['ct_val_real'] = se.fit_transform(ct_df.ct_val_real)\n",
    "\n",
    "ct_df[CT_FEATS] = scaler.fit_transform(ct_df[CT_FEATS])\n",
    "\n",
    "# scaled_data = scaler.fit_transform(data)"
   ]
  },
  {
   "cell_type": "markdown",
   "metadata": {},
   "source": [
    "### Define Features and Target"
   ]
  },
  {
   "cell_type": "code",
   "execution_count": 9,
   "metadata": {},
   "outputs": [],
   "source": [
    "# CT_FEATS = ['file', 'round', 'wp_ct_val', 'nade_ct_val', 'ct_alive', 't_alive', 'ct_winner', 'bomb_planted', 'ct_cons_wins', 't_cons_wins', 'ct_val_real', 'ct_val_pred']\n",
    "# T_FEATS = ['file', 'round', 'wp_t_val', 'nade_t_val', 'ct_alive', 't_alive', 'ct_winner', 'bomb_planted', 'ct_cons_wins', 't_cons_wins', 't_val_real', 't_val_pred']\n",
    "\n",
    "CT_FEATS = ['file', 'round', 'wp_ct_val', 'nade_ct_val', 'ct_alive', 't_alive', 'ct_winner', 'bomb_planted', 'ct_cons_wins', 't_cons_wins', 'ct_val_pred']\n",
    "# T_FEATS = ['file', 'round', 'wp_t_val', 'nade_t_val', 'ct_alive', 't_alive', 'ct_winner', 'bomb_planted', 'ct_cons_wins', 't_cons_wins', 't_val_pred']\n",
    "\n",
    "# CT_FEATS = ['file', 'round', 'wp_ct_val', 'nade_ct_val', 'ct_alive', 't_alive', 'ct_winner', 'bomb_planted', 'ct_cons_wins', 't_cons_wins', 'ct_val_real']\n",
    "# T_FEATS = ['file', 'round', 'wp_t_val', 'nade_t_val', 'ct_alive', 't_alive', 'ct_winner', 'bomb_planted', 'ct_cons_wins', 't_cons_wins', 't_val_real']\n",
    "\n",
    "CT_TARGET = 'nxt_rnd_ct_val'\n",
    "# T_TARGET = 'nxt_rnd_t_val'"
   ]
  },
  {
   "cell_type": "markdown",
   "metadata": {},
   "source": [
    "### Preprocessor"
   ]
  },
  {
   "cell_type": "code",
   "execution_count": 10,
   "metadata": {},
   "outputs": [],
   "source": [
    "#Preprocessor\n",
    "\n",
    "# numeric_transformer = Pipeline(steps=[('scaler', StandardScaler())])\n",
    "\n",
    "# preprocessor = ColumnTransformer(transformers=[('num', numeric_transformer, CT_FEATS)])\n",
    "# preprocessor_t = ColumnTransformer(transformers=[('num', numeric_transformer, T_FEATS)])"
   ]
  },
  {
   "cell_type": "markdown",
   "metadata": {},
   "source": [
    "### **SPLITS**"
   ]
  },
  {
   "cell_type": "code",
   "execution_count": 11,
   "metadata": {},
   "outputs": [],
   "source": [
    "ct_train, ct_test = train_test_split(ct_df, train_size=0.95)\n",
    "# t_train, t_test = train_test_split(t_df)"
   ]
  },
  {
   "cell_type": "code",
   "execution_count": 12,
   "metadata": {},
   "outputs": [
    {
     "name": "stdout",
     "output_type": "stream",
     "text": [
      "(295272, 12) (15541, 12)\n"
     ]
    }
   ],
   "source": [
    "print(ct_train.shape, ct_test.shape)\n",
    "# print(t_train.shape, t_test.shape)"
   ]
  },
  {
   "cell_type": "markdown",
   "metadata": {},
   "source": [
    "### **MODEL**"
   ]
  },
  {
   "cell_type": "markdown",
   "metadata": {},
   "source": [
    "#### We take **LightGBM** as the regressor algorithm, like the previous prediction"
   ]
  },
  {
   "cell_type": "code",
   "execution_count": 13,
   "metadata": {},
   "outputs": [],
   "source": [
    "# regressor = RandomForestRegressor()\n",
    "\n",
    "regressor = LGBMRegressor(boosting_type='gbdt', \n",
    "                       bagging_freq=1, \n",
    "                       bagging_fraction = 0.9, \n",
    "                       n_estimators=100)\n",
    "\n",
    "# regressor = Lasso()"
   ]
  },
  {
   "cell_type": "code",
   "execution_count": 14,
   "metadata": {},
   "outputs": [],
   "source": [
    "model = regressor\n",
    "\n",
    "# t_model = Pipeline(steps=[('t_preprocessor', preprocessor_t),\n",
    "#                            ('regressor', regressor)])"
   ]
  },
  {
   "cell_type": "code",
   "execution_count": 15,
   "metadata": {},
   "outputs": [],
   "source": [
    "model.fit(ct_train[CT_FEATS], ct_train[CT_TARGET]);\n",
    "\n",
    "# t_model.fit(t_train[T_FEATS], t_train[T_TARGET]);"
   ]
  },
  {
   "cell_type": "markdown",
   "metadata": {},
   "source": [
    "### **CHECK PERFORMANCE**"
   ]
  },
  {
   "cell_type": "code",
   "execution_count": 16,
   "metadata": {},
   "outputs": [],
   "source": [
    "y_ct_test = model.predict(ct_test[CT_FEATS])\n",
    "y_ct_train = model.predict(ct_train[CT_FEATS])\n",
    "\n",
    "# y_t_test = t_model.predict(t_test[T_FEATS])\n",
    "# y_t_train = t_model.predict(t_train[T_FEATS])"
   ]
  },
  {
   "cell_type": "code",
   "execution_count": 17,
   "metadata": {},
   "outputs": [
    {
     "name": "stdout",
     "output_type": "stream",
     "text": [
      "CT test error: 8828.876747858485\n",
      "CT train error: 8695.3185626894\n"
     ]
    }
   ],
   "source": [
    "# Mean_squared_error\n",
    "\n",
    "print(f\"CT test error: {mean_squared_error(y_pred=y_ct_test, y_true=ct_test[CT_TARGET], squared=False)}\")\n",
    "print(f\"CT train error: {mean_squared_error(y_pred=y_ct_train, y_true=ct_train[CT_TARGET], squared=False)}\")\n",
    "# print()\n",
    "# print(f\"T test error: {mean_squared_error(y_pred=y_t_test, y_true=t_test[T_TARGET], squared=False)}\")\n",
    "# print(f\"T train error: {mean_squared_error(y_pred=y_t_train, y_true=t_train[T_TARGET], squared=False)}\")"
   ]
  },
  {
   "cell_type": "code",
   "execution_count": 18,
   "metadata": {},
   "outputs": [
    {
     "name": "stdout",
     "output_type": "stream",
     "text": [
      "CT test error: 0.3370541957088644\n",
      "CT train error: 0.35108500209330396\n",
      "\n"
     ]
    }
   ],
   "source": [
    "# r2_score\n",
    "\n",
    "print(f\"CT test error: {r2_score(y_pred=y_ct_test, y_true=ct_test[CT_TARGET])}\")\n",
    "print(f\"CT train error: {r2_score(y_pred=y_ct_train, y_true=ct_train[CT_TARGET])}\")\n",
    "print()\n",
    "# print(f\"T test error: {r2_score(y_pred=y_t_test, y_true=t_test[T_TARGET])}\")\n",
    "# print(f\"T train error: {r2_score(y_pred=y_t_train, y_true=t_train[T_TARGET])}\")"
   ]
  },
  {
   "cell_type": "markdown",
   "metadata": {},
   "source": [
    "--------------------------------\n",
    "### LGBM REGRESSOR\n",
    "CT test error:______Base: 1402.436|| 0.82444______<font color='green'>Hyp. tuning:  || </font>\n",
    "\n",
    "CT train error:______Base: 1131.833|| 0.88526______<font color='green'>Hyp. tuning:  || </font>\n",
    "\n",
    "T test error:______Base: 2725.320 || 0.90388______<font color='green'>Hyp. tuning:  || </font>\n",
    "\n",
    "T train error:______Base: 2728.544 || 0.90519______<font color='green'>Hyp. tuning:  || </font>"
   ]
  },
  {
   "cell_type": "code",
   "execution_count": 25,
   "metadata": {},
   "outputs": [
    {
     "data": {
      "text/plain": [
       "0         18450\n",
       "1          9550\n",
       "2          1600\n",
       "3         23350\n",
       "4         26400\n",
       "          ...  \n",
       "310808    30950\n",
       "310809    32900\n",
       "310810    25950\n",
       "310811    14300\n",
       "310812        0\n",
       "Name: nxt_rnd_ct_val, Length: 310813, dtype: int64"
      ]
     },
     "execution_count": 25,
     "metadata": {},
     "output_type": "execute_result"
    }
   ],
   "source": [
    "ct_df['nxt_rnd_ct_val']"
   ]
  },
  {
   "cell_type": "code",
   "execution_count": 26,
   "metadata": {},
   "outputs": [
    {
     "data": {
      "text/plain": [
       "14723      9400\n",
       "28382     24700\n",
       "150339    18650\n",
       "170529    19700\n",
       "119580     7750\n",
       "          ...  \n",
       "33759     22550\n",
       "250924    28750\n",
       "269372    25550\n",
       "99375     15700\n",
       "115951    27000\n",
       "Name: nxt_rnd_ct_val, Length: 15541, dtype: int64"
      ]
     },
     "execution_count": 26,
     "metadata": {},
     "output_type": "execute_result"
    }
   ],
   "source": [
    "ct_test['nxt_rnd_ct_val']"
   ]
  },
  {
   "cell_type": "code",
   "execution_count": 20,
   "metadata": {},
   "outputs": [
    {
     "data": {
      "text/plain": [
       "array([11612.20214493, 22903.44308688, 11650.43326715, ...,\n",
       "        8896.51611329, 18874.14255767, 21995.0721425 ])"
      ]
     },
     "execution_count": 20,
     "metadata": {},
     "output_type": "execute_result"
    }
   ],
   "source": [
    "y_ct_test"
   ]
  },
  {
   "cell_type": "code",
   "execution_count": null,
   "metadata": {},
   "outputs": [],
   "source": []
  },
  {
   "cell_type": "code",
   "execution_count": null,
   "metadata": {},
   "outputs": [],
   "source": []
  },
  {
   "cell_type": "code",
   "execution_count": null,
   "metadata": {},
   "outputs": [],
   "source": []
  },
  {
   "cell_type": "code",
   "execution_count": null,
   "metadata": {},
   "outputs": [],
   "source": []
  },
  {
   "cell_type": "code",
   "execution_count": null,
   "metadata": {},
   "outputs": [],
   "source": []
  },
  {
   "cell_type": "code",
   "execution_count": 19,
   "metadata": {},
   "outputs": [
    {
     "data": {
      "text/html": [
       "<div>\n",
       "<style scoped>\n",
       "    .dataframe tbody tr th:only-of-type {\n",
       "        vertical-align: middle;\n",
       "    }\n",
       "\n",
       "    .dataframe tbody tr th {\n",
       "        vertical-align: top;\n",
       "    }\n",
       "\n",
       "    .dataframe thead th {\n",
       "        text-align: right;\n",
       "    }\n",
       "</style>\n",
       "<table border=\"1\" class=\"dataframe\">\n",
       "  <thead>\n",
       "    <tr style=\"text-align: right;\">\n",
       "      <th></th>\n",
       "      <th>file</th>\n",
       "      <th>round</th>\n",
       "      <th>wp_ct_val</th>\n",
       "      <th>nade_ct_val</th>\n",
       "      <th>ct_alive</th>\n",
       "      <th>t_alive</th>\n",
       "      <th>ct_winner</th>\n",
       "      <th>bomb_planted</th>\n",
       "      <th>ct_cons_wins</th>\n",
       "      <th>t_cons_wins</th>\n",
       "      <th>ct_val_pred</th>\n",
       "      <th>nxt_rnd_ct_val</th>\n",
       "    </tr>\n",
       "  </thead>\n",
       "  <tbody>\n",
       "    <tr>\n",
       "      <th>count</th>\n",
       "      <td>3.108130e+05</td>\n",
       "      <td>3.108130e+05</td>\n",
       "      <td>3.108130e+05</td>\n",
       "      <td>3.108130e+05</td>\n",
       "      <td>3.108130e+05</td>\n",
       "      <td>3.108130e+05</td>\n",
       "      <td>3.108130e+05</td>\n",
       "      <td>3.108130e+05</td>\n",
       "      <td>3.108130e+05</td>\n",
       "      <td>3.108130e+05</td>\n",
       "      <td>3.108130e+05</td>\n",
       "      <td>310813.000000</td>\n",
       "    </tr>\n",
       "    <tr>\n",
       "      <th>mean</th>\n",
       "      <td>-2.340944e-17</td>\n",
       "      <td>-7.384032e-17</td>\n",
       "      <td>-4.082935e-17</td>\n",
       "      <td>-3.612003e-17</td>\n",
       "      <td>-1.053882e-17</td>\n",
       "      <td>-7.315449e-17</td>\n",
       "      <td>1.146697e-16</td>\n",
       "      <td>-6.785079e-17</td>\n",
       "      <td>6.565616e-17</td>\n",
       "      <td>1.108748e-16</td>\n",
       "      <td>-1.212993e-16</td>\n",
       "      <td>18728.716302</td>\n",
       "    </tr>\n",
       "    <tr>\n",
       "      <th>std</th>\n",
       "      <td>1.000002e+00</td>\n",
       "      <td>1.000002e+00</td>\n",
       "      <td>1.000002e+00</td>\n",
       "      <td>1.000002e+00</td>\n",
       "      <td>1.000002e+00</td>\n",
       "      <td>1.000002e+00</td>\n",
       "      <td>1.000002e+00</td>\n",
       "      <td>1.000002e+00</td>\n",
       "      <td>1.000002e+00</td>\n",
       "      <td>1.000002e+00</td>\n",
       "      <td>1.000002e+00</td>\n",
       "      <td>10796.743553</td>\n",
       "    </tr>\n",
       "    <tr>\n",
       "      <th>min</th>\n",
       "      <td>-1.731171e+00</td>\n",
       "      <td>-1.572378e+00</td>\n",
       "      <td>-1.727419e+00</td>\n",
       "      <td>-1.315128e+00</td>\n",
       "      <td>-3.866275e+00</td>\n",
       "      <td>-3.844742e+00</td>\n",
       "      <td>-9.990962e-01</td>\n",
       "      <td>-9.634300e-01</td>\n",
       "      <td>-6.538585e-01</td>\n",
       "      <td>-6.816671e-01</td>\n",
       "      <td>-1.771653e+00</td>\n",
       "      <td>0.000000</td>\n",
       "    </tr>\n",
       "    <tr>\n",
       "      <th>25%</th>\n",
       "      <td>-8.658370e-01</td>\n",
       "      <td>-8.257729e-01</td>\n",
       "      <td>-1.053057e+00</td>\n",
       "      <td>-8.999871e-01</td>\n",
       "      <td>-9.446750e-01</td>\n",
       "      <td>-8.989763e-01</td>\n",
       "      <td>-9.990962e-01</td>\n",
       "      <td>-9.634300e-01</td>\n",
       "      <td>-6.538585e-01</td>\n",
       "      <td>-6.816671e-01</td>\n",
       "      <td>-1.146586e+00</td>\n",
       "      <td>7400.000000</td>\n",
       "    </tr>\n",
       "    <tr>\n",
       "      <th>50%</th>\n",
       "      <td>-2.191404e-04</td>\n",
       "      <td>-7.916738e-02</td>\n",
       "      <td>2.559981e-01</td>\n",
       "      <td>-1.388954e-01</td>\n",
       "      <td>-3.603550e-01</td>\n",
       "      <td>-3.098232e-01</td>\n",
       "      <td>2.133358e-02</td>\n",
       "      <td>-9.634300e-01</td>\n",
       "      <td>-6.538585e-01</td>\n",
       "      <td>-6.816671e-01</td>\n",
       "      <td>3.169390e-01</td>\n",
       "      <td>21750.000000</td>\n",
       "    </tr>\n",
       "    <tr>\n",
       "      <th>75%</th>\n",
       "      <td>8.651144e-01</td>\n",
       "      <td>7.918724e-01</td>\n",
       "      <td>7.816038e-01</td>\n",
       "      <td>6.913864e-01</td>\n",
       "      <td>8.082848e-01</td>\n",
       "      <td>8.684830e-01</td>\n",
       "      <td>1.041763e+00</td>\n",
       "      <td>1.080455e+00</td>\n",
       "      <td>4.132478e-01</td>\n",
       "      <td>3.768834e-01</td>\n",
       "      <td>8.849886e-01</td>\n",
       "      <td>28150.000000</td>\n",
       "    </tr>\n",
       "    <tr>\n",
       "      <th>max</th>\n",
       "      <td>1.733576e+00</td>\n",
       "      <td>5.769242e+00</td>\n",
       "      <td>2.358421e+00</td>\n",
       "      <td>5.119556e+00</td>\n",
       "      <td>1.976925e+00</td>\n",
       "      <td>2.046789e+00</td>\n",
       "      <td>1.041763e+00</td>\n",
       "      <td>1.080455e+00</td>\n",
       "      <td>1.055076e+01</td>\n",
       "      <td>1.149166e+01</td>\n",
       "      <td>1.976323e+00</td>\n",
       "      <td>42050.000000</td>\n",
       "    </tr>\n",
       "  </tbody>\n",
       "</table>\n",
       "</div>"
      ],
      "text/plain": [
       "               file         round     wp_ct_val   nade_ct_val      ct_alive  \\\n",
       "count  3.108130e+05  3.108130e+05  3.108130e+05  3.108130e+05  3.108130e+05   \n",
       "mean  -2.340944e-17 -7.384032e-17 -4.082935e-17 -3.612003e-17 -1.053882e-17   \n",
       "std    1.000002e+00  1.000002e+00  1.000002e+00  1.000002e+00  1.000002e+00   \n",
       "min   -1.731171e+00 -1.572378e+00 -1.727419e+00 -1.315128e+00 -3.866275e+00   \n",
       "25%   -8.658370e-01 -8.257729e-01 -1.053057e+00 -8.999871e-01 -9.446750e-01   \n",
       "50%   -2.191404e-04 -7.916738e-02  2.559981e-01 -1.388954e-01 -3.603550e-01   \n",
       "75%    8.651144e-01  7.918724e-01  7.816038e-01  6.913864e-01  8.082848e-01   \n",
       "max    1.733576e+00  5.769242e+00  2.358421e+00  5.119556e+00  1.976925e+00   \n",
       "\n",
       "            t_alive     ct_winner  bomb_planted  ct_cons_wins   t_cons_wins  \\\n",
       "count  3.108130e+05  3.108130e+05  3.108130e+05  3.108130e+05  3.108130e+05   \n",
       "mean  -7.315449e-17  1.146697e-16 -6.785079e-17  6.565616e-17  1.108748e-16   \n",
       "std    1.000002e+00  1.000002e+00  1.000002e+00  1.000002e+00  1.000002e+00   \n",
       "min   -3.844742e+00 -9.990962e-01 -9.634300e-01 -6.538585e-01 -6.816671e-01   \n",
       "25%   -8.989763e-01 -9.990962e-01 -9.634300e-01 -6.538585e-01 -6.816671e-01   \n",
       "50%   -3.098232e-01  2.133358e-02 -9.634300e-01 -6.538585e-01 -6.816671e-01   \n",
       "75%    8.684830e-01  1.041763e+00  1.080455e+00  4.132478e-01  3.768834e-01   \n",
       "max    2.046789e+00  1.041763e+00  1.080455e+00  1.055076e+01  1.149166e+01   \n",
       "\n",
       "        ct_val_pred  nxt_rnd_ct_val  \n",
       "count  3.108130e+05   310813.000000  \n",
       "mean  -1.212993e-16    18728.716302  \n",
       "std    1.000002e+00    10796.743553  \n",
       "min   -1.771653e+00        0.000000  \n",
       "25%   -1.146586e+00     7400.000000  \n",
       "50%    3.169390e-01    21750.000000  \n",
       "75%    8.849886e-01    28150.000000  \n",
       "max    1.976323e+00    42050.000000  "
      ]
     },
     "execution_count": 19,
     "metadata": {},
     "output_type": "execute_result"
    }
   ],
   "source": [
    "ct_df.describe()"
   ]
  },
  {
   "cell_type": "code",
   "execution_count": null,
   "metadata": {},
   "outputs": [],
   "source": []
  },
  {
   "cell_type": "code",
   "execution_count": null,
   "metadata": {},
   "outputs": [],
   "source": []
  },
  {
   "cell_type": "code",
   "execution_count": null,
   "metadata": {},
   "outputs": [],
   "source": []
  },
  {
   "cell_type": "code",
   "execution_count": null,
   "metadata": {},
   "outputs": [],
   "source": []
  },
  {
   "cell_type": "code",
   "execution_count": null,
   "metadata": {},
   "outputs": [],
   "source": []
  },
  {
   "cell_type": "code",
   "execution_count": null,
   "metadata": {},
   "outputs": [],
   "source": []
  },
  {
   "cell_type": "code",
   "execution_count": null,
   "metadata": {},
   "outputs": [],
   "source": []
  },
  {
   "cell_type": "code",
   "execution_count": null,
   "metadata": {},
   "outputs": [],
   "source": []
  }
 ],
 "metadata": {
  "kernelspec": {
   "display_name": "Python [conda env:ironhack_env]",
   "language": "python",
   "name": "conda-env-ironhack_env-py"
  },
  "language_info": {
   "codemirror_mode": {
    "name": "ipython",
    "version": 3
   },
   "file_extension": ".py",
   "mimetype": "text/x-python",
   "name": "python",
   "nbconvert_exporter": "python",
   "pygments_lexer": "ipython3",
   "version": "3.7.3"
  }
 },
 "nbformat": 4,
 "nbformat_minor": 4
}
