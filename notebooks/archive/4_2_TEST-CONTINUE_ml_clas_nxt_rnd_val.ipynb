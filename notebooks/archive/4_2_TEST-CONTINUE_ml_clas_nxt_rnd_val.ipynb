{
 "cells": [
  {
   "cell_type": "markdown",
   "metadata": {},
   "source": [
    "## **Supervised ML regression algorithm to predict next round team value (CT & T)**\n",
    "## **Algorithm**"
   ]
  },
  {
   "cell_type": "code",
   "execution_count": 11,
   "metadata": {},
   "outputs": [],
   "source": [
    "import pandas as pd\n",
    "\n",
    "from sklearn.pipeline import Pipeline\n",
    "from sklearn.compose import ColumnTransformer\n",
    "from sklearn.preprocessing import StandardScaler, LabelEncoder\n",
    "from sklearn.model_selection import train_test_split, RandomizedSearchCV\n",
    "from sklearn.metrics import roc_auc_score, accuracy_score\n",
    "\n",
    "from sklearn.linear_model import SGDClassifier, LogisticRegression\n",
    "from sklearn.ensemble import RandomForestClassifier, GradientBoostingClassifier, AdaBoostClassifier, ExtraTreesClassifier\n",
    "from sklearn.svm import LinearSVC, SVC\n",
    "from sklearn.neighbors import KNeighborsClassifier\n",
    "from lightgbm import LGBMClassifier"
   ]
  },
  {
   "cell_type": "code",
   "execution_count": 2,
   "metadata": {},
   "outputs": [],
   "source": [
    "pd.set_option('display.max_columns', 30)\n",
    "pd.set_option('display.max_rows', 30)"
   ]
  },
  {
   "cell_type": "markdown",
   "metadata": {},
   "source": [
    "### Data"
   ]
  },
  {
   "cell_type": "code",
   "execution_count": 3,
   "metadata": {},
   "outputs": [],
   "source": [
    "ct_df = pd.read_csv('../data/processed/4_base_predict_next_rnd_ct_type.csv')\n",
    "t_df = pd.read_csv('../data/processed/4_base_predict_next_rnd_t_type.csv')"
   ]
  },
  {
   "cell_type": "markdown",
   "metadata": {},
   "source": [
    "### Encoding"
   ]
  },
  {
   "cell_type": "markdown",
   "metadata": {},
   "source": [
    "We use a manual encoding to be sure of being the same values for round_type and nxt_rnd_type.\n",
    "\n",
    "If we use LabelEncoder() it could be possible to have different values for the same label."
   ]
  },
  {
   "cell_type": "code",
   "execution_count": 4,
   "metadata": {},
   "outputs": [],
   "source": [
    "round_type_dic = {'PISTOL_ROUND':0, 'ECO':1, 'MEDIUM':2, 'FULL':3, 'LAST':4}"
   ]
  },
  {
   "cell_type": "code",
   "execution_count": 5,
   "metadata": {},
   "outputs": [],
   "source": [
    "ct_df['round_type'] = ct_df['round_type'].apply(lambda x: round_type_dic[x])\n",
    "ct_df['nxt_rnd_type'] = ct_df['nxt_rnd_type'].apply(lambda x: round_type_dic[x])\n",
    "\n",
    "t_df['round_type'] = t_df['round_type'].apply(lambda x: round_type_dic[x])\n",
    "t_df['nxt_rnd_type'] = t_df['nxt_rnd_type'].apply(lambda x: round_type_dic[x])"
   ]
  },
  {
   "cell_type": "markdown",
   "metadata": {},
   "source": [
    "## Define features and target"
   ]
  },
  {
   "cell_type": "code",
   "execution_count": 6,
   "metadata": {},
   "outputs": [],
   "source": [
    "CT_FEATS = ['file', 'round', 'wp_ct_val', 'nade_ct_val', 'ct_alive', 't_alive', 'ct_winner', 'bomb_planted', 'ct_cons_wins', 't_cons_wins', 'ct_val_pred', 'round_type']\n",
    "T_FEATS = ['file', 'round', 'wp_t_val', 'nade_t_val', 'ct_alive', 't_alive', 'ct_winner', 'bomb_planted', 'ct_cons_wins', 't_cons_wins', 't_val_pred', 'round_type']\n",
    "TARGET = 'nxt_rnd_type'"
   ]
  },
  {
   "cell_type": "code",
   "execution_count": 7,
   "metadata": {},
   "outputs": [],
   "source": [
    "#Preprocessor\n",
    "\n",
    "numeric_transformer = Pipeline(steps=[('scaler', StandardScaler())])\n",
    "\n",
    "preprocessor_ct = ColumnTransformer(transformers=[('num', numeric_transformer, CT_FEATS)])\n",
    "preprocessor_t = ColumnTransformer(transformers=[('num', numeric_transformer, T_FEATS)])"
   ]
  },
  {
   "cell_type": "markdown",
   "metadata": {},
   "source": [
    "### Beggining of stackoverflow solution"
   ]
  },
  {
   "cell_type": "code",
   "execution_count": 8,
   "metadata": {},
   "outputs": [
    {
     "name": "stdout",
     "output_type": "stream",
     "text": [
      "              precision    recall  f1-score   support\n",
      "\n",
      "           0   0.997674  0.911631  0.952713      3293\n",
      "           1   0.538167  0.541853  0.540004     16355\n",
      "           2   0.456726  0.059926  0.105951     14618\n",
      "           3   0.665389  0.906518  0.767459     40393\n",
      "           4   0.555121  0.233169  0.328400      3045\n",
      "\n",
      "    accuracy                       0.644330     77704\n",
      "   macro avg   0.642615  0.530619  0.538905     77704\n",
      "weighted avg   0.609118  0.644330  0.585784     77704\n",
      "\n"
     ]
    }
   ],
   "source": [
    "from sklearn.metrics import classification_report\n",
    "\n",
    "X_train, X_test, y_train, y_test = train_test_split(ct_df[CT_FEATS], ct_df[TARGET])\n",
    "\n",
    "# regressor = RandomForestClassifier(max_depth=2, random_state=0)\n",
    "# regressor = SGDClassifier(early_stopping=True, loss='hinge')\n",
    "# regressor = LinearSVC()\n",
    "# regressor = LogisticRegression()\n",
    "# regressor = SVC(gamma='auto', probability=True)\n",
    "# regressor = KNeighborsClassifier()\n",
    "regressor = LGBMClassifier()  # better without this (boosting_type='rf', bagging_freq=1, bagging_fraction = 0.9, n_estimators=100)\n",
    "# regressor = GradientBoostingClassifier(n_estimators=100)\n",
    "# regressor = AdaBoostClassifier(n_estimators=100)\n",
    "# regressor = ExtraTreesClassifier(n_estimators=100)\n",
    "\n",
    "# model = RandomForestClassifier(max_depth=2, random_state=0)\n",
    "# model = SGDClassifier(early_stopping=True, loss='hinge')\n",
    "\n",
    "model = Pipeline(steps=[('ct_preprocessor', preprocessor_ct),\n",
    "                           ('regressor', regressor)])\n",
    "\n",
    "model.fit(X_train, y_train);\n",
    "\n",
    "\n",
    "sk_report = classification_report(\n",
    "    digits=6,\n",
    "    y_true=y_test, \n",
    "    y_pred=model.predict(X_test))\n",
    "print(sk_report)"
   ]
  },
  {
   "cell_type": "code",
   "execution_count": 9,
   "metadata": {},
   "outputs": [
    {
     "data": {
      "text/plain": [
       "0.6443297642335015"
      ]
     },
     "execution_count": 9,
     "metadata": {},
     "output_type": "execute_result"
    }
   ],
   "source": [
    "model.score(X_test, y_test)"
   ]
  },
  {
   "cell_type": "code",
   "execution_count": 14,
   "metadata": {},
   "outputs": [
    {
     "data": {
      "text/plain": [
       "0.6443297642335015"
      ]
     },
     "execution_count": 14,
     "metadata": {},
     "output_type": "execute_result"
    }
   ],
   "source": [
    "accuracy_score(y_test, y_pred=model.predict(X_test))"
   ]
  },
  {
   "cell_type": "markdown",
   "metadata": {},
   "source": [
    "| Algorithm | Score |\n",
    "|----------|---------------|\n",
    "| SGDClassifier | 0.5366519098115927 |\n",
    "| RandomForestClassifier | 0.5304102748893236 |\n",
    "| LinearSVC | 0.5668691444455883 |\n",
    "| LogisticRegression | 0.5623648718212705 |\n",
    "| SVC | 000 |\n",
    "| KNeighborsClassifier | 0.5497271697724699 |\n",
    "| LGBMClassifier | 0.644432719036343 |\n",
    "| GradientBoostingClassifier | 0.644432719036343 |\n",
    "| AdaBoostClassifier | 0.5766241120148254 |\n",
    "| ExtraTreesClassifier | 0.6142669618037682 |"
   ]
  },
  {
   "cell_type": "markdown",
   "metadata": {},
   "source": [
    "                  precision    recall  f1-score   support\n",
    "\n",
    "               0   0.998375  0.908311  0.951216      3381\n",
    "               1   0.541842  0.542639  0.542240     16335\n",
    "               2   0.468735  0.065367  0.114733     14564\n",
    "               3   0.667474  0.905000  0.768298     40516\n",
    "               4   0.529908  0.237620  0.328110      2908\n",
    "\n",
    "        accuracy                       0.646621     77704\n",
    "       macro avg   0.641267  0.531787  0.540919     77704\n",
    "    weighted avg   0.613064  0.646621  0.589764     77704\n",
    "\n"
   ]
  },
  {
   "cell_type": "markdown",
   "metadata": {},
   "source": [
    "                  precision    recall  f1-score   support\n",
    "\n",
    "               0   0.997674  0.911631  0.952713      3293\n",
    "               1   0.538167  0.541853  0.540004     16355\n",
    "               2   0.456726  0.059926  0.105951     14618\n",
    "               3   0.665389  0.906518  0.767459     40393\n",
    "               4   0.555121  0.233169  0.328400      3045\n",
    "\n",
    "        accuracy                       0.644330     77704\n",
    "       macro avg   0.642615  0.530619  0.538905     77704\n",
    "    weighted avg   0.609118  0.644330  0.585784     77704\n",
    "\n"
   ]
  }
 ],
 "metadata": {
  "kernelspec": {
   "display_name": "Python [conda env:ironhack_env]",
   "language": "python",
   "name": "conda-env-ironhack_env-py"
  },
  "language_info": {
   "codemirror_mode": {
    "name": "ipython",
    "version": 3
   },
   "file_extension": ".py",
   "mimetype": "text/x-python",
   "name": "python",
   "nbconvert_exporter": "python",
   "pygments_lexer": "ipython3",
   "version": "3.7.3"
  }
 },
 "nbformat": 4,
 "nbformat_minor": 4
}
