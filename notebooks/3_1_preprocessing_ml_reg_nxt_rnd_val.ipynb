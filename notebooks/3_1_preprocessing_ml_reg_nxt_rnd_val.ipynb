{
 "cells": [
  {
   "cell_type": "markdown",
   "metadata": {},
   "source": [
    "## **Supervised ML regression algorithm to predict next round team value (CT & T)**\n",
    "## **Preprocessing**"
   ]
  },
  {
   "cell_type": "markdown",
   "metadata": {},
   "source": [
    "Input data: Obtained DataFrames from the previous prediction:\n",
    "- ct_predicted_value\n",
    "- t_predicted_value\n",
    "\n",
    "Preprocces the data to create a new traget column, next round team value (**nxt_rnd_ct_val** & **nxt_rnd_t_val**)"
   ]
  },
  {
   "cell_type": "code",
   "execution_count": 1,
   "metadata": {},
   "outputs": [],
   "source": [
    "import pandas as pd"
   ]
  },
  {
   "cell_type": "code",
   "execution_count": 2,
   "metadata": {},
   "outputs": [],
   "source": [
    "pd.set_option('display.max_columns', 30)\n",
    "pd.set_option('display.max_rows', 30)"
   ]
  },
  {
   "cell_type": "markdown",
   "metadata": {},
   "source": [
    "### Data"
   ]
  },
  {
   "cell_type": "code",
   "execution_count": 3,
   "metadata": {},
   "outputs": [],
   "source": [
    "ct_df = pd.read_csv('../data/results/ct_predicted_value.csv')\n",
    "t_df = pd.read_csv('../data/results/t_predicted_value.csv')"
   ]
  },
  {
   "cell_type": "markdown",
   "metadata": {},
   "source": [
    "## Preprocessing"
   ]
  },
  {
   "cell_type": "markdown",
   "metadata": {},
   "source": [
    "To train the model we need to know the team value for the next round. \n",
    "\n",
    "We will train with the predicted value for the current round and real value for the next round"
   ]
  },
  {
   "cell_type": "code",
   "execution_count": 4,
   "metadata": {},
   "outputs": [],
   "source": [
    "ct_df.drop(columns=['Unnamed: 0'], inplace=True)\n",
    "t_df.drop(columns=['Unnamed: 0'], inplace=True)"
   ]
  },
  {
   "cell_type": "markdown",
   "metadata": {},
   "source": [
    "#### Create the columns **nxt_rnd_ct_val** & **nxt_rnd_t_val** filled with 0"
   ]
  },
  {
   "cell_type": "code",
   "execution_count": 5,
   "metadata": {},
   "outputs": [],
   "source": [
    "ct_df['nxt_rnd_ct_val'] = 0\n",
    "t_df['nxt_rnd_t_val'] = 0"
   ]
  },
  {
   "cell_type": "code",
   "execution_count": 6,
   "metadata": {},
   "outputs": [],
   "source": [
    "files = ct_df['file'].unique()"
   ]
  },
  {
   "cell_type": "code",
   "execution_count": 7,
   "metadata": {},
   "outputs": [],
   "source": [
    "ct_df.set_index(['file', 'round'], inplace=True)\n",
    "t_df.set_index(['file', 'round'], inplace=True)"
   ]
  },
  {
   "cell_type": "markdown",
   "metadata": {},
   "source": [
    "#### Filling the values with the real values of next rounds"
   ]
  },
  {
   "cell_type": "code",
   "execution_count": 8,
   "metadata": {},
   "outputs": [
    {
     "name": "stdout",
     "output_type": "stream",
     "text": [
      "500/12185\n",
      "1000/12185\n",
      "1500/12185\n",
      "2000/12185\n",
      "2500/12185\n",
      "3000/12185\n",
      "3500/12185\n",
      "4000/12185\n",
      "4500/12185\n",
      "5000/12185\n",
      "5500/12185\n",
      "6000/12185\n",
      "6500/12185\n",
      "7000/12185\n",
      "7500/12185\n",
      "8000/12185\n",
      "8500/12185\n",
      "9000/12185\n",
      "9500/12185\n",
      "10000/12185\n",
      "10500/12185\n",
      "11000/12185\n",
      "11500/12185\n",
      "12000/12185\n",
      "CPU times: user 15min 34s, sys: 107 ms, total: 15min 34s\n",
      "Wall time: 15min 35s\n"
     ]
    }
   ],
   "source": [
    "%%time\n",
    "\n",
    "a = 0\n",
    "\n",
    "for file in files:\n",
    "    a += 1\n",
    "    if a%500 == 0:\n",
    "        print(f'{a}/12185')\n",
    "    for rnd in ct_df.loc[file].index[:-1]:\n",
    "        ct_df.loc[(file, rnd), 'nxt_rnd_ct_val'] = ct_df.loc[(file, rnd+1), 'ct_val_pred']\n",
    "        t_df.loc[(file, rnd), 'nxt_rnd_t_val'] = t_df.loc[(file, rnd+1), 't_val_pred']"
   ]
  },
  {
   "cell_type": "markdown",
   "metadata": {},
   "source": [
    "### Reset index and save the DataFrames "
   ]
  },
  {
   "cell_type": "code",
   "execution_count": 9,
   "metadata": {},
   "outputs": [],
   "source": [
    "ct_df.reset_index(inplace=True)\n",
    "t_df.reset_index(inplace=True)"
   ]
  },
  {
   "cell_type": "code",
   "execution_count": 7,
   "metadata": {},
   "outputs": [],
   "source": [
    "ct_df.to_csv('../data/processed/3_base_predict_next_rnd_ct_val.csv', index=True)\n",
    "t_df.to_csv('../data/processed/3_base_predict_next_rnd_t_val.csv', index=True)"
   ]
  },
  {
   "cell_type": "markdown",
   "metadata": {},
   "source": [
    "### Load Data"
   ]
  },
  {
   "cell_type": "code",
   "execution_count": 8,
   "metadata": {},
   "outputs": [],
   "source": [
    "ct_df = pd.read_csv('../data/processed/3_base_predict_next_rnd_ct_val.csv')\n",
    "t_df = pd.read_csv('../data/processed/3_base_predict_next_rnd_t_val.csv')"
   ]
  },
  {
   "cell_type": "code",
   "execution_count": 9,
   "metadata": {},
   "outputs": [
    {
     "data": {
      "text/html": [
       "<div>\n",
       "<style scoped>\n",
       "    .dataframe tbody tr th:only-of-type {\n",
       "        vertical-align: middle;\n",
       "    }\n",
       "\n",
       "    .dataframe tbody tr th {\n",
       "        vertical-align: top;\n",
       "    }\n",
       "\n",
       "    .dataframe thead th {\n",
       "        text-align: right;\n",
       "    }\n",
       "</style>\n",
       "<table border=\"1\" class=\"dataframe\">\n",
       "  <thead>\n",
       "    <tr style=\"text-align: right;\">\n",
       "      <th></th>\n",
       "      <th>Unnamed: 0</th>\n",
       "      <th>file</th>\n",
       "      <th>round</th>\n",
       "      <th>wp_ct_val</th>\n",
       "      <th>nade_ct_val</th>\n",
       "      <th>ct_alive</th>\n",
       "      <th>t_alive</th>\n",
       "      <th>ct_winner</th>\n",
       "      <th>bomb_planted</th>\n",
       "      <th>ct_cons_wins</th>\n",
       "      <th>t_cons_wins</th>\n",
       "      <th>ct_val_real</th>\n",
       "      <th>ct_val_pred</th>\n",
       "      <th>nxt_rnd_ct_val</th>\n",
       "    </tr>\n",
       "  </thead>\n",
       "  <tbody>\n",
       "    <tr>\n",
       "      <th>0</th>\n",
       "      <td>0</td>\n",
       "      <td>0</td>\n",
       "      <td>1</td>\n",
       "      <td>1000.0</td>\n",
       "      <td>550</td>\n",
       "      <td>5</td>\n",
       "      <td>5</td>\n",
       "      <td>0.5</td>\n",
       "      <td>0.5</td>\n",
       "      <td>0</td>\n",
       "      <td>0</td>\n",
       "      <td>4550</td>\n",
       "      <td>4078.134589</td>\n",
       "      <td>18450</td>\n",
       "    </tr>\n",
       "    <tr>\n",
       "      <th>1</th>\n",
       "      <td>1</td>\n",
       "      <td>0</td>\n",
       "      <td>2</td>\n",
       "      <td>10100.0</td>\n",
       "      <td>1100</td>\n",
       "      <td>4</td>\n",
       "      <td>0</td>\n",
       "      <td>1.0</td>\n",
       "      <td>0.0</td>\n",
       "      <td>1</td>\n",
       "      <td>0</td>\n",
       "      <td>18450</td>\n",
       "      <td>17819.702711</td>\n",
       "      <td>9550</td>\n",
       "    </tr>\n",
       "    <tr>\n",
       "      <th>2</th>\n",
       "      <td>2</td>\n",
       "      <td>0</td>\n",
       "      <td>3</td>\n",
       "      <td>4125.0</td>\n",
       "      <td>900</td>\n",
       "      <td>0</td>\n",
       "      <td>1</td>\n",
       "      <td>0.0</td>\n",
       "      <td>0.0</td>\n",
       "      <td>0</td>\n",
       "      <td>1</td>\n",
       "      <td>9550</td>\n",
       "      <td>7038.468589</td>\n",
       "      <td>1600</td>\n",
       "    </tr>\n",
       "    <tr>\n",
       "      <th>3</th>\n",
       "      <td>3</td>\n",
       "      <td>0</td>\n",
       "      <td>4</td>\n",
       "      <td>1000.0</td>\n",
       "      <td>0</td>\n",
       "      <td>0</td>\n",
       "      <td>3</td>\n",
       "      <td>0.0</td>\n",
       "      <td>1.0</td>\n",
       "      <td>0</td>\n",
       "      <td>2</td>\n",
       "      <td>1600</td>\n",
       "      <td>1452.468928</td>\n",
       "      <td>23350</td>\n",
       "    </tr>\n",
       "    <tr>\n",
       "      <th>4</th>\n",
       "      <td>4</td>\n",
       "      <td>0</td>\n",
       "      <td>5</td>\n",
       "      <td>15500.0</td>\n",
       "      <td>1400</td>\n",
       "      <td>0</td>\n",
       "      <td>4</td>\n",
       "      <td>0.0</td>\n",
       "      <td>1.0</td>\n",
       "      <td>0</td>\n",
       "      <td>3</td>\n",
       "      <td>23350</td>\n",
       "      <td>22676.205763</td>\n",
       "      <td>26400</td>\n",
       "    </tr>\n",
       "  </tbody>\n",
       "</table>\n",
       "</div>"
      ],
      "text/plain": [
       "   Unnamed: 0  file  round  wp_ct_val  nade_ct_val  ct_alive  t_alive  \\\n",
       "0           0     0      1     1000.0          550         5        5   \n",
       "1           1     0      2    10100.0         1100         4        0   \n",
       "2           2     0      3     4125.0          900         0        1   \n",
       "3           3     0      4     1000.0            0         0        3   \n",
       "4           4     0      5    15500.0         1400         0        4   \n",
       "\n",
       "   ct_winner  bomb_planted  ct_cons_wins  t_cons_wins  ct_val_real  \\\n",
       "0        0.5           0.5             0            0         4550   \n",
       "1        1.0           0.0             1            0        18450   \n",
       "2        0.0           0.0             0            1         9550   \n",
       "3        0.0           1.0             0            2         1600   \n",
       "4        0.0           1.0             0            3        23350   \n",
       "\n",
       "    ct_val_pred  nxt_rnd_ct_val  \n",
       "0   4078.134589           18450  \n",
       "1  17819.702711            9550  \n",
       "2   7038.468589            1600  \n",
       "3   1452.468928           23350  \n",
       "4  22676.205763           26400  "
      ]
     },
     "metadata": {},
     "output_type": "display_data"
    },
    {
     "data": {
      "text/html": [
       "<div>\n",
       "<style scoped>\n",
       "    .dataframe tbody tr th:only-of-type {\n",
       "        vertical-align: middle;\n",
       "    }\n",
       "\n",
       "    .dataframe tbody tr th {\n",
       "        vertical-align: top;\n",
       "    }\n",
       "\n",
       "    .dataframe thead th {\n",
       "        text-align: right;\n",
       "    }\n",
       "</style>\n",
       "<table border=\"1\" class=\"dataframe\">\n",
       "  <thead>\n",
       "    <tr style=\"text-align: right;\">\n",
       "      <th></th>\n",
       "      <th>Unnamed: 0</th>\n",
       "      <th>file</th>\n",
       "      <th>round</th>\n",
       "      <th>wp_t_val</th>\n",
       "      <th>nade_t_val</th>\n",
       "      <th>ct_alive</th>\n",
       "      <th>t_alive</th>\n",
       "      <th>ct_winner</th>\n",
       "      <th>bomb_planted</th>\n",
       "      <th>ct_cons_wins</th>\n",
       "      <th>t_cons_wins</th>\n",
       "      <th>t_val_real</th>\n",
       "      <th>t_val_pred</th>\n",
       "      <th>nxt_rnd_t_val</th>\n",
       "    </tr>\n",
       "  </thead>\n",
       "  <tbody>\n",
       "    <tr>\n",
       "      <th>0</th>\n",
       "      <td>0</td>\n",
       "      <td>0</td>\n",
       "      <td>1</td>\n",
       "      <td>1166.666667</td>\n",
       "      <td>1200</td>\n",
       "      <td>5</td>\n",
       "      <td>5</td>\n",
       "      <td>0.5</td>\n",
       "      <td>0.5</td>\n",
       "      <td>0</td>\n",
       "      <td>0</td>\n",
       "      <td>3850</td>\n",
       "      <td>3943.272665</td>\n",
       "      <td>5300</td>\n",
       "    </tr>\n",
       "    <tr>\n",
       "      <th>1</th>\n",
       "      <td>1</td>\n",
       "      <td>0</td>\n",
       "      <td>2</td>\n",
       "      <td>3687.500000</td>\n",
       "      <td>50</td>\n",
       "      <td>4</td>\n",
       "      <td>0</td>\n",
       "      <td>1.0</td>\n",
       "      <td>0.0</td>\n",
       "      <td>1</td>\n",
       "      <td>0</td>\n",
       "      <td>5300</td>\n",
       "      <td>6290.616771</td>\n",
       "      <td>22900</td>\n",
       "    </tr>\n",
       "    <tr>\n",
       "      <th>2</th>\n",
       "      <td>2</td>\n",
       "      <td>0</td>\n",
       "      <td>3</td>\n",
       "      <td>11700.000000</td>\n",
       "      <td>2450</td>\n",
       "      <td>0</td>\n",
       "      <td>1</td>\n",
       "      <td>0.0</td>\n",
       "      <td>0.0</td>\n",
       "      <td>0</td>\n",
       "      <td>1</td>\n",
       "      <td>22900</td>\n",
       "      <td>19600.790638</td>\n",
       "      <td>19650</td>\n",
       "    </tr>\n",
       "    <tr>\n",
       "      <th>3</th>\n",
       "      <td>3</td>\n",
       "      <td>0</td>\n",
       "      <td>4</td>\n",
       "      <td>11700.000000</td>\n",
       "      <td>1600</td>\n",
       "      <td>0</td>\n",
       "      <td>3</td>\n",
       "      <td>0.0</td>\n",
       "      <td>1.0</td>\n",
       "      <td>0</td>\n",
       "      <td>2</td>\n",
       "      <td>19650</td>\n",
       "      <td>22568.098741</td>\n",
       "      <td>21750</td>\n",
       "    </tr>\n",
       "    <tr>\n",
       "      <th>4</th>\n",
       "      <td>4</td>\n",
       "      <td>0</td>\n",
       "      <td>5</td>\n",
       "      <td>12750.000000</td>\n",
       "      <td>1700</td>\n",
       "      <td>0</td>\n",
       "      <td>4</td>\n",
       "      <td>0.0</td>\n",
       "      <td>1.0</td>\n",
       "      <td>0</td>\n",
       "      <td>3</td>\n",
       "      <td>21750</td>\n",
       "      <td>24459.855175</td>\n",
       "      <td>19900</td>\n",
       "    </tr>\n",
       "  </tbody>\n",
       "</table>\n",
       "</div>"
      ],
      "text/plain": [
       "   Unnamed: 0  file  round      wp_t_val  nade_t_val  ct_alive  t_alive  \\\n",
       "0           0     0      1   1166.666667        1200         5        5   \n",
       "1           1     0      2   3687.500000          50         4        0   \n",
       "2           2     0      3  11700.000000        2450         0        1   \n",
       "3           3     0      4  11700.000000        1600         0        3   \n",
       "4           4     0      5  12750.000000        1700         0        4   \n",
       "\n",
       "   ct_winner  bomb_planted  ct_cons_wins  t_cons_wins  t_val_real  \\\n",
       "0        0.5           0.5             0            0        3850   \n",
       "1        1.0           0.0             1            0        5300   \n",
       "2        0.0           0.0             0            1       22900   \n",
       "3        0.0           1.0             0            2       19650   \n",
       "4        0.0           1.0             0            3       21750   \n",
       "\n",
       "     t_val_pred  nxt_rnd_t_val  \n",
       "0   3943.272665           5300  \n",
       "1   6290.616771          22900  \n",
       "2  19600.790638          19650  \n",
       "3  22568.098741          21750  \n",
       "4  24459.855175          19900  "
      ]
     },
     "metadata": {},
     "output_type": "display_data"
    }
   ],
   "source": [
    "display(ct_df.head())\n",
    "display(t_df.head())"
   ]
  }
 ],
 "metadata": {
  "kernelspec": {
   "display_name": "Python [conda env:ironhack_env]",
   "language": "python",
   "name": "conda-env-ironhack_env-py"
  },
  "language_info": {
   "codemirror_mode": {
    "name": "ipython",
    "version": 3
   },
   "file_extension": ".py",
   "mimetype": "text/x-python",
   "name": "python",
   "nbconvert_exporter": "python",
   "pygments_lexer": "ipython3",
   "version": "3.7.3"
  }
 },
 "nbformat": 4,
 "nbformat_minor": 4
}
