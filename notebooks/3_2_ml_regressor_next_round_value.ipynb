{
 "cells": [
  {
   "cell_type": "markdown",
   "metadata": {},
   "source": [
    "## **Supervised ML regression algorithm to predict next round team value (CT & T)**\n",
    "## **Algorithm**"
   ]
  },
  {
   "cell_type": "markdown",
   "metadata": {},
   "source": [
    "Input data: Obtained DataFrames from the previous prediction:\n",
    "- ct_predicted_value\n",
    "- t_predicted_value\n",
    "\n",
    "Preprocces the data to create a new traget column, next round team value (**nxt_rnd_ct_val** & **nxt_rnd_t_val**)"
   ]
  },
  {
   "cell_type": "code",
   "execution_count": 1,
   "metadata": {},
   "outputs": [],
   "source": [
    "import pandas as pd\n",
    "\n",
    "from sklearn.pipeline import Pipeline\n",
    "from sklearn.compose import ColumnTransformer\n",
    "from sklearn.preprocessing import StandardScaler, LabelEncoder\n",
    "from sklearn.model_selection import train_test_split, RandomizedSearchCV\n",
    "from sklearn.metrics import mean_squared_error, r2_score\n",
    "\n",
    "from sklearn.linear_model import Lasso\n",
    "\n",
    "from lightgbm import LGBMRegressor\n",
    "from joblib import dump, load"
   ]
  },
  {
   "cell_type": "code",
   "execution_count": 2,
   "metadata": {},
   "outputs": [],
   "source": [
    "pd.set_option('display.max_columns', 30)\n",
    "pd.set_option('display.max_rows', 30)"
   ]
  },
  {
   "cell_type": "markdown",
   "metadata": {},
   "source": [
    "### Load Data"
   ]
  },
  {
   "cell_type": "code",
   "execution_count": 3,
   "metadata": {},
   "outputs": [],
   "source": [
    "ct_df = pd.read_csv('../data/processed/3_base_predict_next_rnd_ct_val.csv')\n",
    "t_df = pd.read_csv('../data/processed/3_base_predict_next_rnd_t_val.csv')"
   ]
  },
  {
   "cell_type": "code",
   "execution_count": 4,
   "metadata": {},
   "outputs": [
    {
     "data": {
      "text/html": [
       "<div>\n",
       "<style scoped>\n",
       "    .dataframe tbody tr th:only-of-type {\n",
       "        vertical-align: middle;\n",
       "    }\n",
       "\n",
       "    .dataframe tbody tr th {\n",
       "        vertical-align: top;\n",
       "    }\n",
       "\n",
       "    .dataframe thead th {\n",
       "        text-align: right;\n",
       "    }\n",
       "</style>\n",
       "<table border=\"1\" class=\"dataframe\">\n",
       "  <thead>\n",
       "    <tr style=\"text-align: right;\">\n",
       "      <th></th>\n",
       "      <th>Unnamed: 0</th>\n",
       "      <th>file</th>\n",
       "      <th>round</th>\n",
       "      <th>wp_ct_val</th>\n",
       "      <th>nade_ct_val</th>\n",
       "      <th>ct_alive</th>\n",
       "      <th>t_alive</th>\n",
       "      <th>ct_winner</th>\n",
       "      <th>bomb_planted</th>\n",
       "      <th>ct_cons_wins</th>\n",
       "      <th>t_cons_wins</th>\n",
       "      <th>ct_val_real</th>\n",
       "      <th>ct_val_pred</th>\n",
       "      <th>nxt_rnd_ct_val</th>\n",
       "    </tr>\n",
       "  </thead>\n",
       "  <tbody>\n",
       "    <tr>\n",
       "      <th>0</th>\n",
       "      <td>0</td>\n",
       "      <td>0</td>\n",
       "      <td>1</td>\n",
       "      <td>1000.0</td>\n",
       "      <td>550</td>\n",
       "      <td>5</td>\n",
       "      <td>5</td>\n",
       "      <td>0.5</td>\n",
       "      <td>0.5</td>\n",
       "      <td>0</td>\n",
       "      <td>0</td>\n",
       "      <td>4550</td>\n",
       "      <td>4078.134589</td>\n",
       "      <td>18450</td>\n",
       "    </tr>\n",
       "    <tr>\n",
       "      <th>1</th>\n",
       "      <td>1</td>\n",
       "      <td>0</td>\n",
       "      <td>2</td>\n",
       "      <td>10100.0</td>\n",
       "      <td>1100</td>\n",
       "      <td>4</td>\n",
       "      <td>0</td>\n",
       "      <td>1.0</td>\n",
       "      <td>0.0</td>\n",
       "      <td>1</td>\n",
       "      <td>0</td>\n",
       "      <td>18450</td>\n",
       "      <td>17819.702711</td>\n",
       "      <td>9550</td>\n",
       "    </tr>\n",
       "    <tr>\n",
       "      <th>2</th>\n",
       "      <td>2</td>\n",
       "      <td>0</td>\n",
       "      <td>3</td>\n",
       "      <td>4125.0</td>\n",
       "      <td>900</td>\n",
       "      <td>0</td>\n",
       "      <td>1</td>\n",
       "      <td>0.0</td>\n",
       "      <td>0.0</td>\n",
       "      <td>0</td>\n",
       "      <td>1</td>\n",
       "      <td>9550</td>\n",
       "      <td>7038.468589</td>\n",
       "      <td>1600</td>\n",
       "    </tr>\n",
       "    <tr>\n",
       "      <th>3</th>\n",
       "      <td>3</td>\n",
       "      <td>0</td>\n",
       "      <td>4</td>\n",
       "      <td>1000.0</td>\n",
       "      <td>0</td>\n",
       "      <td>0</td>\n",
       "      <td>3</td>\n",
       "      <td>0.0</td>\n",
       "      <td>1.0</td>\n",
       "      <td>0</td>\n",
       "      <td>2</td>\n",
       "      <td>1600</td>\n",
       "      <td>1452.468928</td>\n",
       "      <td>23350</td>\n",
       "    </tr>\n",
       "    <tr>\n",
       "      <th>4</th>\n",
       "      <td>4</td>\n",
       "      <td>0</td>\n",
       "      <td>5</td>\n",
       "      <td>15500.0</td>\n",
       "      <td>1400</td>\n",
       "      <td>0</td>\n",
       "      <td>4</td>\n",
       "      <td>0.0</td>\n",
       "      <td>1.0</td>\n",
       "      <td>0</td>\n",
       "      <td>3</td>\n",
       "      <td>23350</td>\n",
       "      <td>22676.205763</td>\n",
       "      <td>26400</td>\n",
       "    </tr>\n",
       "  </tbody>\n",
       "</table>\n",
       "</div>"
      ],
      "text/plain": [
       "   Unnamed: 0  file  round  wp_ct_val  nade_ct_val  ct_alive  t_alive  \\\n",
       "0           0     0      1     1000.0          550         5        5   \n",
       "1           1     0      2    10100.0         1100         4        0   \n",
       "2           2     0      3     4125.0          900         0        1   \n",
       "3           3     0      4     1000.0            0         0        3   \n",
       "4           4     0      5    15500.0         1400         0        4   \n",
       "\n",
       "   ct_winner  bomb_planted  ct_cons_wins  t_cons_wins  ct_val_real  \\\n",
       "0        0.5           0.5             0            0         4550   \n",
       "1        1.0           0.0             1            0        18450   \n",
       "2        0.0           0.0             0            1         9550   \n",
       "3        0.0           1.0             0            2         1600   \n",
       "4        0.0           1.0             0            3        23350   \n",
       "\n",
       "    ct_val_pred  nxt_rnd_ct_val  \n",
       "0   4078.134589           18450  \n",
       "1  17819.702711            9550  \n",
       "2   7038.468589            1600  \n",
       "3   1452.468928           23350  \n",
       "4  22676.205763           26400  "
      ]
     },
     "metadata": {},
     "output_type": "display_data"
    },
    {
     "data": {
      "text/html": [
       "<div>\n",
       "<style scoped>\n",
       "    .dataframe tbody tr th:only-of-type {\n",
       "        vertical-align: middle;\n",
       "    }\n",
       "\n",
       "    .dataframe tbody tr th {\n",
       "        vertical-align: top;\n",
       "    }\n",
       "\n",
       "    .dataframe thead th {\n",
       "        text-align: right;\n",
       "    }\n",
       "</style>\n",
       "<table border=\"1\" class=\"dataframe\">\n",
       "  <thead>\n",
       "    <tr style=\"text-align: right;\">\n",
       "      <th></th>\n",
       "      <th>Unnamed: 0</th>\n",
       "      <th>file</th>\n",
       "      <th>round</th>\n",
       "      <th>wp_t_val</th>\n",
       "      <th>nade_t_val</th>\n",
       "      <th>ct_alive</th>\n",
       "      <th>t_alive</th>\n",
       "      <th>ct_winner</th>\n",
       "      <th>bomb_planted</th>\n",
       "      <th>ct_cons_wins</th>\n",
       "      <th>t_cons_wins</th>\n",
       "      <th>t_val_real</th>\n",
       "      <th>t_val_pred</th>\n",
       "      <th>nxt_rnd_t_val</th>\n",
       "    </tr>\n",
       "  </thead>\n",
       "  <tbody>\n",
       "    <tr>\n",
       "      <th>0</th>\n",
       "      <td>0</td>\n",
       "      <td>0</td>\n",
       "      <td>1</td>\n",
       "      <td>1166.666667</td>\n",
       "      <td>1200</td>\n",
       "      <td>5</td>\n",
       "      <td>5</td>\n",
       "      <td>0.5</td>\n",
       "      <td>0.5</td>\n",
       "      <td>0</td>\n",
       "      <td>0</td>\n",
       "      <td>3850</td>\n",
       "      <td>3943.272665</td>\n",
       "      <td>5300</td>\n",
       "    </tr>\n",
       "    <tr>\n",
       "      <th>1</th>\n",
       "      <td>1</td>\n",
       "      <td>0</td>\n",
       "      <td>2</td>\n",
       "      <td>3687.500000</td>\n",
       "      <td>50</td>\n",
       "      <td>4</td>\n",
       "      <td>0</td>\n",
       "      <td>1.0</td>\n",
       "      <td>0.0</td>\n",
       "      <td>1</td>\n",
       "      <td>0</td>\n",
       "      <td>5300</td>\n",
       "      <td>6290.616771</td>\n",
       "      <td>22900</td>\n",
       "    </tr>\n",
       "    <tr>\n",
       "      <th>2</th>\n",
       "      <td>2</td>\n",
       "      <td>0</td>\n",
       "      <td>3</td>\n",
       "      <td>11700.000000</td>\n",
       "      <td>2450</td>\n",
       "      <td>0</td>\n",
       "      <td>1</td>\n",
       "      <td>0.0</td>\n",
       "      <td>0.0</td>\n",
       "      <td>0</td>\n",
       "      <td>1</td>\n",
       "      <td>22900</td>\n",
       "      <td>19600.790638</td>\n",
       "      <td>19650</td>\n",
       "    </tr>\n",
       "    <tr>\n",
       "      <th>3</th>\n",
       "      <td>3</td>\n",
       "      <td>0</td>\n",
       "      <td>4</td>\n",
       "      <td>11700.000000</td>\n",
       "      <td>1600</td>\n",
       "      <td>0</td>\n",
       "      <td>3</td>\n",
       "      <td>0.0</td>\n",
       "      <td>1.0</td>\n",
       "      <td>0</td>\n",
       "      <td>2</td>\n",
       "      <td>19650</td>\n",
       "      <td>22568.098741</td>\n",
       "      <td>21750</td>\n",
       "    </tr>\n",
       "    <tr>\n",
       "      <th>4</th>\n",
       "      <td>4</td>\n",
       "      <td>0</td>\n",
       "      <td>5</td>\n",
       "      <td>12750.000000</td>\n",
       "      <td>1700</td>\n",
       "      <td>0</td>\n",
       "      <td>4</td>\n",
       "      <td>0.0</td>\n",
       "      <td>1.0</td>\n",
       "      <td>0</td>\n",
       "      <td>3</td>\n",
       "      <td>21750</td>\n",
       "      <td>24459.855175</td>\n",
       "      <td>19900</td>\n",
       "    </tr>\n",
       "  </tbody>\n",
       "</table>\n",
       "</div>"
      ],
      "text/plain": [
       "   Unnamed: 0  file  round      wp_t_val  nade_t_val  ct_alive  t_alive  \\\n",
       "0           0     0      1   1166.666667        1200         5        5   \n",
       "1           1     0      2   3687.500000          50         4        0   \n",
       "2           2     0      3  11700.000000        2450         0        1   \n",
       "3           3     0      4  11700.000000        1600         0        3   \n",
       "4           4     0      5  12750.000000        1700         0        4   \n",
       "\n",
       "   ct_winner  bomb_planted  ct_cons_wins  t_cons_wins  t_val_real  \\\n",
       "0        0.5           0.5             0            0        3850   \n",
       "1        1.0           0.0             1            0        5300   \n",
       "2        0.0           0.0             0            1       22900   \n",
       "3        0.0           1.0             0            2       19650   \n",
       "4        0.0           1.0             0            3       21750   \n",
       "\n",
       "     t_val_pred  nxt_rnd_t_val  \n",
       "0   3943.272665           5300  \n",
       "1   6290.616771          22900  \n",
       "2  19600.790638          19650  \n",
       "3  22568.098741          21750  \n",
       "4  24459.855175          19900  "
      ]
     },
     "metadata": {},
     "output_type": "display_data"
    }
   ],
   "source": [
    "display(ct_df.head())\n",
    "display(t_df.head())"
   ]
  },
  {
   "cell_type": "markdown",
   "metadata": {},
   "source": [
    "### Define Features and Target"
   ]
  },
  {
   "cell_type": "code",
   "execution_count": 5,
   "metadata": {},
   "outputs": [],
   "source": [
    "CT_FEATS = ['file', 'round', 'wp_ct_val', 'nade_ct_val', 'ct_alive', 't_alive', 'ct_winner', 'bomb_planted', 'ct_cons_wins', 't_cons_wins', 'ct_val_pred']\n",
    "T_FEATS = ['file', 'round', 'wp_t_val', 'nade_t_val', 'ct_alive', 't_alive', 'ct_winner', 'bomb_planted', 'ct_cons_wins', 't_cons_wins', 't_val_pred']\n",
    "\n",
    "CT_TARGET = 'nxt_rnd_ct_val'\n",
    "T_TARGET = 'nxt_rnd_t_val'"
   ]
  },
  {
   "cell_type": "markdown",
   "metadata": {},
   "source": [
    "### Preprocessor"
   ]
  },
  {
   "cell_type": "code",
   "execution_count": 6,
   "metadata": {},
   "outputs": [],
   "source": [
    "#Preprocessor\n",
    "\n",
    "numeric_transformer = Pipeline(steps=[('scaler', StandardScaler())])\n",
    "\n",
    "preprocessor_ct = ColumnTransformer(transformers=[('num', numeric_transformer, CT_FEATS)])\n",
    "preprocessor_t = ColumnTransformer(transformers=[('num', numeric_transformer, T_FEATS)])"
   ]
  },
  {
   "cell_type": "markdown",
   "metadata": {},
   "source": [
    "### **SPLITS**"
   ]
  },
  {
   "cell_type": "code",
   "execution_count": 7,
   "metadata": {},
   "outputs": [],
   "source": [
    "ct_train, ct_test = train_test_split(ct_df)\n",
    "t_train, t_test = train_test_split(t_df)"
   ]
  },
  {
   "cell_type": "code",
   "execution_count": 8,
   "metadata": {},
   "outputs": [
    {
     "name": "stdout",
     "output_type": "stream",
     "text": [
      "(233109, 14) (77704, 14)\n",
      "(233109, 14) (77704, 14)\n"
     ]
    }
   ],
   "source": [
    "print(ct_train.shape, ct_test.shape)\n",
    "print(t_train.shape, t_test.shape)"
   ]
  },
  {
   "cell_type": "markdown",
   "metadata": {},
   "source": [
    "### **MODEL**"
   ]
  },
  {
   "cell_type": "markdown",
   "metadata": {},
   "source": [
    "#### We take **LightGBM** as the regressor algorithm, like the previous prediction"
   ]
  },
  {
   "cell_type": "code",
   "execution_count": 9,
   "metadata": {},
   "outputs": [],
   "source": [
    "regressor = LGBMRegressor(boosting_type='gbdt', \n",
    "                       bagging_freq=1, \n",
    "                       bagging_fraction = 0.9, \n",
    "                       n_estimators=100)\n",
    "\n",
    "# regressor = Lasso()"
   ]
  },
  {
   "cell_type": "code",
   "execution_count": 10,
   "metadata": {},
   "outputs": [],
   "source": [
    "# ct_model = Pipeline(steps=[('ct_preprocessor', preprocessor_ct),\n",
    "#                            ('regressor', regressor)])\n",
    "\n",
    "t_model = Pipeline(steps=[('t_preprocessor', preprocessor_t),\n",
    "                           ('regressor', regressor)])"
   ]
  },
  {
   "cell_type": "code",
   "execution_count": 11,
   "metadata": {},
   "outputs": [],
   "source": [
    "# ct_model.fit(ct_train[CT_FEATS], ct_train[CT_TARGET]);\n",
    "\n",
    "t_model.fit(t_train[T_FEATS], t_train[T_TARGET]);"
   ]
  },
  {
   "cell_type": "markdown",
   "metadata": {},
   "source": [
    "### **CHECK PERFORMANCE**"
   ]
  },
  {
   "cell_type": "code",
   "execution_count": 12,
   "metadata": {},
   "outputs": [],
   "source": [
    "# y_ct_test = ct_model.predict(ct_test[CT_FEATS])\n",
    "# y_ct_train = ct_model.predict(ct_train[CT_FEATS])\n",
    "\n",
    "y_t_test = t_model.predict(t_test[T_FEATS])\n",
    "y_t_train = t_model.predict(t_train[T_FEATS])"
   ]
  },
  {
   "cell_type": "code",
   "execution_count": 13,
   "metadata": {},
   "outputs": [
    {
     "name": "stdout",
     "output_type": "stream",
     "text": [
      "\n",
      "T test error: 7269.9180650791395\n",
      "T train error: 7234.219495584384\n"
     ]
    }
   ],
   "source": [
    "# Mean_squared_error\n",
    "\n",
    "# print(f\"CT test error: {mean_squared_error(y_pred=y_ct_test, y_true=ct_test[CT_TARGET], squared=False)}\")\n",
    "# print(f\"CT train error: {mean_squared_error(y_pred=y_ct_train, y_true=ct_train[CT_TARGET], squared=False)}\")\n",
    "print()\n",
    "print(f\"T test error: {mean_squared_error(y_pred=y_t_test, y_true=t_test[T_TARGET], squared=False)}\")\n",
    "print(f\"T train error: {mean_squared_error(y_pred=y_t_train, y_true=t_train[T_TARGET], squared=False)}\")"
   ]
  },
  {
   "cell_type": "code",
   "execution_count": 14,
   "metadata": {},
   "outputs": [
    {
     "name": "stdout",
     "output_type": "stream",
     "text": [
      "\n",
      "T test error: 0.3634357891263148\n",
      "T train error: 0.37004033797566804\n"
     ]
    }
   ],
   "source": [
    "# r2_score\n",
    "\n",
    "# print(f\"CT test error: {r2_score(y_pred=y_ct_test, y_true=ct_test[CT_TARGET])}\")\n",
    "# print(f\"CT train error: {r2_score(y_pred=y_ct_train, y_true=ct_train[CT_TARGET])}\")\n",
    "print()\n",
    "print(f\"T test error: {r2_score(y_pred=y_t_test, y_true=t_test[T_TARGET])}\")\n",
    "print(f\"T train error: {r2_score(y_pred=y_t_train, y_true=t_train[T_TARGET])}\")"
   ]
  },
  {
   "cell_type": "markdown",
   "metadata": {},
   "source": [
    "--------------------------------\n",
    "### LGBM REGRESSOR\n",
    "CT test error:_______8444.855 || <font color='red'>0.34713</font>\n",
    "\n",
    "CT train error:______8392.133 || <font color='red'>0.35541</font>\n",
    "\n",
    "T test error:________6927.958 || <font color='red'>0.36787</font>\n",
    "\n",
    "T train error:_______6838.890 || <font color='red'>0.38061</font>"
   ]
  },
  {
   "cell_type": "markdown",
   "metadata": {},
   "source": [
    "### We get a very unaccurate prediction with a very low r2 score\n",
    "\n",
    "After so many attempts with new features, parameter tuning, and different regressors, we conclude to try to <font color='green'>**predict a range of team values**</font>, not the exact value"
   ]
  }
 ],
 "metadata": {
  "kernelspec": {
   "display_name": "Python [conda env:ironhack_env]",
   "language": "python",
   "name": "conda-env-ironhack_env-py"
  },
  "language_info": {
   "codemirror_mode": {
    "name": "ipython",
    "version": 3
   },
   "file_extension": ".py",
   "mimetype": "text/x-python",
   "name": "python",
   "nbconvert_exporter": "python",
   "pygments_lexer": "ipython3",
   "version": "3.7.3"
  }
 },
 "nbformat": 4,
 "nbformat_minor": 4
}
