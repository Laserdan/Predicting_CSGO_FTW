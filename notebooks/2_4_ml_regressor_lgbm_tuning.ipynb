{
 "cells": [
  {
   "cell_type": "markdown",
   "metadata": {},
   "source": [
    "## **2nd Supervised ML LightGBM regressor algorithm**"
   ]
  },
  {
   "cell_type": "code",
   "execution_count": 1,
   "metadata": {},
   "outputs": [],
   "source": [
    "import pandas as pd\n",
    "\n",
    "from sklearn.pipeline import Pipeline\n",
    "from sklearn.compose import ColumnTransformer\n",
    "from sklearn.preprocessing import StandardScaler, LabelEncoder\n",
    "from sklearn.model_selection import train_test_split, RandomizedSearchCV\n",
    "from sklearn.metrics import mean_squared_error, r2_score\n",
    "\n",
    "from lightgbm import LGBMRegressor\n",
    "from joblib import dump, load"
   ]
  },
  {
   "cell_type": "code",
   "execution_count": 2,
   "metadata": {},
   "outputs": [],
   "source": [
    "pd.set_option('display.max_columns', 30)\n",
    "pd.set_option('display.max_rows', 30)"
   ]
  },
  {
   "cell_type": "markdown",
   "metadata": {},
   "source": [
    "### Data"
   ]
  },
  {
   "cell_type": "code",
   "execution_count": 3,
   "metadata": {},
   "outputs": [],
   "source": [
    "df = pd.read_csv('../data/processed/base_to_ml_predicted_team_value.csv')"
   ]
  },
  {
   "cell_type": "markdown",
   "metadata": {},
   "source": [
    "### Preprocessing\n",
    "\n",
    "Erase column 'round_type' because we cannot know this value from the live records"
   ]
  },
  {
   "cell_type": "code",
   "execution_count": 4,
   "metadata": {},
   "outputs": [],
   "source": [
    "df.drop(['round_type'], axis=1, inplace=True)"
   ]
  },
  {
   "cell_type": "code",
   "execution_count": 5,
   "metadata": {},
   "outputs": [
    {
     "data": {
      "text/html": [
       "<div>\n",
       "<style scoped>\n",
       "    .dataframe tbody tr th:only-of-type {\n",
       "        vertical-align: middle;\n",
       "    }\n",
       "\n",
       "    .dataframe tbody tr th {\n",
       "        vertical-align: top;\n",
       "    }\n",
       "\n",
       "    .dataframe thead th {\n",
       "        text-align: right;\n",
       "    }\n",
       "</style>\n",
       "<table border=\"1\" class=\"dataframe\">\n",
       "  <thead>\n",
       "    <tr style=\"text-align: right;\">\n",
       "      <th></th>\n",
       "      <th>file</th>\n",
       "      <th>round</th>\n",
       "      <th>wp_ct_val</th>\n",
       "      <th>wp_t_val</th>\n",
       "      <th>nade_ct_val</th>\n",
       "      <th>nade_t_val</th>\n",
       "      <th>ct_alive</th>\n",
       "      <th>t_alive</th>\n",
       "      <th>ct_winner</th>\n",
       "      <th>bomb_planted</th>\n",
       "      <th>ct_cons_wins</th>\n",
       "      <th>t_cons_wins</th>\n",
       "      <th>ct_val_real</th>\n",
       "      <th>t_val_real</th>\n",
       "    </tr>\n",
       "  </thead>\n",
       "  <tbody>\n",
       "    <tr>\n",
       "      <th>310808</th>\n",
       "      <td>esea_match_13829171.dem</td>\n",
       "      <td>20</td>\n",
       "      <td>15500.0</td>\n",
       "      <td>13500.000000</td>\n",
       "      <td>600</td>\n",
       "      <td>1900</td>\n",
       "      <td>0</td>\n",
       "      <td>4</td>\n",
       "      <td>0.0</td>\n",
       "      <td>0.0</td>\n",
       "      <td>0</td>\n",
       "      <td>3</td>\n",
       "      <td>23250</td>\n",
       "      <td>28150</td>\n",
       "    </tr>\n",
       "    <tr>\n",
       "      <th>310809</th>\n",
       "      <td>esea_match_13829171.dem</td>\n",
       "      <td>21</td>\n",
       "      <td>17562.5</td>\n",
       "      <td>16062.500000</td>\n",
       "      <td>3200</td>\n",
       "      <td>1400</td>\n",
       "      <td>5</td>\n",
       "      <td>0</td>\n",
       "      <td>1.0</td>\n",
       "      <td>0.0</td>\n",
       "      <td>1</td>\n",
       "      <td>0</td>\n",
       "      <td>30950</td>\n",
       "      <td>25450</td>\n",
       "    </tr>\n",
       "    <tr>\n",
       "      <th>310810</th>\n",
       "      <td>esea_match_13829171.dem</td>\n",
       "      <td>22</td>\n",
       "      <td>23750.0</td>\n",
       "      <td>13500.000000</td>\n",
       "      <td>2700</td>\n",
       "      <td>1400</td>\n",
       "      <td>2</td>\n",
       "      <td>0</td>\n",
       "      <td>1.0</td>\n",
       "      <td>0.0</td>\n",
       "      <td>2</td>\n",
       "      <td>0</td>\n",
       "      <td>32900</td>\n",
       "      <td>16600</td>\n",
       "    </tr>\n",
       "    <tr>\n",
       "      <th>310811</th>\n",
       "      <td>esea_match_13829171.dem</td>\n",
       "      <td>23</td>\n",
       "      <td>14312.5</td>\n",
       "      <td>13500.000000</td>\n",
       "      <td>1600</td>\n",
       "      <td>2600</td>\n",
       "      <td>2</td>\n",
       "      <td>4</td>\n",
       "      <td>0.0</td>\n",
       "      <td>0.0</td>\n",
       "      <td>0</td>\n",
       "      <td>1</td>\n",
       "      <td>25950</td>\n",
       "      <td>24450</td>\n",
       "    </tr>\n",
       "    <tr>\n",
       "      <th>310812</th>\n",
       "      <td>esea_match_13829171.dem</td>\n",
       "      <td>24</td>\n",
       "      <td>23750.0</td>\n",
       "      <td>20333.333333</td>\n",
       "      <td>1200</td>\n",
       "      <td>2700</td>\n",
       "      <td>0</td>\n",
       "      <td>2</td>\n",
       "      <td>0.0</td>\n",
       "      <td>1.0</td>\n",
       "      <td>0</td>\n",
       "      <td>2</td>\n",
       "      <td>14300</td>\n",
       "      <td>27500</td>\n",
       "    </tr>\n",
       "  </tbody>\n",
       "</table>\n",
       "</div>"
      ],
      "text/plain": [
       "                           file  round  wp_ct_val      wp_t_val  nade_ct_val  \\\n",
       "310808  esea_match_13829171.dem     20    15500.0  13500.000000          600   \n",
       "310809  esea_match_13829171.dem     21    17562.5  16062.500000         3200   \n",
       "310810  esea_match_13829171.dem     22    23750.0  13500.000000         2700   \n",
       "310811  esea_match_13829171.dem     23    14312.5  13500.000000         1600   \n",
       "310812  esea_match_13829171.dem     24    23750.0  20333.333333         1200   \n",
       "\n",
       "        nade_t_val  ct_alive  t_alive  ct_winner  bomb_planted  ct_cons_wins  \\\n",
       "310808        1900         0        4        0.0           0.0             0   \n",
       "310809        1400         5        0        1.0           0.0             1   \n",
       "310810        1400         2        0        1.0           0.0             2   \n",
       "310811        2600         2        4        0.0           0.0             0   \n",
       "310812        2700         0        2        0.0           1.0             0   \n",
       "\n",
       "        t_cons_wins  ct_val_real  t_val_real  \n",
       "310808            3        23250       28150  \n",
       "310809            0        30950       25450  \n",
       "310810            0        32900       16600  \n",
       "310811            1        25950       24450  \n",
       "310812            2        14300       27500  "
      ]
     },
     "execution_count": 5,
     "metadata": {},
     "output_type": "execute_result"
    }
   ],
   "source": [
    "df.tail()"
   ]
  },
  {
   "cell_type": "markdown",
   "metadata": {},
   "source": [
    "We want to predict 'ct_val' and 't_val' so we will split the dataframe into 2 dataframes, one with CT data and other with T data"
   ]
  },
  {
   "cell_type": "markdown",
   "metadata": {},
   "source": [
    "**ct_df** = ['file',\n",
    " 'round',\n",
    " 'wp_ct_val',\n",
    " 'nade_ct_val',\n",
    " 'ct_alive',\n",
    " 't_alive',\n",
    " 'ct_winner',\n",
    " 'bomb_planted',\n",
    " 'ct_cons_wins',\n",
    " 't_cons_wins',\n",
    " 'ct_val_real']\n",
    "\n",
    "\n",
    "**t_df** = ['file',\n",
    " 'round',\n",
    " 'wp_t_val',\n",
    " 'nade_t_val',\n",
    " 'ct_alive',\n",
    " 't_alive',\n",
    " 'ct_winner',\n",
    " 'bomb_planted',\n",
    " 'ct_cons_wins',\n",
    " 't_cons_wins',\n",
    " 't_val_real']"
   ]
  },
  {
   "cell_type": "code",
   "execution_count": 6,
   "metadata": {},
   "outputs": [],
   "source": [
    "# Two DataFrames, one per CT another for T\n",
    "\n",
    "ct_df = df[['file', 'round', 'wp_ct_val', 'nade_ct_val', 'ct_alive', 't_alive', 'ct_winner', 'bomb_planted', 'ct_cons_wins', 't_cons_wins', 'ct_val_real']]\n",
    "t_df = df[['file', 'round', 'wp_t_val', 'nade_t_val', 'ct_alive', 't_alive', 'ct_winner', 'bomb_planted', 'ct_cons_wins', 't_cons_wins', 't_val_real']]"
   ]
  },
  {
   "cell_type": "code",
   "execution_count": 7,
   "metadata": {},
   "outputs": [
    {
     "data": {
      "text/html": [
       "<div>\n",
       "<style scoped>\n",
       "    .dataframe tbody tr th:only-of-type {\n",
       "        vertical-align: middle;\n",
       "    }\n",
       "\n",
       "    .dataframe tbody tr th {\n",
       "        vertical-align: top;\n",
       "    }\n",
       "\n",
       "    .dataframe thead th {\n",
       "        text-align: right;\n",
       "    }\n",
       "</style>\n",
       "<table border=\"1\" class=\"dataframe\">\n",
       "  <thead>\n",
       "    <tr style=\"text-align: right;\">\n",
       "      <th></th>\n",
       "      <th>file</th>\n",
       "      <th>round</th>\n",
       "      <th>wp_ct_val</th>\n",
       "      <th>nade_ct_val</th>\n",
       "      <th>ct_alive</th>\n",
       "      <th>t_alive</th>\n",
       "      <th>ct_winner</th>\n",
       "      <th>bomb_planted</th>\n",
       "      <th>ct_cons_wins</th>\n",
       "      <th>t_cons_wins</th>\n",
       "      <th>ct_val_real</th>\n",
       "    </tr>\n",
       "  </thead>\n",
       "  <tbody>\n",
       "    <tr>\n",
       "      <th>0</th>\n",
       "      <td>esea_match_13779704.dem</td>\n",
       "      <td>1</td>\n",
       "      <td>1000.0</td>\n",
       "      <td>550</td>\n",
       "      <td>5</td>\n",
       "      <td>5</td>\n",
       "      <td>0.5</td>\n",
       "      <td>0.5</td>\n",
       "      <td>0</td>\n",
       "      <td>0</td>\n",
       "      <td>4550</td>\n",
       "    </tr>\n",
       "    <tr>\n",
       "      <th>1</th>\n",
       "      <td>esea_match_13779704.dem</td>\n",
       "      <td>2</td>\n",
       "      <td>10100.0</td>\n",
       "      <td>1100</td>\n",
       "      <td>4</td>\n",
       "      <td>0</td>\n",
       "      <td>1.0</td>\n",
       "      <td>0.0</td>\n",
       "      <td>1</td>\n",
       "      <td>0</td>\n",
       "      <td>18450</td>\n",
       "    </tr>\n",
       "    <tr>\n",
       "      <th>2</th>\n",
       "      <td>esea_match_13779704.dem</td>\n",
       "      <td>3</td>\n",
       "      <td>4125.0</td>\n",
       "      <td>900</td>\n",
       "      <td>0</td>\n",
       "      <td>1</td>\n",
       "      <td>0.0</td>\n",
       "      <td>0.0</td>\n",
       "      <td>0</td>\n",
       "      <td>1</td>\n",
       "      <td>9550</td>\n",
       "    </tr>\n",
       "    <tr>\n",
       "      <th>3</th>\n",
       "      <td>esea_match_13779704.dem</td>\n",
       "      <td>4</td>\n",
       "      <td>1000.0</td>\n",
       "      <td>0</td>\n",
       "      <td>0</td>\n",
       "      <td>3</td>\n",
       "      <td>0.0</td>\n",
       "      <td>1.0</td>\n",
       "      <td>0</td>\n",
       "      <td>2</td>\n",
       "      <td>1600</td>\n",
       "    </tr>\n",
       "    <tr>\n",
       "      <th>4</th>\n",
       "      <td>esea_match_13779704.dem</td>\n",
       "      <td>5</td>\n",
       "      <td>15500.0</td>\n",
       "      <td>1400</td>\n",
       "      <td>0</td>\n",
       "      <td>4</td>\n",
       "      <td>0.0</td>\n",
       "      <td>1.0</td>\n",
       "      <td>0</td>\n",
       "      <td>3</td>\n",
       "      <td>23350</td>\n",
       "    </tr>\n",
       "  </tbody>\n",
       "</table>\n",
       "</div>"
      ],
      "text/plain": [
       "                      file  round  wp_ct_val  nade_ct_val  ct_alive  t_alive  \\\n",
       "0  esea_match_13779704.dem      1     1000.0          550         5        5   \n",
       "1  esea_match_13779704.dem      2    10100.0         1100         4        0   \n",
       "2  esea_match_13779704.dem      3     4125.0          900         0        1   \n",
       "3  esea_match_13779704.dem      4     1000.0            0         0        3   \n",
       "4  esea_match_13779704.dem      5    15500.0         1400         0        4   \n",
       "\n",
       "   ct_winner  bomb_planted  ct_cons_wins  t_cons_wins  ct_val_real  \n",
       "0        0.5           0.5             0            0         4550  \n",
       "1        1.0           0.0             1            0        18450  \n",
       "2        0.0           0.0             0            1         9550  \n",
       "3        0.0           1.0             0            2         1600  \n",
       "4        0.0           1.0             0            3        23350  "
      ]
     },
     "metadata": {},
     "output_type": "display_data"
    },
    {
     "data": {
      "text/html": [
       "<div>\n",
       "<style scoped>\n",
       "    .dataframe tbody tr th:only-of-type {\n",
       "        vertical-align: middle;\n",
       "    }\n",
       "\n",
       "    .dataframe tbody tr th {\n",
       "        vertical-align: top;\n",
       "    }\n",
       "\n",
       "    .dataframe thead th {\n",
       "        text-align: right;\n",
       "    }\n",
       "</style>\n",
       "<table border=\"1\" class=\"dataframe\">\n",
       "  <thead>\n",
       "    <tr style=\"text-align: right;\">\n",
       "      <th></th>\n",
       "      <th>file</th>\n",
       "      <th>round</th>\n",
       "      <th>wp_t_val</th>\n",
       "      <th>nade_t_val</th>\n",
       "      <th>ct_alive</th>\n",
       "      <th>t_alive</th>\n",
       "      <th>ct_winner</th>\n",
       "      <th>bomb_planted</th>\n",
       "      <th>ct_cons_wins</th>\n",
       "      <th>t_cons_wins</th>\n",
       "      <th>t_val_real</th>\n",
       "    </tr>\n",
       "  </thead>\n",
       "  <tbody>\n",
       "    <tr>\n",
       "      <th>310808</th>\n",
       "      <td>esea_match_13829171.dem</td>\n",
       "      <td>20</td>\n",
       "      <td>13500.000000</td>\n",
       "      <td>1900</td>\n",
       "      <td>0</td>\n",
       "      <td>4</td>\n",
       "      <td>0.0</td>\n",
       "      <td>0.0</td>\n",
       "      <td>0</td>\n",
       "      <td>3</td>\n",
       "      <td>28150</td>\n",
       "    </tr>\n",
       "    <tr>\n",
       "      <th>310809</th>\n",
       "      <td>esea_match_13829171.dem</td>\n",
       "      <td>21</td>\n",
       "      <td>16062.500000</td>\n",
       "      <td>1400</td>\n",
       "      <td>5</td>\n",
       "      <td>0</td>\n",
       "      <td>1.0</td>\n",
       "      <td>0.0</td>\n",
       "      <td>1</td>\n",
       "      <td>0</td>\n",
       "      <td>25450</td>\n",
       "    </tr>\n",
       "    <tr>\n",
       "      <th>310810</th>\n",
       "      <td>esea_match_13829171.dem</td>\n",
       "      <td>22</td>\n",
       "      <td>13500.000000</td>\n",
       "      <td>1400</td>\n",
       "      <td>2</td>\n",
       "      <td>0</td>\n",
       "      <td>1.0</td>\n",
       "      <td>0.0</td>\n",
       "      <td>2</td>\n",
       "      <td>0</td>\n",
       "      <td>16600</td>\n",
       "    </tr>\n",
       "    <tr>\n",
       "      <th>310811</th>\n",
       "      <td>esea_match_13829171.dem</td>\n",
       "      <td>23</td>\n",
       "      <td>13500.000000</td>\n",
       "      <td>2600</td>\n",
       "      <td>2</td>\n",
       "      <td>4</td>\n",
       "      <td>0.0</td>\n",
       "      <td>0.0</td>\n",
       "      <td>0</td>\n",
       "      <td>1</td>\n",
       "      <td>24450</td>\n",
       "    </tr>\n",
       "    <tr>\n",
       "      <th>310812</th>\n",
       "      <td>esea_match_13829171.dem</td>\n",
       "      <td>24</td>\n",
       "      <td>20333.333333</td>\n",
       "      <td>2700</td>\n",
       "      <td>0</td>\n",
       "      <td>2</td>\n",
       "      <td>0.0</td>\n",
       "      <td>1.0</td>\n",
       "      <td>0</td>\n",
       "      <td>2</td>\n",
       "      <td>27500</td>\n",
       "    </tr>\n",
       "  </tbody>\n",
       "</table>\n",
       "</div>"
      ],
      "text/plain": [
       "                           file  round      wp_t_val  nade_t_val  ct_alive  \\\n",
       "310808  esea_match_13829171.dem     20  13500.000000        1900         0   \n",
       "310809  esea_match_13829171.dem     21  16062.500000        1400         5   \n",
       "310810  esea_match_13829171.dem     22  13500.000000        1400         2   \n",
       "310811  esea_match_13829171.dem     23  13500.000000        2600         2   \n",
       "310812  esea_match_13829171.dem     24  20333.333333        2700         0   \n",
       "\n",
       "        t_alive  ct_winner  bomb_planted  ct_cons_wins  t_cons_wins  \\\n",
       "310808        4        0.0           0.0             0            3   \n",
       "310809        0        1.0           0.0             1            0   \n",
       "310810        0        1.0           0.0             2            0   \n",
       "310811        4        0.0           0.0             0            1   \n",
       "310812        2        0.0           1.0             0            2   \n",
       "\n",
       "        t_val_real  \n",
       "310808       28150  \n",
       "310809       25450  \n",
       "310810       16600  \n",
       "310811       24450  \n",
       "310812       27500  "
      ]
     },
     "execution_count": 7,
     "metadata": {},
     "output_type": "execute_result"
    }
   ],
   "source": [
    "display(ct_df.head())\n",
    "t_df.tail()"
   ]
  },
  {
   "cell_type": "code",
   "execution_count": 8,
   "metadata": {},
   "outputs": [
    {
     "name": "stderr",
     "output_type": "stream",
     "text": [
      "/home/victor/miniconda3/envs/ironhack_env/lib/python3.7/site-packages/ipykernel_launcher.py:4: SettingWithCopyWarning: \n",
      "A value is trying to be set on a copy of a slice from a DataFrame.\n",
      "Try using .loc[row_indexer,col_indexer] = value instead\n",
      "\n",
      "See the caveats in the documentation: https://pandas.pydata.org/pandas-docs/stable/user_guide/indexing.html#returning-a-view-versus-a-copy\n",
      "  after removing the cwd from sys.path.\n",
      "/home/victor/miniconda3/envs/ironhack_env/lib/python3.7/site-packages/ipykernel_launcher.py:5: SettingWithCopyWarning: \n",
      "A value is trying to be set on a copy of a slice from a DataFrame.\n",
      "Try using .loc[row_indexer,col_indexer] = value instead\n",
      "\n",
      "See the caveats in the documentation: https://pandas.pydata.org/pandas-docs/stable/user_guide/indexing.html#returning-a-view-versus-a-copy\n",
      "  \"\"\"\n"
     ]
    }
   ],
   "source": [
    "# LabelEncoder to categorical feature -> file\n",
    "le = LabelEncoder()\n",
    "\n",
    "ct_df['file'] = le.fit_transform(ct_df.file)\n",
    "t_df['file'] = le.fit_transform(t_df.file)"
   ]
  },
  {
   "cell_type": "code",
   "execution_count": 9,
   "metadata": {},
   "outputs": [
    {
     "data": {
      "text/html": [
       "<div>\n",
       "<style scoped>\n",
       "    .dataframe tbody tr th:only-of-type {\n",
       "        vertical-align: middle;\n",
       "    }\n",
       "\n",
       "    .dataframe tbody tr th {\n",
       "        vertical-align: top;\n",
       "    }\n",
       "\n",
       "    .dataframe thead th {\n",
       "        text-align: right;\n",
       "    }\n",
       "</style>\n",
       "<table border=\"1\" class=\"dataframe\">\n",
       "  <thead>\n",
       "    <tr style=\"text-align: right;\">\n",
       "      <th></th>\n",
       "      <th>file</th>\n",
       "      <th>round</th>\n",
       "      <th>wp_ct_val</th>\n",
       "      <th>nade_ct_val</th>\n",
       "      <th>ct_alive</th>\n",
       "      <th>t_alive</th>\n",
       "      <th>ct_winner</th>\n",
       "      <th>bomb_planted</th>\n",
       "      <th>ct_cons_wins</th>\n",
       "      <th>t_cons_wins</th>\n",
       "      <th>ct_val_real</th>\n",
       "    </tr>\n",
       "  </thead>\n",
       "  <tbody>\n",
       "    <tr>\n",
       "      <th>0</th>\n",
       "      <td>0</td>\n",
       "      <td>1</td>\n",
       "      <td>1000.0</td>\n",
       "      <td>550</td>\n",
       "      <td>5</td>\n",
       "      <td>5</td>\n",
       "      <td>0.5</td>\n",
       "      <td>0.5</td>\n",
       "      <td>0</td>\n",
       "      <td>0</td>\n",
       "      <td>4550</td>\n",
       "    </tr>\n",
       "    <tr>\n",
       "      <th>1</th>\n",
       "      <td>0</td>\n",
       "      <td>2</td>\n",
       "      <td>10100.0</td>\n",
       "      <td>1100</td>\n",
       "      <td>4</td>\n",
       "      <td>0</td>\n",
       "      <td>1.0</td>\n",
       "      <td>0.0</td>\n",
       "      <td>1</td>\n",
       "      <td>0</td>\n",
       "      <td>18450</td>\n",
       "    </tr>\n",
       "    <tr>\n",
       "      <th>2</th>\n",
       "      <td>0</td>\n",
       "      <td>3</td>\n",
       "      <td>4125.0</td>\n",
       "      <td>900</td>\n",
       "      <td>0</td>\n",
       "      <td>1</td>\n",
       "      <td>0.0</td>\n",
       "      <td>0.0</td>\n",
       "      <td>0</td>\n",
       "      <td>1</td>\n",
       "      <td>9550</td>\n",
       "    </tr>\n",
       "    <tr>\n",
       "      <th>3</th>\n",
       "      <td>0</td>\n",
       "      <td>4</td>\n",
       "      <td>1000.0</td>\n",
       "      <td>0</td>\n",
       "      <td>0</td>\n",
       "      <td>3</td>\n",
       "      <td>0.0</td>\n",
       "      <td>1.0</td>\n",
       "      <td>0</td>\n",
       "      <td>2</td>\n",
       "      <td>1600</td>\n",
       "    </tr>\n",
       "    <tr>\n",
       "      <th>4</th>\n",
       "      <td>0</td>\n",
       "      <td>5</td>\n",
       "      <td>15500.0</td>\n",
       "      <td>1400</td>\n",
       "      <td>0</td>\n",
       "      <td>4</td>\n",
       "      <td>0.0</td>\n",
       "      <td>1.0</td>\n",
       "      <td>0</td>\n",
       "      <td>3</td>\n",
       "      <td>23350</td>\n",
       "    </tr>\n",
       "  </tbody>\n",
       "</table>\n",
       "</div>"
      ],
      "text/plain": [
       "   file  round  wp_ct_val  nade_ct_val  ct_alive  t_alive  ct_winner  \\\n",
       "0     0      1     1000.0          550         5        5        0.5   \n",
       "1     0      2    10100.0         1100         4        0        1.0   \n",
       "2     0      3     4125.0          900         0        1        0.0   \n",
       "3     0      4     1000.0            0         0        3        0.0   \n",
       "4     0      5    15500.0         1400         0        4        0.0   \n",
       "\n",
       "   bomb_planted  ct_cons_wins  t_cons_wins  ct_val_real  \n",
       "0           0.5             0            0         4550  \n",
       "1           0.0             1            0        18450  \n",
       "2           0.0             0            1         9550  \n",
       "3           1.0             0            2         1600  \n",
       "4           1.0             0            3        23350  "
      ]
     },
     "metadata": {},
     "output_type": "display_data"
    },
    {
     "data": {
      "text/html": [
       "<div>\n",
       "<style scoped>\n",
       "    .dataframe tbody tr th:only-of-type {\n",
       "        vertical-align: middle;\n",
       "    }\n",
       "\n",
       "    .dataframe tbody tr th {\n",
       "        vertical-align: top;\n",
       "    }\n",
       "\n",
       "    .dataframe thead th {\n",
       "        text-align: right;\n",
       "    }\n",
       "</style>\n",
       "<table border=\"1\" class=\"dataframe\">\n",
       "  <thead>\n",
       "    <tr style=\"text-align: right;\">\n",
       "      <th></th>\n",
       "      <th>file</th>\n",
       "      <th>round</th>\n",
       "      <th>wp_t_val</th>\n",
       "      <th>nade_t_val</th>\n",
       "      <th>ct_alive</th>\n",
       "      <th>t_alive</th>\n",
       "      <th>ct_winner</th>\n",
       "      <th>bomb_planted</th>\n",
       "      <th>ct_cons_wins</th>\n",
       "      <th>t_cons_wins</th>\n",
       "      <th>t_val_real</th>\n",
       "    </tr>\n",
       "  </thead>\n",
       "  <tbody>\n",
       "    <tr>\n",
       "      <th>310808</th>\n",
       "      <td>12184</td>\n",
       "      <td>20</td>\n",
       "      <td>13500.000000</td>\n",
       "      <td>1900</td>\n",
       "      <td>0</td>\n",
       "      <td>4</td>\n",
       "      <td>0.0</td>\n",
       "      <td>0.0</td>\n",
       "      <td>0</td>\n",
       "      <td>3</td>\n",
       "      <td>28150</td>\n",
       "    </tr>\n",
       "    <tr>\n",
       "      <th>310809</th>\n",
       "      <td>12184</td>\n",
       "      <td>21</td>\n",
       "      <td>16062.500000</td>\n",
       "      <td>1400</td>\n",
       "      <td>5</td>\n",
       "      <td>0</td>\n",
       "      <td>1.0</td>\n",
       "      <td>0.0</td>\n",
       "      <td>1</td>\n",
       "      <td>0</td>\n",
       "      <td>25450</td>\n",
       "    </tr>\n",
       "    <tr>\n",
       "      <th>310810</th>\n",
       "      <td>12184</td>\n",
       "      <td>22</td>\n",
       "      <td>13500.000000</td>\n",
       "      <td>1400</td>\n",
       "      <td>2</td>\n",
       "      <td>0</td>\n",
       "      <td>1.0</td>\n",
       "      <td>0.0</td>\n",
       "      <td>2</td>\n",
       "      <td>0</td>\n",
       "      <td>16600</td>\n",
       "    </tr>\n",
       "    <tr>\n",
       "      <th>310811</th>\n",
       "      <td>12184</td>\n",
       "      <td>23</td>\n",
       "      <td>13500.000000</td>\n",
       "      <td>2600</td>\n",
       "      <td>2</td>\n",
       "      <td>4</td>\n",
       "      <td>0.0</td>\n",
       "      <td>0.0</td>\n",
       "      <td>0</td>\n",
       "      <td>1</td>\n",
       "      <td>24450</td>\n",
       "    </tr>\n",
       "    <tr>\n",
       "      <th>310812</th>\n",
       "      <td>12184</td>\n",
       "      <td>24</td>\n",
       "      <td>20333.333333</td>\n",
       "      <td>2700</td>\n",
       "      <td>0</td>\n",
       "      <td>2</td>\n",
       "      <td>0.0</td>\n",
       "      <td>1.0</td>\n",
       "      <td>0</td>\n",
       "      <td>2</td>\n",
       "      <td>27500</td>\n",
       "    </tr>\n",
       "  </tbody>\n",
       "</table>\n",
       "</div>"
      ],
      "text/plain": [
       "         file  round      wp_t_val  nade_t_val  ct_alive  t_alive  ct_winner  \\\n",
       "310808  12184     20  13500.000000        1900         0        4        0.0   \n",
       "310809  12184     21  16062.500000        1400         5        0        1.0   \n",
       "310810  12184     22  13500.000000        1400         2        0        1.0   \n",
       "310811  12184     23  13500.000000        2600         2        4        0.0   \n",
       "310812  12184     24  20333.333333        2700         0        2        0.0   \n",
       "\n",
       "        bomb_planted  ct_cons_wins  t_cons_wins  t_val_real  \n",
       "310808           0.0             0            3       28150  \n",
       "310809           0.0             1            0       25450  \n",
       "310810           0.0             2            0       16600  \n",
       "310811           0.0             0            1       24450  \n",
       "310812           1.0             0            2       27500  "
      ]
     },
     "execution_count": 9,
     "metadata": {},
     "output_type": "execute_result"
    }
   ],
   "source": [
    "display(ct_df.head())\n",
    "t_df.tail()"
   ]
  },
  {
   "cell_type": "markdown",
   "metadata": {},
   "source": [
    "## Define features and target"
   ]
  },
  {
   "cell_type": "code",
   "execution_count": 10,
   "metadata": {},
   "outputs": [],
   "source": [
    "# Define all the features\n",
    "\n",
    "CT_FEATS = ['file', 'round', 'wp_ct_val', 'nade_ct_val', 'ct_alive', 't_alive', 'ct_winner', 'bomb_planted', 'ct_cons_wins', 't_cons_wins']\n",
    "T_FEATS = ['file', 'round', 'wp_t_val', 'nade_t_val', 'ct_alive', 't_alive', 'ct_winner', 'bomb_planted', 'ct_cons_wins', 't_cons_wins']\n",
    "CT_TARGET = 'ct_val_real'\n",
    "T_TARGET = 't_val_real'"
   ]
  },
  {
   "cell_type": "code",
   "execution_count": 11,
   "metadata": {},
   "outputs": [],
   "source": [
    "#Preprocessor\n",
    "\n",
    "numeric_transformer = Pipeline(steps=[('scaler', StandardScaler())])\n",
    "\n",
    "preprocessor_ct = ColumnTransformer(transformers=[('num', numeric_transformer, CT_FEATS)])\n",
    "preprocessor_t = ColumnTransformer(transformers=[('num', numeric_transformer, T_FEATS)])"
   ]
  },
  {
   "cell_type": "markdown",
   "metadata": {},
   "source": [
    "### **SPLITS**\n",
    "We are going to use cross-validation, but we still hide 5% of the data to make a final prediction and be aware of possible overfitting."
   ]
  },
  {
   "cell_type": "code",
   "execution_count": 12,
   "metadata": {},
   "outputs": [],
   "source": [
    "ct_train, ct_test = train_test_split(ct_df, train_size=0.95)\n",
    "t_train, t_test = train_test_split(t_df, train_size=0.95)"
   ]
  },
  {
   "cell_type": "code",
   "execution_count": 13,
   "metadata": {},
   "outputs": [
    {
     "name": "stdout",
     "output_type": "stream",
     "text": [
      "(295272, 11) (15541, 11)\n",
      "(295272, 11) (15541, 11)\n"
     ]
    }
   ],
   "source": [
    "print(ct_train.shape, ct_test.shape)\n",
    "print(t_train.shape, t_test.shape)"
   ]
  },
  {
   "cell_type": "markdown",
   "metadata": {},
   "source": [
    "### **MODEL**"
   ]
  },
  {
   "cell_type": "code",
   "execution_count": 14,
   "metadata": {},
   "outputs": [],
   "source": [
    "regressor = LGBMRegressor()"
   ]
  },
  {
   "cell_type": "code",
   "execution_count": 15,
   "metadata": {},
   "outputs": [],
   "source": [
    "# ct_model = Pipeline(steps=[('ct_preprocessor', preprocessor_ct),\n",
    "#                            ('regressor', regressor)])\n",
    "\n",
    "t_model = Pipeline(steps=[('t_preprocessor', preprocessor_t),\n",
    "                           ('regressor', regressor)])"
   ]
  },
  {
   "cell_type": "code",
   "execution_count": 16,
   "metadata": {},
   "outputs": [
    {
     "name": "stdout",
     "output_type": "stream",
     "text": [
      "Fitting 5 folds for each of 500 candidates, totalling 2500 fits\n"
     ]
    },
    {
     "name": "stderr",
     "output_type": "stream",
     "text": [
      "[Parallel(n_jobs=-1)]: Using backend LokyBackend with 8 concurrent workers.\n",
      "[Parallel(n_jobs=-1)]: Done   2 tasks      | elapsed:   21.1s\n",
      "[Parallel(n_jobs=-1)]: Done  56 tasks      | elapsed:  2.1min\n",
      "[Parallel(n_jobs=-1)]: Done 146 tasks      | elapsed:  5.1min\n",
      "[Parallel(n_jobs=-1)]: Done 272 tasks      | elapsed:  9.4min\n",
      "[Parallel(n_jobs=-1)]: Done 434 tasks      | elapsed: 14.6min\n",
      "[Parallel(n_jobs=-1)]: Done 632 tasks      | elapsed: 21.2min\n",
      "[Parallel(n_jobs=-1)]: Done 866 tasks      | elapsed: 28.9min\n",
      "[Parallel(n_jobs=-1)]: Done 1136 tasks      | elapsed: 38.1min\n",
      "[Parallel(n_jobs=-1)]: Done 1442 tasks      | elapsed: 48.5min\n",
      "[Parallel(n_jobs=-1)]: Done 1784 tasks      | elapsed: 59.8min\n",
      "[Parallel(n_jobs=-1)]: Done 2162 tasks      | elapsed: 72.2min\n",
      "[Parallel(n_jobs=-1)]: Done 2500 out of 2500 | elapsed: 83.2min finished\n"
     ]
    },
    {
     "data": {
      "text/plain": [
       "RandomizedSearchCV(cv=5,\n",
       "                   estimator=Pipeline(steps=[('t_preprocessor',\n",
       "                                              ColumnTransformer(transformers=[('num',\n",
       "                                                                               Pipeline(steps=[('scaler',\n",
       "                                                                                                StandardScaler())]),\n",
       "                                                                               ['file',\n",
       "                                                                                'round',\n",
       "                                                                                'wp_t_val',\n",
       "                                                                                'nade_t_val',\n",
       "                                                                                'ct_alive',\n",
       "                                                                                't_alive',\n",
       "                                                                                'ct_winner',\n",
       "                                                                                'bomb_planted',\n",
       "                                                                                'ct_cons_wins',\n",
       "                                                                                't_cons_wins'])])),\n",
       "                                             ('regressor', LGBMRegressor())]),\n",
       "                   n_iter=500, n_jobs=-1,\n",
       "                   param_distributions={'...\n",
       "                                                                         0.85,\n",
       "                                                                         0.9,\n",
       "                                                                         0.95,\n",
       "                                                                         1],\n",
       "                                        'regressor__feature_fraction': [0.75,\n",
       "                                                                        0.8,\n",
       "                                                                        0.85,\n",
       "                                                                        0.9,\n",
       "                                                                        0.95,\n",
       "                                                                        1],\n",
       "                                        'regressor__learning_rate': [0.02, 0.03,\n",
       "                                                                     0.04,\n",
       "                                                                     0.045,\n",
       "                                                                     0.05,\n",
       "                                                                     0.055,\n",
       "                                                                     0.06],\n",
       "                                        'regressor__max_depth': [5, 6, 7],\n",
       "                                        'regressor__min_data_in_leaf': [4, 5, 6,\n",
       "                                                                        7, 8,\n",
       "                                                                        12,\n",
       "                                                                        15],\n",
       "                                        'regressor__n_estimators': [350, 360,\n",
       "                                                                    370, 380,\n",
       "                                                                    390, 400,\n",
       "                                                                    410, 420,\n",
       "                                                                    430],\n",
       "                                        'regressor__num_leaves': [47, 48, 49,\n",
       "                                                                  50, 51, 52]},\n",
       "                   scoring='r2', verbose=5)"
      ]
     },
     "execution_count": 16,
     "metadata": {},
     "output_type": "execute_result"
    }
   ],
   "source": [
    "# To obtain the best hyperparameters of our model, we test a wider range of values and then \n",
    "# we reduce until obtaining close but different values, in order to obtain the best results.\n",
    "\n",
    "param_grid = {\n",
    "    'regressor__num_leaves': [47,48,49,50,51,52],\n",
    "    'regressor__n_estimators': [350,360,370,380,390,400,410,420,430],\n",
    "    'regressor__min_data_in_leaf': [4,5,6,7,8,12,15],\n",
    "    'regressor__max_depth': [5,6,7],\n",
    "    'regressor__learning_rate': [0.02,0.03,0.04,0.045,0.05,0.055,0.06],\n",
    "    'regressor__feature_fraction': [0.75,0.8,0.85,0.9,0.95,1],\n",
    "    'regressor__bagging_frequency': [0.75,0.80,0.85,0.9,0.95,1],\n",
    "    'regressor__bagging_fraction': [0.75,0.8,0.85,0.9,0.95,1],\n",
    "}\n",
    "\n",
    "#CT MODEL --------------------------------------\n",
    "\n",
    "# grid_search = RandomizedSearchCV(ct_model, \n",
    "#                                  param_grid, \n",
    "#                                  cv=5, \n",
    "#                                  verbose=5, \n",
    "#                                  scoring='r2', \n",
    "#                                  n_jobs=-1,\n",
    "#                                  n_iter=700)\n",
    "\n",
    "# grid_search.fit(ct_train[CT_FEATS], ct_train[CT_TARGET])\n",
    "\n",
    "\n",
    "# T MODEL ---------------------------------------\n",
    "\n",
    "grid_search = RandomizedSearchCV(t_model, \n",
    "                                 param_grid, \n",
    "                                 cv=5, \n",
    "                                 verbose=5, \n",
    "                                 scoring='r2', \n",
    "                                 n_jobs=-1,\n",
    "                                 n_iter=500)\n",
    "\n",
    "grid_search.fit(t_train[T_FEATS], t_train[T_TARGET])"
   ]
  },
  {
   "cell_type": "code",
   "execution_count": 18,
   "metadata": {},
   "outputs": [
    {
     "data": {
      "text/plain": [
       "{'regressor__num_leaves': 51,\n",
       " 'regressor__n_estimators': 400,\n",
       " 'regressor__min_data_in_leaf': 15,\n",
       " 'regressor__max_depth': 7,\n",
       " 'regressor__learning_rate': 0.06,\n",
       " 'regressor__feature_fraction': 0.85,\n",
       " 'regressor__bagging_frequency': 0.95,\n",
       " 'regressor__bagging_fraction': 1}"
      ]
     },
     "execution_count": 18,
     "metadata": {},
     "output_type": "execute_result"
    }
   ],
   "source": [
    "#Once we have trained the model with different hyperparameter values, \n",
    "#we see which parameters have obtained the best score:\n",
    "grid_search.best_params_"
   ]
  },
  {
   "cell_type": "code",
   "execution_count": 19,
   "metadata": {},
   "outputs": [
    {
     "data": {
      "text/plain": [
       "-2691.897964099603"
      ]
     },
     "execution_count": 19,
     "metadata": {},
     "output_type": "execute_result"
    }
   ],
   "source": [
    "# see the best score that we have trained:\n",
    "grid_search.best_score_"
   ]
  },
  {
   "cell_type": "markdown",
   "metadata": {},
   "source": [
    "### Best hyperparameter values for **ct_model**"
   ]
  },
  {
   "cell_type": "code",
   "execution_count": 20,
   "metadata": {},
   "outputs": [
    {
     "data": {
      "text/plain": [
       "{'regressor__num_leaves': 51,\n",
       " 'regressor__n_estimators': 400,\n",
       " 'regressor__min_data_in_leaf': 15,\n",
       " 'regressor__max_depth': 7,\n",
       " 'regressor__learning_rate': 0.06,\n",
       " 'regressor__feature_fraction': 0.85,\n",
       " 'regressor__bagging_frequency': 0.95,\n",
       " 'regressor__bagging_fraction': 1}"
      ]
     },
     "execution_count": 20,
     "metadata": {},
     "output_type": "execute_result"
    }
   ],
   "source": [
    "{'regressor__num_leaves': 51,\n",
    " 'regressor__n_estimators': 400,\n",
    " 'regressor__min_data_in_leaf': 15,\n",
    " 'regressor__max_depth': 7,\n",
    " 'regressor__learning_rate': 0.06,\n",
    " 'regressor__feature_fraction': 0.85,\n",
    " 'regressor__bagging_frequency': 0.95,\n",
    " 'regressor__bagging_fraction': 1}"
   ]
  },
  {
   "cell_type": "markdown",
   "metadata": {},
   "source": [
    "### Best hyperparameter values for **t_model**"
   ]
  },
  {
   "cell_type": "code",
   "execution_count": 17,
   "metadata": {},
   "outputs": [
    {
     "data": {
      "text/plain": [
       "{'regressor__num_leaves': 51,\n",
       " 'regressor__n_estimators': 400,\n",
       " 'regressor__min_data_in_leaf': 15,\n",
       " 'regressor__max_depth': 7,\n",
       " 'regressor__learning_rate': 0.06,\n",
       " 'regressor__feature_fraction': 0.85,\n",
       " 'regressor__bagging_frequency': 0.95,\n",
       " 'regressor__bagging_fraction': 1}"
      ]
     },
     "execution_count": 17,
     "metadata": {},
     "output_type": "execute_result"
    }
   ],
   "source": [
    "{'regressor__num_leaves': 51,\n",
    " 'regressor__n_estimators': 400,\n",
    " 'regressor__min_data_in_leaf': 15,\n",
    " 'regressor__max_depth': 7,\n",
    " 'regressor__learning_rate': 0.06,\n",
    " 'regressor__feature_fraction': 0.85,\n",
    " 'regressor__bagging_frequency': 0.95,\n",
    " 'regressor__bagging_fraction': 1}"
   ]
  },
  {
   "cell_type": "markdown",
   "metadata": {},
   "source": [
    "### CT Regressor"
   ]
  },
  {
   "cell_type": "code",
   "execution_count": 16,
   "metadata": {},
   "outputs": [],
   "source": [
    "regressor = LGBMRegressor(num_leaves=51,\n",
    "                          n_estimators=400,\n",
    "                          min_data_in_leaf=15,\n",
    "                          max_depth=7,\n",
    "                          learning_rate=0.06,\n",
    "                          feature_fraction=0.85,\n",
    "                          bagging_frequency=0.95,\n",
    "                          bagging_fraction=1)"
   ]
  },
  {
   "cell_type": "markdown",
   "metadata": {},
   "source": [
    "### T Regressor"
   ]
  },
  {
   "cell_type": "code",
   "execution_count": 15,
   "metadata": {},
   "outputs": [],
   "source": [
    "regressor = LGBMRegressor(num_leaves=51,\n",
    "                          n_estimators=400,\n",
    "                          min_data_in_leaf=15,\n",
    "                          max_depth=7,\n",
    "                          learning_rate=0.06,\n",
    "                          feature_fraction=0.85,\n",
    "                          bagging_frequency=0.95,\n",
    "                          bagging_fraction=1)"
   ]
  },
  {
   "cell_type": "markdown",
   "metadata": {},
   "source": [
    "### Models"
   ]
  },
  {
   "cell_type": "code",
   "execution_count": 15,
   "metadata": {},
   "outputs": [],
   "source": [
    "# ct_model = Pipeline(steps=[('ct_preprocessor', preprocessor_ct),\n",
    "#                            ('regressor', regressor)])\n",
    "\n",
    "t_model = Pipeline(steps=[('t_preprocessor', preprocessor_t),\n",
    "                           ('regressor', regressor)])"
   ]
  },
  {
   "cell_type": "markdown",
   "metadata": {},
   "source": [
    "### Test hyperparameter values from gridsearch"
   ]
  },
  {
   "cell_type": "code",
   "execution_count": 16,
   "metadata": {},
   "outputs": [],
   "source": [
    "# ct_model.fit(ct_train[CT_FEATS], ct_train[CT_TARGET]);"
   ]
  },
  {
   "cell_type": "code",
   "execution_count": 17,
   "metadata": {},
   "outputs": [],
   "source": [
    "t_model.fit(t_train[T_FEATS], t_train[T_TARGET]);"
   ]
  },
  {
   "cell_type": "markdown",
   "metadata": {},
   "source": [
    "### **CHECK PERFORMANCE**"
   ]
  },
  {
   "cell_type": "code",
   "execution_count": 18,
   "metadata": {},
   "outputs": [],
   "source": [
    "# y_ct_test = ct_model.predict(ct_test[CT_FEATS])\n",
    "# y_ct_train = ct_model.predict(ct_train[CT_FEATS])\n",
    "\n",
    "y_t_test = t_model.predict(t_test[T_FEATS])\n",
    "y_t_train = t_model.predict(t_train[T_FEATS])"
   ]
  },
  {
   "cell_type": "code",
   "execution_count": 19,
   "metadata": {},
   "outputs": [
    {
     "name": "stdout",
     "output_type": "stream",
     "text": [
      "T test error: 2704.993275624408\n",
      "T train error: 2660.0813278751643\n"
     ]
    }
   ],
   "source": [
    "# Mean_squared_error\n",
    "\n",
    "# print(f\"CT test error: {mean_squared_error(y_pred=y_ct_test, y_true=ct_test[CT_TARGET], squared=False)}\")\n",
    "# print(f\"CT train error: {mean_squared_error(y_pred=y_ct_train, y_true=ct_train[CT_TARGET], squared=False)}\")\n",
    "# print()\n",
    "print(f\"T test error: {mean_squared_error(y_pred=y_t_test, y_true=t_test[T_TARGET], squared=False)}\")\n",
    "print(f\"T train error: {mean_squared_error(y_pred=y_t_train, y_true=t_train[T_TARGET], squared=False)}\")"
   ]
  },
  {
   "cell_type": "code",
   "execution_count": 20,
   "metadata": {},
   "outputs": [
    {
     "name": "stdout",
     "output_type": "stream",
     "text": [
      "\n",
      "T test error: 0.9065775597739754\n",
      "T train error: 0.9093794975918977\n"
     ]
    }
   ],
   "source": [
    "# r2_score\n",
    "\n",
    "# print(f\"CT test error: {r2_score(y_pred=y_ct_test, y_true=ct_test[CT_TARGET])}\")\n",
    "# print(f\"CT train error: {r2_score(y_pred=y_ct_train, y_true=ct_train[CT_TARGET])}\")\n",
    "print()\n",
    "print(f\"T test error: {r2_score(y_pred=y_t_test, y_true=t_test[T_TARGET])}\")\n",
    "print(f\"T train error: {r2_score(y_pred=y_t_train, y_true=t_train[T_TARGET])}\")"
   ]
  },
  {
   "cell_type": "markdown",
   "metadata": {},
   "source": [
    "--------------------------------\n",
    "### LGBM REGRESSOR\n",
    "CT test error:______Base: 2710.808 || 0.93391______<font color='green'>Hyp. tuning: 2672.174 || 0.93586</font>\n",
    "\n",
    "CT train error:______Base: 2698.860 || 0.93466______<font color='green'>Hyp. tuning: 2628.522 || 0.93788</font>\n",
    "\n",
    "T test error:______Base: 2725.320 || 0.90388______<font color='green'>Hyp. tuning: 2704.993 || 0.90657</font>\n",
    "\n",
    "T train error:______Base: 2728.544 || 0.90519______<font color='green'>Hyp. tuning: 2660.081 || 0.90937</font>"
   ]
  },
  {
   "cell_type": "markdown",
   "metadata": {},
   "source": [
    "###  **Train model with full dataset**"
   ]
  },
  {
   "cell_type": "markdown",
   "metadata": {},
   "source": [
    "#### **CT Model. Train & Save**"
   ]
  },
  {
   "cell_type": "code",
   "execution_count": 14,
   "metadata": {},
   "outputs": [],
   "source": [
    "regressor = LGBMRegressor(num_leaves=51,\n",
    "                          n_estimators=400,\n",
    "                          min_data_in_leaf=15,\n",
    "                          max_depth=7,\n",
    "                          learning_rate=0.06,\n",
    "                          feature_fraction=0.85,\n",
    "                          bagging_frequency=0.95,\n",
    "                          bagging_fraction=1)\n",
    "\n",
    "ct_model = Pipeline(steps=[('ct_preprocessor', preprocessor_ct),\n",
    "                           ('regressor', regressor)])\n",
    "\n",
    "ct_model.fit(ct_df[CT_FEATS], ct_df[CT_TARGET])\n",
    "\n",
    "ct_df_pred_val = ct_model.predict(ct_df[CT_FEATS])"
   ]
  },
  {
   "cell_type": "code",
   "execution_count": 27,
   "metadata": {},
   "outputs": [
    {
     "data": {
      "text/plain": [
       "['../models/ct_team_value.joblib']"
      ]
     },
     "execution_count": 27,
     "metadata": {},
     "output_type": "execute_result"
    }
   ],
   "source": [
    "dump(ct_model, '../models/ct_team_value.joblib') # Save model"
   ]
  },
  {
   "cell_type": "code",
   "execution_count": 29,
   "metadata": {},
   "outputs": [
    {
     "name": "stderr",
     "output_type": "stream",
     "text": [
      "/home/victor/miniconda3/envs/ironhack_env/lib/python3.7/site-packages/ipykernel_launcher.py:1: SettingWithCopyWarning: \n",
      "A value is trying to be set on a copy of a slice from a DataFrame.\n",
      "Try using .loc[row_indexer,col_indexer] = value instead\n",
      "\n",
      "See the caveats in the documentation: https://pandas.pydata.org/pandas-docs/stable/user_guide/indexing.html#returning-a-view-versus-a-copy\n",
      "  \"\"\"Entry point for launching an IPython kernel.\n"
     ]
    }
   ],
   "source": [
    "ct_df['ct_val_pred'] = ct_df_pred_val"
   ]
  },
  {
   "cell_type": "code",
   "execution_count": 31,
   "metadata": {},
   "outputs": [],
   "source": [
    "ct_df.to_csv('../data/results/ct_predicted_value') # Export the ct DataFrame with the prediction column added"
   ]
  },
  {
   "cell_type": "markdown",
   "metadata": {},
   "source": [
    "#### **T Model. Train & Save**"
   ]
  },
  {
   "cell_type": "code",
   "execution_count": 14,
   "metadata": {},
   "outputs": [],
   "source": [
    "regressor = LGBMRegressor(num_leaves=51,\n",
    "                          n_estimators=400,\n",
    "                          min_data_in_leaf=15,\n",
    "                          max_depth=7,\n",
    "                          learning_rate=0.06,\n",
    "                          feature_fraction=0.85,\n",
    "                          bagging_frequency=0.95,\n",
    "                          bagging_fraction=1)\n",
    "\n",
    "t_model = Pipeline(steps=[('t_preprocessor', preprocessor_t),\n",
    "                           ('regressor', regressor)])\n",
    "\n",
    "t_model.fit(t_df[T_FEATS], t_df[T_TARGET])\n",
    "\n",
    "t_df_pred_val = t_model.predict(t_df[T_FEATS])"
   ]
  },
  {
   "cell_type": "code",
   "execution_count": 15,
   "metadata": {},
   "outputs": [
    {
     "data": {
      "text/plain": [
       "['../models/t_team_value.joblib']"
      ]
     },
     "execution_count": 15,
     "metadata": {},
     "output_type": "execute_result"
    }
   ],
   "source": [
    "dump(t_model, '../models/t_team_value.joblib') # Save model"
   ]
  },
  {
   "cell_type": "code",
   "execution_count": 16,
   "metadata": {},
   "outputs": [
    {
     "name": "stderr",
     "output_type": "stream",
     "text": [
      "/home/victor/miniconda3/envs/ironhack_env/lib/python3.7/site-packages/ipykernel_launcher.py:1: SettingWithCopyWarning: \n",
      "A value is trying to be set on a copy of a slice from a DataFrame.\n",
      "Try using .loc[row_indexer,col_indexer] = value instead\n",
      "\n",
      "See the caveats in the documentation: https://pandas.pydata.org/pandas-docs/stable/user_guide/indexing.html#returning-a-view-versus-a-copy\n",
      "  \"\"\"Entry point for launching an IPython kernel.\n"
     ]
    }
   ],
   "source": [
    "t_df['t_val_pred'] = t_df_pred_val"
   ]
  },
  {
   "cell_type": "code",
   "execution_count": 17,
   "metadata": {},
   "outputs": [],
   "source": [
    "t_df.to_csv('../data/results/t_predicted_value') # Export the t DataFrame with the prediction column added"
   ]
  }
 ],
 "metadata": {
  "kernelspec": {
   "display_name": "Python [conda env:ironhack_env]",
   "language": "python",
   "name": "conda-env-ironhack_env-py"
  },
  "language_info": {
   "codemirror_mode": {
    "name": "ipython",
    "version": 3
   },
   "file_extension": ".py",
   "mimetype": "text/x-python",
   "name": "python",
   "nbconvert_exporter": "python",
   "pygments_lexer": "ipython3",
   "version": "3.7.3"
  }
 },
 "nbformat": 4,
 "nbformat_minor": 4
}
