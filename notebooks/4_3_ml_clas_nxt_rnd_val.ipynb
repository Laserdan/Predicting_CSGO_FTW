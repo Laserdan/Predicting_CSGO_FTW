{
 "cells": [
  {
   "cell_type": "markdown",
   "metadata": {},
   "source": [
    "## **Supervised ML regression algorithm to predict next round team value (CT & T)**\n",
    "## **Algorithm**"
   ]
  },
  {
   "cell_type": "code",
   "execution_count": 1,
   "metadata": {},
   "outputs": [],
   "source": [
    "import pandas as pd\n",
    "\n",
    "from sklearn.pipeline import Pipeline\n",
    "from sklearn.compose import ColumnTransformer\n",
    "from sklearn.preprocessing import StandardScaler\n",
    "from sklearn.model_selection import train_test_split, RandomizedSearchCV\n",
    "from sklearn.metrics import classification_report\n",
    "\n",
    "from lightgbm import LGBMClassifier\n",
    "from joblib import dump"
   ]
  },
  {
   "cell_type": "code",
   "execution_count": 2,
   "metadata": {},
   "outputs": [],
   "source": [
    "pd.set_option('display.max_columns', 30)\n",
    "pd.set_option('display.max_rows', 30)"
   ]
  },
  {
   "cell_type": "markdown",
   "metadata": {},
   "source": [
    "### Data"
   ]
  },
  {
   "cell_type": "code",
   "execution_count": 3,
   "metadata": {},
   "outputs": [],
   "source": [
    "ct_df = pd.read_csv('../data/processed/4_base_predict_next_rnd_ct_type.csv')\n",
    "t_df = pd.read_csv('../data/processed/4_base_predict_next_rnd_t_type.csv')"
   ]
  },
  {
   "cell_type": "code",
   "execution_count": 4,
   "metadata": {},
   "outputs": [
    {
     "data": {
      "text/html": [
       "<div>\n",
       "<style scoped>\n",
       "    .dataframe tbody tr th:only-of-type {\n",
       "        vertical-align: middle;\n",
       "    }\n",
       "\n",
       "    .dataframe tbody tr th {\n",
       "        vertical-align: top;\n",
       "    }\n",
       "\n",
       "    .dataframe thead th {\n",
       "        text-align: right;\n",
       "    }\n",
       "</style>\n",
       "<table border=\"1\" class=\"dataframe\">\n",
       "  <thead>\n",
       "    <tr style=\"text-align: right;\">\n",
       "      <th></th>\n",
       "      <th>file</th>\n",
       "      <th>round</th>\n",
       "      <th>wp_ct_val</th>\n",
       "      <th>nade_ct_val</th>\n",
       "      <th>ct_alive</th>\n",
       "      <th>t_alive</th>\n",
       "      <th>ct_winner</th>\n",
       "      <th>bomb_planted</th>\n",
       "      <th>ct_cons_wins</th>\n",
       "      <th>t_cons_wins</th>\n",
       "      <th>ct_val_pred</th>\n",
       "      <th>round_type</th>\n",
       "      <th>nxt_rnd_type</th>\n",
       "    </tr>\n",
       "  </thead>\n",
       "  <tbody>\n",
       "    <tr>\n",
       "      <th>0</th>\n",
       "      <td>0</td>\n",
       "      <td>1</td>\n",
       "      <td>1000.0</td>\n",
       "      <td>550</td>\n",
       "      <td>5</td>\n",
       "      <td>5</td>\n",
       "      <td>0.5</td>\n",
       "      <td>0.5</td>\n",
       "      <td>0</td>\n",
       "      <td>0</td>\n",
       "      <td>4078.134589</td>\n",
       "      <td>PISTOL_ROUND</td>\n",
       "      <td>MEDIUM</td>\n",
       "    </tr>\n",
       "    <tr>\n",
       "      <th>1</th>\n",
       "      <td>0</td>\n",
       "      <td>2</td>\n",
       "      <td>10100.0</td>\n",
       "      <td>1100</td>\n",
       "      <td>4</td>\n",
       "      <td>0</td>\n",
       "      <td>1.0</td>\n",
       "      <td>0.0</td>\n",
       "      <td>1</td>\n",
       "      <td>0</td>\n",
       "      <td>17819.702711</td>\n",
       "      <td>MEDIUM</td>\n",
       "      <td>MEDIUM</td>\n",
       "    </tr>\n",
       "    <tr>\n",
       "      <th>2</th>\n",
       "      <td>0</td>\n",
       "      <td>3</td>\n",
       "      <td>4125.0</td>\n",
       "      <td>900</td>\n",
       "      <td>0</td>\n",
       "      <td>1</td>\n",
       "      <td>0.0</td>\n",
       "      <td>0.0</td>\n",
       "      <td>0</td>\n",
       "      <td>1</td>\n",
       "      <td>7038.468589</td>\n",
       "      <td>MEDIUM</td>\n",
       "      <td>ECO</td>\n",
       "    </tr>\n",
       "    <tr>\n",
       "      <th>3</th>\n",
       "      <td>0</td>\n",
       "      <td>4</td>\n",
       "      <td>1000.0</td>\n",
       "      <td>0</td>\n",
       "      <td>0</td>\n",
       "      <td>3</td>\n",
       "      <td>0.0</td>\n",
       "      <td>1.0</td>\n",
       "      <td>0</td>\n",
       "      <td>2</td>\n",
       "      <td>1452.468928</td>\n",
       "      <td>ECO</td>\n",
       "      <td>FULL</td>\n",
       "    </tr>\n",
       "    <tr>\n",
       "      <th>4</th>\n",
       "      <td>0</td>\n",
       "      <td>5</td>\n",
       "      <td>15500.0</td>\n",
       "      <td>1400</td>\n",
       "      <td>0</td>\n",
       "      <td>4</td>\n",
       "      <td>0.0</td>\n",
       "      <td>1.0</td>\n",
       "      <td>0</td>\n",
       "      <td>3</td>\n",
       "      <td>22676.205763</td>\n",
       "      <td>FULL</td>\n",
       "      <td>FULL</td>\n",
       "    </tr>\n",
       "  </tbody>\n",
       "</table>\n",
       "</div>"
      ],
      "text/plain": [
       "   file  round  wp_ct_val  nade_ct_val  ct_alive  t_alive  ct_winner  \\\n",
       "0     0      1     1000.0          550         5        5        0.5   \n",
       "1     0      2    10100.0         1100         4        0        1.0   \n",
       "2     0      3     4125.0          900         0        1        0.0   \n",
       "3     0      4     1000.0            0         0        3        0.0   \n",
       "4     0      5    15500.0         1400         0        4        0.0   \n",
       "\n",
       "   bomb_planted  ct_cons_wins  t_cons_wins   ct_val_pred    round_type  \\\n",
       "0           0.5             0            0   4078.134589  PISTOL_ROUND   \n",
       "1           0.0             1            0  17819.702711        MEDIUM   \n",
       "2           0.0             0            1   7038.468589        MEDIUM   \n",
       "3           1.0             0            2   1452.468928           ECO   \n",
       "4           1.0             0            3  22676.205763          FULL   \n",
       "\n",
       "  nxt_rnd_type  \n",
       "0       MEDIUM  \n",
       "1       MEDIUM  \n",
       "2          ECO  \n",
       "3         FULL  \n",
       "4         FULL  "
      ]
     },
     "metadata": {},
     "output_type": "display_data"
    },
    {
     "data": {
      "text/html": [
       "<div>\n",
       "<style scoped>\n",
       "    .dataframe tbody tr th:only-of-type {\n",
       "        vertical-align: middle;\n",
       "    }\n",
       "\n",
       "    .dataframe tbody tr th {\n",
       "        vertical-align: top;\n",
       "    }\n",
       "\n",
       "    .dataframe thead th {\n",
       "        text-align: right;\n",
       "    }\n",
       "</style>\n",
       "<table border=\"1\" class=\"dataframe\">\n",
       "  <thead>\n",
       "    <tr style=\"text-align: right;\">\n",
       "      <th></th>\n",
       "      <th>file</th>\n",
       "      <th>round</th>\n",
       "      <th>wp_t_val</th>\n",
       "      <th>nade_t_val</th>\n",
       "      <th>ct_alive</th>\n",
       "      <th>t_alive</th>\n",
       "      <th>ct_winner</th>\n",
       "      <th>bomb_planted</th>\n",
       "      <th>ct_cons_wins</th>\n",
       "      <th>t_cons_wins</th>\n",
       "      <th>t_val_pred</th>\n",
       "      <th>round_type</th>\n",
       "      <th>nxt_rnd_type</th>\n",
       "    </tr>\n",
       "  </thead>\n",
       "  <tbody>\n",
       "    <tr>\n",
       "      <th>0</th>\n",
       "      <td>0</td>\n",
       "      <td>1</td>\n",
       "      <td>1166.666667</td>\n",
       "      <td>1200</td>\n",
       "      <td>5</td>\n",
       "      <td>5</td>\n",
       "      <td>0.5</td>\n",
       "      <td>0.5</td>\n",
       "      <td>0</td>\n",
       "      <td>0</td>\n",
       "      <td>3943.272665</td>\n",
       "      <td>PISTOL_ROUND</td>\n",
       "      <td>ECO</td>\n",
       "    </tr>\n",
       "    <tr>\n",
       "      <th>1</th>\n",
       "      <td>0</td>\n",
       "      <td>2</td>\n",
       "      <td>3687.500000</td>\n",
       "      <td>50</td>\n",
       "      <td>4</td>\n",
       "      <td>0</td>\n",
       "      <td>1.0</td>\n",
       "      <td>0.0</td>\n",
       "      <td>1</td>\n",
       "      <td>0</td>\n",
       "      <td>6290.616771</td>\n",
       "      <td>ECO</td>\n",
       "      <td>FULL</td>\n",
       "    </tr>\n",
       "    <tr>\n",
       "      <th>2</th>\n",
       "      <td>0</td>\n",
       "      <td>3</td>\n",
       "      <td>11700.000000</td>\n",
       "      <td>2450</td>\n",
       "      <td>0</td>\n",
       "      <td>1</td>\n",
       "      <td>0.0</td>\n",
       "      <td>0.0</td>\n",
       "      <td>0</td>\n",
       "      <td>1</td>\n",
       "      <td>19600.790638</td>\n",
       "      <td>FULL</td>\n",
       "      <td>MEDIUM</td>\n",
       "    </tr>\n",
       "    <tr>\n",
       "      <th>3</th>\n",
       "      <td>0</td>\n",
       "      <td>4</td>\n",
       "      <td>11700.000000</td>\n",
       "      <td>1600</td>\n",
       "      <td>0</td>\n",
       "      <td>3</td>\n",
       "      <td>0.0</td>\n",
       "      <td>1.0</td>\n",
       "      <td>0</td>\n",
       "      <td>2</td>\n",
       "      <td>22568.098741</td>\n",
       "      <td>MEDIUM</td>\n",
       "      <td>FULL</td>\n",
       "    </tr>\n",
       "    <tr>\n",
       "      <th>4</th>\n",
       "      <td>0</td>\n",
       "      <td>5</td>\n",
       "      <td>12750.000000</td>\n",
       "      <td>1700</td>\n",
       "      <td>0</td>\n",
       "      <td>4</td>\n",
       "      <td>0.0</td>\n",
       "      <td>1.0</td>\n",
       "      <td>0</td>\n",
       "      <td>3</td>\n",
       "      <td>24459.855175</td>\n",
       "      <td>FULL</td>\n",
       "      <td>MEDIUM</td>\n",
       "    </tr>\n",
       "  </tbody>\n",
       "</table>\n",
       "</div>"
      ],
      "text/plain": [
       "   file  round      wp_t_val  nade_t_val  ct_alive  t_alive  ct_winner  \\\n",
       "0     0      1   1166.666667        1200         5        5        0.5   \n",
       "1     0      2   3687.500000          50         4        0        1.0   \n",
       "2     0      3  11700.000000        2450         0        1        0.0   \n",
       "3     0      4  11700.000000        1600         0        3        0.0   \n",
       "4     0      5  12750.000000        1700         0        4        0.0   \n",
       "\n",
       "   bomb_planted  ct_cons_wins  t_cons_wins    t_val_pred    round_type  \\\n",
       "0           0.5             0            0   3943.272665  PISTOL_ROUND   \n",
       "1           0.0             1            0   6290.616771           ECO   \n",
       "2           0.0             0            1  19600.790638          FULL   \n",
       "3           1.0             0            2  22568.098741        MEDIUM   \n",
       "4           1.0             0            3  24459.855175          FULL   \n",
       "\n",
       "  nxt_rnd_type  \n",
       "0          ECO  \n",
       "1         FULL  \n",
       "2       MEDIUM  \n",
       "3         FULL  \n",
       "4       MEDIUM  "
      ]
     },
     "metadata": {},
     "output_type": "display_data"
    }
   ],
   "source": [
    "display(ct_df.head())\n",
    "display(t_df.head())"
   ]
  },
  {
   "cell_type": "markdown",
   "metadata": {},
   "source": [
    "### Encoding"
   ]
  },
  {
   "cell_type": "markdown",
   "metadata": {},
   "source": [
    "We use a manual encoding to be sure of being the same values for round_type and nxt_rnd_type.\n",
    "\n",
    "If we use LabelEncoder() it could be possible to have different values for the same label."
   ]
  },
  {
   "cell_type": "code",
   "execution_count": 5,
   "metadata": {},
   "outputs": [
    {
     "data": {
      "text/plain": [
       "array(['PISTOL_ROUND', 'MEDIUM', 'ECO', 'FULL'], dtype=object)"
      ]
     },
     "execution_count": 5,
     "metadata": {},
     "output_type": "execute_result"
    }
   ],
   "source": [
    "ct_df['round_type'].unique()"
   ]
  },
  {
   "cell_type": "code",
   "execution_count": 6,
   "metadata": {},
   "outputs": [],
   "source": [
    "round_type_dic = {'PISTOL_ROUND':0, 'ECO':1, 'MEDIUM':2, 'FULL':3, 'LAST':4}"
   ]
  },
  {
   "cell_type": "code",
   "execution_count": 7,
   "metadata": {},
   "outputs": [],
   "source": [
    "ct_df['round_type'] = ct_df['round_type'].apply(lambda x: round_type_dic[x])\n",
    "ct_df['nxt_rnd_type'] = ct_df['nxt_rnd_type'].apply(lambda x: round_type_dic[x])\n",
    "\n",
    "t_df['round_type'] = t_df['round_type'].apply(lambda x: round_type_dic[x])\n",
    "t_df['nxt_rnd_type'] = t_df['nxt_rnd_type'].apply(lambda x: round_type_dic[x])"
   ]
  },
  {
   "cell_type": "code",
   "execution_count": 8,
   "metadata": {},
   "outputs": [
    {
     "data": {
      "text/html": [
       "<div>\n",
       "<style scoped>\n",
       "    .dataframe tbody tr th:only-of-type {\n",
       "        vertical-align: middle;\n",
       "    }\n",
       "\n",
       "    .dataframe tbody tr th {\n",
       "        vertical-align: top;\n",
       "    }\n",
       "\n",
       "    .dataframe thead th {\n",
       "        text-align: right;\n",
       "    }\n",
       "</style>\n",
       "<table border=\"1\" class=\"dataframe\">\n",
       "  <thead>\n",
       "    <tr style=\"text-align: right;\">\n",
       "      <th></th>\n",
       "      <th>file</th>\n",
       "      <th>round</th>\n",
       "      <th>wp_ct_val</th>\n",
       "      <th>nade_ct_val</th>\n",
       "      <th>ct_alive</th>\n",
       "      <th>t_alive</th>\n",
       "      <th>ct_winner</th>\n",
       "      <th>bomb_planted</th>\n",
       "      <th>ct_cons_wins</th>\n",
       "      <th>t_cons_wins</th>\n",
       "      <th>ct_val_pred</th>\n",
       "      <th>round_type</th>\n",
       "      <th>nxt_rnd_type</th>\n",
       "    </tr>\n",
       "  </thead>\n",
       "  <tbody>\n",
       "    <tr>\n",
       "      <th>0</th>\n",
       "      <td>0</td>\n",
       "      <td>1</td>\n",
       "      <td>1000.0</td>\n",
       "      <td>550</td>\n",
       "      <td>5</td>\n",
       "      <td>5</td>\n",
       "      <td>0.5</td>\n",
       "      <td>0.5</td>\n",
       "      <td>0</td>\n",
       "      <td>0</td>\n",
       "      <td>4078.134589</td>\n",
       "      <td>0</td>\n",
       "      <td>2</td>\n",
       "    </tr>\n",
       "    <tr>\n",
       "      <th>1</th>\n",
       "      <td>0</td>\n",
       "      <td>2</td>\n",
       "      <td>10100.0</td>\n",
       "      <td>1100</td>\n",
       "      <td>4</td>\n",
       "      <td>0</td>\n",
       "      <td>1.0</td>\n",
       "      <td>0.0</td>\n",
       "      <td>1</td>\n",
       "      <td>0</td>\n",
       "      <td>17819.702711</td>\n",
       "      <td>2</td>\n",
       "      <td>2</td>\n",
       "    </tr>\n",
       "    <tr>\n",
       "      <th>2</th>\n",
       "      <td>0</td>\n",
       "      <td>3</td>\n",
       "      <td>4125.0</td>\n",
       "      <td>900</td>\n",
       "      <td>0</td>\n",
       "      <td>1</td>\n",
       "      <td>0.0</td>\n",
       "      <td>0.0</td>\n",
       "      <td>0</td>\n",
       "      <td>1</td>\n",
       "      <td>7038.468589</td>\n",
       "      <td>2</td>\n",
       "      <td>1</td>\n",
       "    </tr>\n",
       "    <tr>\n",
       "      <th>3</th>\n",
       "      <td>0</td>\n",
       "      <td>4</td>\n",
       "      <td>1000.0</td>\n",
       "      <td>0</td>\n",
       "      <td>0</td>\n",
       "      <td>3</td>\n",
       "      <td>0.0</td>\n",
       "      <td>1.0</td>\n",
       "      <td>0</td>\n",
       "      <td>2</td>\n",
       "      <td>1452.468928</td>\n",
       "      <td>1</td>\n",
       "      <td>3</td>\n",
       "    </tr>\n",
       "    <tr>\n",
       "      <th>4</th>\n",
       "      <td>0</td>\n",
       "      <td>5</td>\n",
       "      <td>15500.0</td>\n",
       "      <td>1400</td>\n",
       "      <td>0</td>\n",
       "      <td>4</td>\n",
       "      <td>0.0</td>\n",
       "      <td>1.0</td>\n",
       "      <td>0</td>\n",
       "      <td>3</td>\n",
       "      <td>22676.205763</td>\n",
       "      <td>3</td>\n",
       "      <td>3</td>\n",
       "    </tr>\n",
       "  </tbody>\n",
       "</table>\n",
       "</div>"
      ],
      "text/plain": [
       "   file  round  wp_ct_val  nade_ct_val  ct_alive  t_alive  ct_winner  \\\n",
       "0     0      1     1000.0          550         5        5        0.5   \n",
       "1     0      2    10100.0         1100         4        0        1.0   \n",
       "2     0      3     4125.0          900         0        1        0.0   \n",
       "3     0      4     1000.0            0         0        3        0.0   \n",
       "4     0      5    15500.0         1400         0        4        0.0   \n",
       "\n",
       "   bomb_planted  ct_cons_wins  t_cons_wins   ct_val_pred  round_type  \\\n",
       "0           0.5             0            0   4078.134589           0   \n",
       "1           0.0             1            0  17819.702711           2   \n",
       "2           0.0             0            1   7038.468589           2   \n",
       "3           1.0             0            2   1452.468928           1   \n",
       "4           1.0             0            3  22676.205763           3   \n",
       "\n",
       "   nxt_rnd_type  \n",
       "0             2  \n",
       "1             2  \n",
       "2             1  \n",
       "3             3  \n",
       "4             3  "
      ]
     },
     "metadata": {},
     "output_type": "display_data"
    },
    {
     "data": {
      "text/html": [
       "<div>\n",
       "<style scoped>\n",
       "    .dataframe tbody tr th:only-of-type {\n",
       "        vertical-align: middle;\n",
       "    }\n",
       "\n",
       "    .dataframe tbody tr th {\n",
       "        vertical-align: top;\n",
       "    }\n",
       "\n",
       "    .dataframe thead th {\n",
       "        text-align: right;\n",
       "    }\n",
       "</style>\n",
       "<table border=\"1\" class=\"dataframe\">\n",
       "  <thead>\n",
       "    <tr style=\"text-align: right;\">\n",
       "      <th></th>\n",
       "      <th>file</th>\n",
       "      <th>round</th>\n",
       "      <th>wp_t_val</th>\n",
       "      <th>nade_t_val</th>\n",
       "      <th>ct_alive</th>\n",
       "      <th>t_alive</th>\n",
       "      <th>ct_winner</th>\n",
       "      <th>bomb_planted</th>\n",
       "      <th>ct_cons_wins</th>\n",
       "      <th>t_cons_wins</th>\n",
       "      <th>t_val_pred</th>\n",
       "      <th>round_type</th>\n",
       "      <th>nxt_rnd_type</th>\n",
       "    </tr>\n",
       "  </thead>\n",
       "  <tbody>\n",
       "    <tr>\n",
       "      <th>0</th>\n",
       "      <td>0</td>\n",
       "      <td>1</td>\n",
       "      <td>1166.666667</td>\n",
       "      <td>1200</td>\n",
       "      <td>5</td>\n",
       "      <td>5</td>\n",
       "      <td>0.5</td>\n",
       "      <td>0.5</td>\n",
       "      <td>0</td>\n",
       "      <td>0</td>\n",
       "      <td>3943.272665</td>\n",
       "      <td>0</td>\n",
       "      <td>1</td>\n",
       "    </tr>\n",
       "    <tr>\n",
       "      <th>1</th>\n",
       "      <td>0</td>\n",
       "      <td>2</td>\n",
       "      <td>3687.500000</td>\n",
       "      <td>50</td>\n",
       "      <td>4</td>\n",
       "      <td>0</td>\n",
       "      <td>1.0</td>\n",
       "      <td>0.0</td>\n",
       "      <td>1</td>\n",
       "      <td>0</td>\n",
       "      <td>6290.616771</td>\n",
       "      <td>1</td>\n",
       "      <td>3</td>\n",
       "    </tr>\n",
       "    <tr>\n",
       "      <th>2</th>\n",
       "      <td>0</td>\n",
       "      <td>3</td>\n",
       "      <td>11700.000000</td>\n",
       "      <td>2450</td>\n",
       "      <td>0</td>\n",
       "      <td>1</td>\n",
       "      <td>0.0</td>\n",
       "      <td>0.0</td>\n",
       "      <td>0</td>\n",
       "      <td>1</td>\n",
       "      <td>19600.790638</td>\n",
       "      <td>3</td>\n",
       "      <td>2</td>\n",
       "    </tr>\n",
       "    <tr>\n",
       "      <th>3</th>\n",
       "      <td>0</td>\n",
       "      <td>4</td>\n",
       "      <td>11700.000000</td>\n",
       "      <td>1600</td>\n",
       "      <td>0</td>\n",
       "      <td>3</td>\n",
       "      <td>0.0</td>\n",
       "      <td>1.0</td>\n",
       "      <td>0</td>\n",
       "      <td>2</td>\n",
       "      <td>22568.098741</td>\n",
       "      <td>2</td>\n",
       "      <td>3</td>\n",
       "    </tr>\n",
       "    <tr>\n",
       "      <th>4</th>\n",
       "      <td>0</td>\n",
       "      <td>5</td>\n",
       "      <td>12750.000000</td>\n",
       "      <td>1700</td>\n",
       "      <td>0</td>\n",
       "      <td>4</td>\n",
       "      <td>0.0</td>\n",
       "      <td>1.0</td>\n",
       "      <td>0</td>\n",
       "      <td>3</td>\n",
       "      <td>24459.855175</td>\n",
       "      <td>3</td>\n",
       "      <td>2</td>\n",
       "    </tr>\n",
       "  </tbody>\n",
       "</table>\n",
       "</div>"
      ],
      "text/plain": [
       "   file  round      wp_t_val  nade_t_val  ct_alive  t_alive  ct_winner  \\\n",
       "0     0      1   1166.666667        1200         5        5        0.5   \n",
       "1     0      2   3687.500000          50         4        0        1.0   \n",
       "2     0      3  11700.000000        2450         0        1        0.0   \n",
       "3     0      4  11700.000000        1600         0        3        0.0   \n",
       "4     0      5  12750.000000        1700         0        4        0.0   \n",
       "\n",
       "   bomb_planted  ct_cons_wins  t_cons_wins    t_val_pred  round_type  \\\n",
       "0           0.5             0            0   3943.272665           0   \n",
       "1           0.0             1            0   6290.616771           1   \n",
       "2           0.0             0            1  19600.790638           3   \n",
       "3           1.0             0            2  22568.098741           2   \n",
       "4           1.0             0            3  24459.855175           3   \n",
       "\n",
       "   nxt_rnd_type  \n",
       "0             1  \n",
       "1             3  \n",
       "2             2  \n",
       "3             3  \n",
       "4             2  "
      ]
     },
     "metadata": {},
     "output_type": "display_data"
    }
   ],
   "source": [
    "display(ct_df.head())\n",
    "display(t_df.head())"
   ]
  },
  {
   "cell_type": "markdown",
   "metadata": {},
   "source": [
    "## Define features and target"
   ]
  },
  {
   "cell_type": "code",
   "execution_count": 9,
   "metadata": {},
   "outputs": [],
   "source": [
    "CT_FEATS = ['file', 'round', 'wp_ct_val', 'nade_ct_val', 'ct_alive', 't_alive', 'ct_winner', 'bomb_planted', 'ct_cons_wins', 't_cons_wins', 'ct_val_pred', 'round_type']\n",
    "T_FEATS = ['file', 'round', 'wp_t_val', 'nade_t_val', 'ct_alive', 't_alive', 'ct_winner', 'bomb_planted', 'ct_cons_wins', 't_cons_wins', 't_val_pred', 'round_type']\n",
    "TARGET = 'nxt_rnd_type'"
   ]
  },
  {
   "cell_type": "code",
   "execution_count": 10,
   "metadata": {},
   "outputs": [],
   "source": [
    "#Preprocessor\n",
    "\n",
    "numeric_transformer = Pipeline(steps=[('scaler', StandardScaler())])\n",
    "\n",
    "preprocessor_ct = ColumnTransformer(transformers=[('num', numeric_transformer, CT_FEATS)])\n",
    "preprocessor_t = ColumnTransformer(transformers=[('num', numeric_transformer, T_FEATS)])"
   ]
  },
  {
   "cell_type": "markdown",
   "metadata": {},
   "source": [
    "### **SPLITS**"
   ]
  },
  {
   "cell_type": "code",
   "execution_count": 11,
   "metadata": {},
   "outputs": [],
   "source": [
    "# X_train, X_test, y_train, y_test = train_test_split(ct_df[CT_FEATS], ct_df[TARGET]) # CT Team\n",
    "\n",
    "X_train, X_test, y_train, y_test = train_test_split(t_df[T_FEATS], t_df[TARGET]) # T Team"
   ]
  },
  {
   "cell_type": "markdown",
   "metadata": {},
   "source": [
    "### **MODEL**"
   ]
  },
  {
   "cell_type": "markdown",
   "metadata": {},
   "source": [
    "### CT Regressor"
   ]
  },
  {
   "cell_type": "code",
   "execution_count": 12,
   "metadata": {},
   "outputs": [],
   "source": [
    "# regressor = LGBMClassifier(num_leaves=50,\n",
    "#                           n_estimators=350,\n",
    "#                           min_data_in_leaf=15,\n",
    "#                           max_depth=7,\n",
    "#                           learning_rate=0.055,\n",
    "#                           feature_fraction=0.8,\n",
    "#                           bagging_frequency=0.75,\n",
    "#                           bagging_fraction=0.75)"
   ]
  },
  {
   "cell_type": "markdown",
   "metadata": {},
   "source": [
    "### T Regressor"
   ]
  },
  {
   "cell_type": "code",
   "execution_count": 13,
   "metadata": {},
   "outputs": [],
   "source": [
    "regressor = LGBMClassifier(num_leaves=50,\n",
    "                          n_estimators=350,\n",
    "                          min_data_in_leaf=15,\n",
    "                          max_depth=7,\n",
    "                          learning_rate=0.055,\n",
    "                          feature_fraction=0.8,\n",
    "                          bagging_frequency=0.75,\n",
    "                          bagging_fraction=0.75)"
   ]
  },
  {
   "cell_type": "markdown",
   "metadata": {},
   "source": [
    "### Models"
   ]
  },
  {
   "cell_type": "code",
   "execution_count": 14,
   "metadata": {},
   "outputs": [],
   "source": [
    "# ct_model = Pipeline(steps=[('ct_preprocessor', preprocessor_ct),\n",
    "#                            ('regressor', regressor)])\n",
    "\n",
    "t_model = Pipeline(steps=[('t_preprocessor', preprocessor_t),\n",
    "                           ('regressor', regressor)])"
   ]
  },
  {
   "cell_type": "code",
   "execution_count": 15,
   "metadata": {},
   "outputs": [],
   "source": [
    "# ct_model.fit(X_train, y_train);\n",
    "\n",
    "t_model.fit(X_train, y_train);"
   ]
  },
  {
   "cell_type": "markdown",
   "metadata": {},
   "source": [
    "### **CHECK PERFORMANCE**"
   ]
  },
  {
   "cell_type": "code",
   "execution_count": 16,
   "metadata": {},
   "outputs": [
    {
     "data": {
      "text/plain": [
       "0.6409966024915063"
      ]
     },
     "execution_count": 16,
     "metadata": {},
     "output_type": "execute_result"
    }
   ],
   "source": [
    "# ct_model.score(X_test, y_test)\n",
    "\n",
    "t_model.score(X_test, y_test)"
   ]
  },
  {
   "cell_type": "code",
   "execution_count": 17,
   "metadata": {},
   "outputs": [
    {
     "name": "stdout",
     "output_type": "stream",
     "text": [
      "              precision    recall  f1-score   support\n",
      "\n",
      "           0   0.998357  0.907164  0.950579      3350\n",
      "           1   0.518041  0.355032  0.421319     12213\n",
      "           2   0.519887  0.351742  0.419596     19918\n",
      "           3   0.672673  0.890158  0.766283     39129\n",
      "           4   0.576402  0.192631  0.288760      3094\n",
      "\n",
      "    accuracy                       0.640997     77704\n",
      "   macro avg   0.657072  0.539345  0.569307     77704\n",
      "weighted avg   0.619413  0.640997  0.612128     77704\n",
      "\n"
     ]
    }
   ],
   "source": [
    "# sk_report = classification_report(\n",
    "#     digits=6,\n",
    "#     y_true=y_test, \n",
    "#     y_pred=ct_model.predict(X_test))\n",
    "# print(sk_report)\n",
    "\n",
    "\n",
    "sk_report = classification_report(\n",
    "    digits=6,\n",
    "    y_true=y_test, \n",
    "    y_pred=t_model.predict(X_test))\n",
    "print(sk_report)"
   ]
  },
  {
   "cell_type": "markdown",
   "metadata": {},
   "source": [
    "### **TRAIN MODEL WITH FULL DATASET**"
   ]
  },
  {
   "cell_type": "markdown",
   "metadata": {},
   "source": [
    "#### **CT Model. Train & Save**"
   ]
  },
  {
   "cell_type": "code",
   "execution_count": 11,
   "metadata": {},
   "outputs": [],
   "source": [
    "regressor = LGBMClassifier(num_leaves=50,\n",
    "                          n_estimators=350,\n",
    "                          min_data_in_leaf=15,\n",
    "                          max_depth=7,\n",
    "                          learning_rate=0.055,\n",
    "                          feature_fraction=0.8,\n",
    "                          bagging_frequency=0.75,\n",
    "                          bagging_fraction=0.75)\n",
    "\n",
    "ct_model = Pipeline(steps=[('ct_preprocessor', preprocessor_ct),\n",
    "                           ('regressor', regressor)])\n",
    "\n",
    "ct_model.fit(ct_df[CT_FEATS], ct_df[TARGET]);\n",
    "\n",
    "ct_df_pred_nxt_rnd = ct_model.predict(ct_df[CT_FEATS])"
   ]
  },
  {
   "cell_type": "code",
   "execution_count": 12,
   "metadata": {},
   "outputs": [
    {
     "data": {
      "text/plain": [
       "['../models/ct_nxt_rnd_type.joblib']"
      ]
     },
     "execution_count": 12,
     "metadata": {},
     "output_type": "execute_result"
    }
   ],
   "source": [
    "dump(ct_model, '../models/ct_nxt_rnd_type.joblib') # Save model"
   ]
  },
  {
   "cell_type": "code",
   "execution_count": 13,
   "metadata": {},
   "outputs": [],
   "source": [
    "ct_df['ct_nxt_rnd_type_pred'] = ct_df_pred_nxt_rnd"
   ]
  },
  {
   "cell_type": "code",
   "execution_count": 14,
   "metadata": {},
   "outputs": [],
   "source": [
    "ct_df.to_csv('../data/results/ct_predicted_nxt_rnd.csv', index=False) # Export the CT DataFrame with the prediction column added"
   ]
  },
  {
   "cell_type": "markdown",
   "metadata": {},
   "source": [
    "#### **T Model. Train & Save**"
   ]
  },
  {
   "cell_type": "code",
   "execution_count": 14,
   "metadata": {},
   "outputs": [],
   "source": [
    "regressor = LGBMClassifier(num_leaves=50,\n",
    "                          n_estimators=350,\n",
    "                          min_data_in_leaf=15,\n",
    "                          max_depth=7,\n",
    "                          learning_rate=0.055,\n",
    "                          feature_fraction=0.8,\n",
    "                          bagging_frequency=0.75,\n",
    "                          bagging_fraction=0.75)\n",
    "\n",
    "t_model = Pipeline(steps=[('t_preprocessor', preprocessor_t),\n",
    "                           ('regressor', regressor)])\n",
    "\n",
    "t_model.fit(t_df[T_FEATS], t_df[TARGET]);\n",
    "\n",
    "t_df_pred_nxt_rnd = t_model.predict(t_df[T_FEATS])"
   ]
  },
  {
   "cell_type": "code",
   "execution_count": 15,
   "metadata": {},
   "outputs": [
    {
     "data": {
      "text/plain": [
       "['../models/t_nxt_rnd_type.joblib']"
      ]
     },
     "execution_count": 15,
     "metadata": {},
     "output_type": "execute_result"
    }
   ],
   "source": [
    "dump(t_model, '../models/t_nxt_rnd_type.joblib') # Save model"
   ]
  },
  {
   "cell_type": "code",
   "execution_count": 16,
   "metadata": {},
   "outputs": [],
   "source": [
    "t_df['t_nxt_rnd_type_pred'] = t_df_pred_nxt_rnd"
   ]
  },
  {
   "cell_type": "code",
   "execution_count": 17,
   "metadata": {},
   "outputs": [],
   "source": [
    "t_df.to_csv('../data/results/t_predicted_nxt_rnd.csv', index=False) # Export the T DataFrame with the prediction column added"
   ]
  },
  {
   "cell_type": "markdown",
   "metadata": {},
   "source": [
    "### **JOINING DATA AND MAKE IT LEGIBLE**"
   ]
  },
  {
   "cell_type": "markdown",
   "metadata": {},
   "source": [
    "### Load Data"
   ]
  },
  {
   "cell_type": "code",
   "execution_count": null,
   "metadata": {},
   "outputs": [],
   "source": [
    "ct_df = pd.read_csv('../data/results/ct_predicted_nxt_rnd.csv')\n",
    "ct_df = pd.read_csv('../data/results/ct_predicted_nxt_rnd.csv')"
   ]
  }
 ],
 "metadata": {
  "kernelspec": {
   "display_name": "Python [conda env:ironhack_env]",
   "language": "python",
   "name": "conda-env-ironhack_env-py"
  },
  "language_info": {
   "codemirror_mode": {
    "name": "ipython",
    "version": 3
   },
   "file_extension": ".py",
   "mimetype": "text/x-python",
   "name": "python",
   "nbconvert_exporter": "python",
   "pygments_lexer": "ipython3",
   "version": "3.7.3"
  }
 },
 "nbformat": 4,
 "nbformat_minor": 4
}
