{
 "cells": [
  {
   "cell_type": "markdown",
   "metadata": {},
   "source": [
    "## **Two ways to estimate the team value**\n",
    "### **1st Direct estimation from records**\n",
    "### **2nd Supervised ML regression algorithm**"
   ]
  },
  {
   "cell_type": "code",
   "execution_count": 17,
   "metadata": {},
   "outputs": [],
   "source": [
    "import pandas as pd\n",
    "from sklearn.metrics import mean_squared_error"
   ]
  },
  {
   "cell_type": "code",
   "execution_count": 18,
   "metadata": {},
   "outputs": [],
   "source": [
    "pd.set_option('display.max_columns', 30)\n",
    "pd.set_option('display.max_rows', 30)"
   ]
  },
  {
   "cell_type": "markdown",
   "metadata": {},
   "source": [
    "### Weapon & Grenade Prices"
   ]
  },
  {
   "cell_type": "code",
   "execution_count": 19,
   "metadata": {},
   "outputs": [],
   "source": [
    "wp_values = {'USP': 200, 'P2000': 200, 'Glock': 200, 'P250': 300, 'DualBarettas': 500, 'Tec9': 500, 'FiveSeven': 500, 'CZ': 500, 'Deagle': 700, \n",
    "             'Nova': 1200, 'Swag7': 1800, 'SawedOff': 1200, 'XM1014': 2000, 'M249': 5200, 'Negev': 4000,\n",
    "             'Mac10': 1050, 'MP9': 1250, 'MP7': 1700, 'UMP': 1200, 'Bizon': 1400, 'P90': 2350, \n",
    "             'Gallil': 2000, 'Famas': 2250, 'Scout': 1700, 'AK47': 2700, 'M4A4': 3100, 'M4A1': 3100, 'SG556': 3000, 'AUG': 3300, 'G3SG1': 5000, 'Scar20': 5000, 'AWP': 4750, \n",
    "             'Decoy': 50, 'Flash': 200, 'Smoke': 300, 'HE': 300, 'Incendiary': 600, 'Molotov': 400, \n",
    "             'Knife': 0, 'Zeus': 200}"
   ]
  },
  {
   "cell_type": "markdown",
   "metadata": {},
   "source": [
    "### Data"
   ]
  },
  {
   "cell_type": "code",
   "execution_count": null,
   "metadata": {},
   "outputs": [],
   "source": [
    "dmg_demos = pd.read_csv('../data/csgo/esea_master_dmg_clean_demos.csv')\n",
    "nade_demos = pd.read_csv('../data/csgo/esea_master_grenades_clean_demos.csv')"
   ]
  },
  {
   "cell_type": "markdown",
   "metadata": {},
   "source": [
    "## **1st Direct estimacion from records**"
   ]
  },
  {
   "cell_type": "markdown",
   "metadata": {},
   "source": [
    "### Team Value"
   ]
  },
  {
   "cell_type": "code",
   "execution_count": 20,
   "metadata": {},
   "outputs": [],
   "source": [
    "def plus_armor(team_value):\n",
    "    \"\"\"\n",
    "    A simple way to add armor value to team value. \n",
    "    It could be more precise.\n",
    "    \"\"\"\n",
    "    if team_value <= 1250:\n",
    "        return team_value + 3250 # 5 chest armor (650$ each)\n",
    "    elif team_value > 1250:\n",
    "        return team_value + 4000 # 5 full armor (1000$ each)"
   ]
  },
  {
   "cell_type": "code",
   "execution_count": 21,
   "metadata": {},
   "outputs": [],
   "source": [
    "def defuse_kit(team_value):\n",
    "    \"\"\"\n",
    "    Add defuse kit values if the team value reaches a minimum value\n",
    "    Only in CT data!\n",
    "    \"\"\"\n",
    "    if team_value > 10000:\n",
    "        return 5000 # 5 defuse kits (400$ each)\n",
    "    else:\n",
    "        return 0  "
   ]
  },
  {
   "cell_type": "code",
   "execution_count": 13,
   "metadata": {},
   "outputs": [],
   "source": [
    "# Let's take first only one match"
   ]
  },
  {
   "cell_type": "code",
   "execution_count": 14,
   "metadata": {},
   "outputs": [],
   "source": [
    "file = 'esea_match_13770997.dem'"
   ]
  },
  {
   "cell_type": "code",
   "execution_count": 15,
   "metadata": {},
   "outputs": [],
   "source": [
    "# rounds = dmg_demos[dmg_demos['file'] == file]['round'].max()\n",
    "\n",
    "# Change the way to select the round number. \n",
    "# There are some missing rounds so lets take literally the round, not the max to do a range"
   ]
  },
  {
   "cell_type": "code",
   "execution_count": 16,
   "metadata": {},
   "outputs": [],
   "source": [
    "rounds = dmg_demos[dmg_demos['file'] == file]['round'].unique()"
   ]
  },
  {
   "cell_type": "code",
   "execution_count": 11,
   "metadata": {},
   "outputs": [],
   "source": [
    "df_file = dmg_demos[dmg_demos['file'] == file]\n",
    "df_file_nade = nade_demos[nade_demos['file'] == file]\n",
    "\n",
    "lst_ct_val = []\n",
    "lst_t_val = []\n",
    "\n",
    "for rnd in rounds:\n",
    "    \n",
    "    # 1st WAPONS\n",
    "    \n",
    "    # ---------> Put Bomb and Unknown filters!\n",
    "    \n",
    "    df_round_ct = df_file[(df_file['round'] == rnd) & (df_file['wp_type'] != 'Grenade') & (df_file['att_side'] == 'CounterTerrorist')]\n",
    "    df_round_t = df_file[(df_file['round'] == rnd) & (df_file['wp_type'] != 'Grenade') & (df_file['att_side'] == 'Terrorist')]\n",
    "    \n",
    "    wp_ct = df_round_ct[['att_id', 'wp']].drop_duplicates(subset='att_id')\n",
    "    wp_t = df_round_t[['att_id', 'wp']].drop_duplicates(subset='att_id')\n",
    "    # Drop_duplicates with subset to take the first record of each player. This way we reduce the error of taking a dropped gun\n",
    "    \n",
    "    wp_ct_val = sum([wp_values[weapon] for weapon in wp_ct['wp']])\n",
    "    wp_t_val = sum([wp_values[weapon] for weapon in wp_t['wp']])\n",
    "    # Value of the guns the team is carrying (CT & T)\n",
    "    \n",
    "    # 2nd GRENADES\n",
    "    df_round_ct_nade = df_file_nade[(df_file_nade['round'] == rnd) & (df_file_nade['att_side'] == 'CounterTerrorist')]\n",
    "    df_round_t_nade = df_file_nade[(df_file_nade['round'] == rnd) & (df_file_nade['att_side'] == 'Terrorist')]\n",
    "    \n",
    "    nade_ct = df_round_ct_nade[['att_id', 'nade']].drop_duplicates()\n",
    "    nade_t = df_round_t_nade[['att_id', 'nade']].drop_duplicates()\n",
    "    # Drop_duplicates to take all the nades of each player (we asume the error of taking dropped nades)\n",
    "    \n",
    "    nade_ct_val = sum([wp_values[nade] for nade in nade_ct['nade']])\n",
    "    nade_t_val = sum([wp_values[nade] for nade in nade_t['nade']])\n",
    "    # Value of the grenades the team is carrying (CT & T)\n",
    "    \n",
    "    # Join both values (Weapons & Grenades)\n",
    "    ct_val = wp_ct_val + nade_ct_val\n",
    "    t_val = wp_t_val + nade_t_val\n",
    "    \n",
    "    # Adding armor values\n",
    "    ct_val = plus_armor(ct_val) + defuse_kit(ct_val)\n",
    "    t_val = plus_armor(t_val)\n",
    "    \n",
    "    # Append the values to the lists lst_ct_val & lst_t_val\n",
    "    lst_ct_val.append(ct_val)\n",
    "    lst_t_val.append(t_val)"
   ]
  },
  {
   "cell_type": "code",
   "execution_count": 12,
   "metadata": {},
   "outputs": [
    {
     "name": "stdout",
     "output_type": "stream",
     "text": [
      "[4350, 6800, 7200, 22200, 5800, 25850, 5700, 6200, 26550, 23150, 28150, 24000, 22250, 13950, 20100, 4050, 19850, 13050, 19850, 22550, 25450, 13200, 10150, 24700, 13100]\n",
      "\n",
      "[4050, 17400, 14950, 18700, 13750, 15100, 14150, 14250, 13550, 6650, 10900, 13600, 8600, 11100, 12450, 3850, 9400, 4050, 13400, 9350, 16000, 16300, 11300, 9500, 6700]\n"
     ]
    }
   ],
   "source": [
    "print(lst_ct_val)\n",
    "print()\n",
    "print(lst_t_val)"
   ]
  },
  {
   "cell_type": "markdown",
   "metadata": {},
   "source": [
    "### Comparison"
   ]
  },
  {
   "cell_type": "markdown",
   "metadata": {},
   "source": [
    "To make the comparison we take the team value from the DataFrame esea_meta_demos.csv\n",
    "\n",
    "But first we have to filter and take only the games that have the full rounds records, as the are some games with missing rounds."
   ]
  },
  {
   "cell_type": "code",
   "execution_count": null,
   "metadata": {},
   "outputs": [],
   "source": [
    "meta_demos = pd.read_csv('../data/csgo/esea_meta_demos.csv')"
   ]
  },
  {
   "cell_type": "code",
   "execution_count": null,
   "metadata": {},
   "outputs": [],
   "source": [
    "files_complete = [file for file in meta_demos['file'].unique() if\\\n",
    "                     meta_demos[meta_demos['file'] == file]['round'].max() == \\\n",
    "                     len(meta_demos[meta_demos['file'] == file])]"
   ]
  },
  {
   "cell_type": "markdown",
   "metadata": {},
   "source": [
    "#### **Let's create a DataFrame with the team value of our generator and the real team value**\n",
    "\n",
    "We will create lists with the data that will be the different columns"
   ]
  },
  {
   "cell_type": "code",
   "execution_count": 12,
   "metadata": {},
   "outputs": [],
   "source": [
    "# LISTS\n",
    "\n",
    "lst_file = []\n",
    "lst_round = []\n",
    "lst_ct_val_pred = []\n",
    "lst_t_val_pred = []\n",
    "lst_ct_val_real = []\n",
    "lst_t_val_real = []\n",
    "lst_round_type = []"
   ]
  },
  {
   "cell_type": "markdown",
   "metadata": {},
   "source": [
    "## Attention! 4 hours to run this cell below\n",
    "\n",
    "### This is the first attemp to obtain and create the DataFrame from the original data.\n",
    "### There is an optimized version in 2_1_ml_preprocessingdata.ipynb"
   ]
  },
  {
   "cell_type": "code",
   "execution_count": 13,
   "metadata": {},
   "outputs": [
    {
     "name": "stderr",
     "output_type": "stream",
     "text": [
      "/home/victor/miniconda3/envs/ironhack_env/lib/python3.7/site-packages/ipykernel_launcher.py:30: UserWarning: Boolean Series key will be reindexed to match DataFrame index.\n"
     ]
    },
    {
     "name": "stdout",
     "output_type": "stream",
     "text": [
      "500 / 12185 ............\n",
      "1000 / 12185 ............\n",
      "1500 / 12185 ............\n",
      "2000 / 12185 ............\n",
      "2500 / 12185 ............\n",
      "3000 / 12185 ............\n",
      "3500 / 12185 ............\n",
      "4000 / 12185 ............\n",
      "4500 / 12185 ............\n",
      "5000 / 12185 ............\n",
      "5500 / 12185 ............\n",
      "6000 / 12185 ............\n",
      "6500 / 12185 ............\n",
      "7000 / 12185 ............\n",
      "7500 / 12185 ............\n",
      "8000 / 12185 ............\n",
      "8500 / 12185 ............\n",
      "9000 / 12185 ............\n",
      "9500 / 12185 ............\n",
      "10000 / 12185 ............\n",
      "10500 / 12185 ............\n",
      "11000 / 12185 ............\n",
      "11500 / 12185 ............\n",
      "12000 / 12185 ............\n"
     ]
    }
   ],
   "source": [
    "# LISTS\n",
    "\n",
    "lst_file = []\n",
    "lst_round = []\n",
    "lst_ct_val_pred = []\n",
    "lst_t_val_pred = []\n",
    "lst_ct_val_real = []\n",
    "lst_t_val_real = []\n",
    "lst_round_type = []\n",
    "\n",
    "# Create the loop around files and rounds\n",
    "log = 0 # Log to see the progress\n",
    "\n",
    "# Make some previous filtering to optimize the loop\n",
    "flt_nade = dmg_demos['wp_type'] != 'Grenade'\n",
    "flt_unknown = dmg_demos['wp_type'] != 'Unkown' # not well written in original data\n",
    "flt_bomb = dmg_demos['wp'] != 'Bomb'\n",
    "\n",
    "dmg_demos_flt = dmg_demos[flt_nade & flt_unknown & flt_bomb]\n",
    "\n",
    "for file in files_complete:\n",
    "    \n",
    "    log += 1\n",
    "    if log % 500 == 0: print(f'{log} / {len(files_complete)} ............')\n",
    "    \n",
    "#     df_file_dmg = dmg_demos[dmg_demos['file'] == file]\n",
    "#     df_file_nade = nade_demos[nade_demos['file'] == file]\n",
    "#     df_file_meta = meta_demos[meta_demos['file'] == file]\n",
    "    \n",
    "    df_file_dmg = dmg_demos_flt[dmg_demos['file'] == file]\n",
    "    df_file_nade = nade_demos[nade_demos['file'] == file]\n",
    "    df_file_meta = meta_demos[meta_demos['file'] == file]\n",
    "    \n",
    "    rounds = df_file_dmg['round'].unique()\n",
    "    \n",
    "    for rnd in rounds:\n",
    "        # 1st WEAPONS\n",
    "#         flt_nade = df_file_dmg['wp_type'] != 'Grenade'\n",
    "#         flt_unknown = df_file_dmg['wp_type'] != 'Unkown' # not well written in original data\n",
    "#         flt_bomb = df_file_dmg['wp'] != 'Bomb'\n",
    "        \n",
    "#         df_round_ct_dmg = df_file_dmg[(df_file_dmg['round'] == rnd) & flt_nade & flt_unknown & flt_bomb & (df_file_dmg['att_side'] == 'CounterTerrorist')]\n",
    "#         df_round_t_dmg = df_file_dmg[(df_file_dmg['round'] == rnd) & flt_nade & flt_unknown & flt_bomb & (df_file_dmg['att_side'] == 'Terrorist')]\n",
    "        df_round_ct_dmg = df_file_dmg[(df_file_dmg['round'] == rnd) & (df_file_dmg['att_side'] == 'CounterTerrorist')]\n",
    "        df_round_t_dmg = df_file_dmg[(df_file_dmg['round'] == rnd) & (df_file_dmg['att_side'] == 'Terrorist')]\n",
    "        \n",
    "        wp_ct = df_round_ct_dmg[['att_id', 'wp']].drop_duplicates(subset='att_id')\n",
    "        wp_t = df_round_t_dmg[['att_id', 'wp']].drop_duplicates(subset='att_id')\n",
    "        # Drop_duplicates with subset to take the first record of each player. This way we reduce the error of taking a dropped gun\n",
    "\n",
    "#         wp_ct_val = sum([wp_values[weapon] for weapon in wp_ct['wp']])\n",
    "#         wp_t_val = sum([wp_values[weapon] for weapon in wp_t['wp']])    \n",
    "        wp_ct_val_records = sum([wp_values[weapon] for weapon in wp_ct['wp']])\n",
    "        n_wp = len(wp_ct['wp'])\n",
    "        if n_wp > 0:\n",
    "            wp_ct_val = wp_ct_val_records + ((wp_ct_val_records/n_wp) * (5 - n_wp))\n",
    "        elif n_wp == 0:\n",
    "            wp_ct_val = wp_ct_val_records\n",
    "\n",
    "        wp_t_val_records = sum([wp_values[weapon] for weapon in wp_t['wp']])\n",
    "        n_wp = len(wp_t['wp'])\n",
    "        if n_wp > 0:\n",
    "            wp_t_val = wp_t_val_records + ((wp_t_val_records/n_wp) * (5 - n_wp))    \n",
    "        elif n_wp == 0:\n",
    "            wp_t_val = wp_t_val_records\n",
    "        # Value of the guns the team is carrying (CT & T)\n",
    "\n",
    "        # 2nd GRENADES\n",
    "        df_round_ct_nade = df_file_nade[(df_file_nade['round'] == rnd) & (df_file_nade['att_side'] == 'CounterTerrorist')]\n",
    "        df_round_t_nade = df_file_nade[(df_file_nade['round'] == rnd) & (df_file_nade['att_side'] == 'Terrorist')]\n",
    "\n",
    "        nade_ct = df_round_ct_nade[['att_id', 'nade']].drop_duplicates()\n",
    "        nade_t = df_round_t_nade[['att_id', 'nade']].drop_duplicates()\n",
    "        # Drop_duplicates to take all the nades of each player (we asume the error of taking dropped nades)\n",
    "\n",
    "        nade_ct_val = sum([wp_values[nade] for nade in nade_ct['nade']])\n",
    "        nade_t_val = sum([wp_values[nade] for nade in nade_t['nade']])\n",
    "        # Value of the grenades the team is carrying (CT & T)\n",
    "\n",
    "        # Join both values (Weapons & Grenades)\n",
    "        ct_val = wp_ct_val + nade_ct_val\n",
    "        t_val = wp_t_val + nade_t_val\n",
    "\n",
    "        # Adding armor & defuse kit values\n",
    "        ct_val = plus_armor(ct_val) + defuse_kit(ct_val)\n",
    "        t_val = plus_armor(t_val)\n",
    "        \n",
    "        # Extracting real CT & T team value and round_type from meta_demos\n",
    "        ct_val_real = df_file_meta[df_file_meta['round'] == rnd]['ct_eq_val'].values[0]\n",
    "        t_val_real = df_file_meta[df_file_meta['round'] == rnd]['t_eq_val'].values[0]\n",
    "        round_type = df_file_meta[df_file_meta['round'] == rnd]['round_type'].values[0]\n",
    "        # .values to get only the column value, not also the index\n",
    "        # [0] because .values return a 1 dimension array\n",
    "\n",
    "        # Append the values to the previosly defined lists \n",
    "        lst_file.append(file)\n",
    "        lst_round.append(rnd)\n",
    "        lst_ct_val_pred.append(ct_val)\n",
    "        lst_t_val_pred.append(t_val)\n",
    "        lst_ct_val_real.append(ct_val_real)\n",
    "        lst_t_val_real.append(t_val_real)\n",
    "        lst_round_type.append(round_type)"
   ]
  },
  {
   "cell_type": "code",
   "execution_count": 14,
   "metadata": {},
   "outputs": [],
   "source": [
    "df = pd.DataFrame([lst_file, lst_round, lst_ct_val_pred, lst_t_val_pred, lst_ct_val_real, lst_t_val_real, lst_round_type]).T\n",
    "df.columns = ['file', 'round', 'ct_val_pred', 't_val_pred', 'ct_val_real', 't_val_real', 'round_type']\n",
    "\n",
    "df.to_csv('../data/processed/estimated_team_value.csv', index=False) # Saved .csv with the full data comparison"
   ]
  },
  {
   "cell_type": "markdown",
   "metadata": {},
   "source": [
    "### Load the DataFrame "
   ]
  },
  {
   "cell_type": "code",
   "execution_count": 22,
   "metadata": {},
   "outputs": [],
   "source": [
    "df = pd.read_csv('../data/processed/estimated_team_value.csv')"
   ]
  },
  {
   "cell_type": "code",
   "execution_count": 28,
   "metadata": {},
   "outputs": [
    {
     "name": "stdout",
     "output_type": "stream",
     "text": [
      "(310813, 8)\n"
     ]
    },
    {
     "data": {
      "text/html": [
       "<div>\n",
       "<style scoped>\n",
       "    .dataframe tbody tr th:only-of-type {\n",
       "        vertical-align: middle;\n",
       "    }\n",
       "\n",
       "    .dataframe tbody tr th {\n",
       "        vertical-align: top;\n",
       "    }\n",
       "\n",
       "    .dataframe thead th {\n",
       "        text-align: right;\n",
       "    }\n",
       "</style>\n",
       "<table border=\"1\" class=\"dataframe\">\n",
       "  <thead>\n",
       "    <tr style=\"text-align: right;\">\n",
       "      <th></th>\n",
       "      <th>index</th>\n",
       "      <th>file</th>\n",
       "      <th>round</th>\n",
       "      <th>ct_val_pred</th>\n",
       "      <th>t_val_pred</th>\n",
       "      <th>ct_val_real</th>\n",
       "      <th>t_val_real</th>\n",
       "      <th>round_type</th>\n",
       "    </tr>\n",
       "  </thead>\n",
       "  <tbody>\n",
       "    <tr>\n",
       "      <th>0</th>\n",
       "      <td>0</td>\n",
       "      <td>esea_match_13779704.dem</td>\n",
       "      <td>1</td>\n",
       "      <td>5550.0</td>\n",
       "      <td>6366.666667</td>\n",
       "      <td>4550</td>\n",
       "      <td>3850</td>\n",
       "      <td>PISTOL_ROUND</td>\n",
       "    </tr>\n",
       "    <tr>\n",
       "      <th>1</th>\n",
       "      <td>1</td>\n",
       "      <td>esea_match_13779704.dem</td>\n",
       "      <td>2</td>\n",
       "      <td>20200.0</td>\n",
       "      <td>7737.500000</td>\n",
       "      <td>18450</td>\n",
       "      <td>5300</td>\n",
       "      <td>ECO</td>\n",
       "    </tr>\n",
       "    <tr>\n",
       "      <th>2</th>\n",
       "      <td>2</td>\n",
       "      <td>esea_match_13779704.dem</td>\n",
       "      <td>3</td>\n",
       "      <td>9025.0</td>\n",
       "      <td>18150.000000</td>\n",
       "      <td>9550</td>\n",
       "      <td>22900</td>\n",
       "      <td>SEMI_ECO</td>\n",
       "    </tr>\n",
       "    <tr>\n",
       "      <th>3</th>\n",
       "      <td>3</td>\n",
       "      <td>esea_match_13779704.dem</td>\n",
       "      <td>4</td>\n",
       "      <td>4250.0</td>\n",
       "      <td>17300.000000</td>\n",
       "      <td>1600</td>\n",
       "      <td>19650</td>\n",
       "      <td>ECO</td>\n",
       "    </tr>\n",
       "    <tr>\n",
       "      <th>4</th>\n",
       "      <td>4</td>\n",
       "      <td>esea_match_13779704.dem</td>\n",
       "      <td>5</td>\n",
       "      <td>25900.0</td>\n",
       "      <td>18450.000000</td>\n",
       "      <td>23350</td>\n",
       "      <td>21750</td>\n",
       "      <td>NORMAL</td>\n",
       "    </tr>\n",
       "  </tbody>\n",
       "</table>\n",
       "</div>"
      ],
      "text/plain": [
       "   index                     file  round  ct_val_pred    t_val_pred  \\\n",
       "0      0  esea_match_13779704.dem      1       5550.0   6366.666667   \n",
       "1      1  esea_match_13779704.dem      2      20200.0   7737.500000   \n",
       "2      2  esea_match_13779704.dem      3       9025.0  18150.000000   \n",
       "3      3  esea_match_13779704.dem      4       4250.0  17300.000000   \n",
       "4      4  esea_match_13779704.dem      5      25900.0  18450.000000   \n",
       "\n",
       "   ct_val_real  t_val_real    round_type  \n",
       "0         4550        3850  PISTOL_ROUND  \n",
       "1        18450        5300           ECO  \n",
       "2         9550       22900      SEMI_ECO  \n",
       "3         1600       19650           ECO  \n",
       "4        23350       21750        NORMAL  "
      ]
     },
     "execution_count": 28,
     "metadata": {},
     "output_type": "execute_result"
    }
   ],
   "source": [
    "print(df.shape)\n",
    "df.head()"
   ]
  },
  {
   "cell_type": "markdown",
   "metadata": {},
   "source": [
    "### Differences estimated / real"
   ]
  },
  {
   "cell_type": "code",
   "execution_count": 30,
   "metadata": {},
   "outputs": [],
   "source": [
    "df['ct_error'] = df['ct_val_real'] - df['ct_val_pred']\n",
    "df['t_error'] = df['t_val_real'] - df['t_val_pred']"
   ]
  },
  {
   "cell_type": "code",
   "execution_count": 31,
   "metadata": {},
   "outputs": [
    {
     "data": {
      "text/html": [
       "<div>\n",
       "<style scoped>\n",
       "    .dataframe tbody tr th:only-of-type {\n",
       "        vertical-align: middle;\n",
       "    }\n",
       "\n",
       "    .dataframe tbody tr th {\n",
       "        vertical-align: top;\n",
       "    }\n",
       "\n",
       "    .dataframe thead th {\n",
       "        text-align: right;\n",
       "    }\n",
       "</style>\n",
       "<table border=\"1\" class=\"dataframe\">\n",
       "  <thead>\n",
       "    <tr style=\"text-align: right;\">\n",
       "      <th></th>\n",
       "      <th>index</th>\n",
       "      <th>round</th>\n",
       "      <th>ct_val_pred</th>\n",
       "      <th>t_val_pred</th>\n",
       "      <th>ct_val_real</th>\n",
       "      <th>t_val_real</th>\n",
       "      <th>ct_error</th>\n",
       "      <th>t_error</th>\n",
       "    </tr>\n",
       "  </thead>\n",
       "  <tbody>\n",
       "    <tr>\n",
       "      <th>count</th>\n",
       "      <td>310813.000000</td>\n",
       "      <td>310813.000000</td>\n",
       "      <td>310813.000000</td>\n",
       "      <td>310813.000000</td>\n",
       "      <td>310813.000000</td>\n",
       "      <td>310813.000000</td>\n",
       "      <td>310813.000000</td>\n",
       "      <td>310813.000000</td>\n",
       "    </tr>\n",
       "    <tr>\n",
       "      <th>mean</th>\n",
       "      <td>155406.000000</td>\n",
       "      <td>13.636219</td>\n",
       "      <td>19989.764623</td>\n",
       "      <td>16335.579015</td>\n",
       "      <td>18887.598331</td>\n",
       "      <td>18229.730738</td>\n",
       "      <td>-1102.166292</td>\n",
       "      <td>1894.151723</td>\n",
       "    </tr>\n",
       "    <tr>\n",
       "      <th>std</th>\n",
       "      <td>89724.128946</td>\n",
       "      <td>8.036385</td>\n",
       "      <td>9577.524503</td>\n",
       "      <td>6202.982439</td>\n",
       "      <td>10547.244034</td>\n",
       "      <td>8837.245568</td>\n",
       "      <td>3774.883741</td>\n",
       "      <td>4182.317258</td>\n",
       "    </tr>\n",
       "    <tr>\n",
       "      <th>min</th>\n",
       "      <td>0.000000</td>\n",
       "      <td>1.000000</td>\n",
       "      <td>3250.000000</td>\n",
       "      <td>3250.000000</td>\n",
       "      <td>200.000000</td>\n",
       "      <td>400.000000</td>\n",
       "      <td>-32150.000000</td>\n",
       "      <td>-23333.333333</td>\n",
       "    </tr>\n",
       "    <tr>\n",
       "      <th>25%</th>\n",
       "      <td>77703.000000</td>\n",
       "      <td>7.000000</td>\n",
       "      <td>8933.333333</td>\n",
       "      <td>11866.666667</td>\n",
       "      <td>7400.000000</td>\n",
       "      <td>10700.000000</td>\n",
       "      <td>-3225.000000</td>\n",
       "      <td>-1200.000000</td>\n",
       "    </tr>\n",
       "    <tr>\n",
       "      <th>50%</th>\n",
       "      <td>155406.000000</td>\n",
       "      <td>13.000000</td>\n",
       "      <td>23825.000000</td>\n",
       "      <td>18400.000000</td>\n",
       "      <td>21750.000000</td>\n",
       "      <td>21100.000000</td>\n",
       "      <td>-1075.000000</td>\n",
       "      <td>2400.000000</td>\n",
       "    </tr>\n",
       "    <tr>\n",
       "      <th>75%</th>\n",
       "      <td>233109.000000</td>\n",
       "      <td>20.000000</td>\n",
       "      <td>27862.500000</td>\n",
       "      <td>20800.000000</td>\n",
       "      <td>28150.000000</td>\n",
       "      <td>25450.000000</td>\n",
       "      <td>1012.500000</td>\n",
       "      <td>4775.000000</td>\n",
       "    </tr>\n",
       "    <tr>\n",
       "      <th>max</th>\n",
       "      <td>310812.000000</td>\n",
       "      <td>60.000000</td>\n",
       "      <td>38950.000000</td>\n",
       "      <td>33550.000000</td>\n",
       "      <td>42050.000000</td>\n",
       "      <td>38150.000000</td>\n",
       "      <td>34100.000000</td>\n",
       "      <td>32500.000000</td>\n",
       "    </tr>\n",
       "  </tbody>\n",
       "</table>\n",
       "</div>"
      ],
      "text/plain": [
       "               index          round    ct_val_pred     t_val_pred  \\\n",
       "count  310813.000000  310813.000000  310813.000000  310813.000000   \n",
       "mean   155406.000000      13.636219   19989.764623   16335.579015   \n",
       "std     89724.128946       8.036385    9577.524503    6202.982439   \n",
       "min         0.000000       1.000000    3250.000000    3250.000000   \n",
       "25%     77703.000000       7.000000    8933.333333   11866.666667   \n",
       "50%    155406.000000      13.000000   23825.000000   18400.000000   \n",
       "75%    233109.000000      20.000000   27862.500000   20800.000000   \n",
       "max    310812.000000      60.000000   38950.000000   33550.000000   \n",
       "\n",
       "         ct_val_real     t_val_real       ct_error        t_error  \n",
       "count  310813.000000  310813.000000  310813.000000  310813.000000  \n",
       "mean    18887.598331   18229.730738   -1102.166292    1894.151723  \n",
       "std     10547.244034    8837.245568    3774.883741    4182.317258  \n",
       "min       200.000000     400.000000  -32150.000000  -23333.333333  \n",
       "25%      7400.000000   10700.000000   -3225.000000   -1200.000000  \n",
       "50%     21750.000000   21100.000000   -1075.000000    2400.000000  \n",
       "75%     28150.000000   25450.000000    1012.500000    4775.000000  \n",
       "max     42050.000000   38150.000000   34100.000000   32500.000000  "
      ]
     },
     "execution_count": 31,
     "metadata": {},
     "output_type": "execute_result"
    }
   ],
   "source": [
    "df.describe()"
   ]
  },
  {
   "cell_type": "code",
   "execution_count": 32,
   "metadata": {},
   "outputs": [
    {
     "data": {
      "text/html": [
       "<div>\n",
       "<style scoped>\n",
       "    .dataframe tbody tr th:only-of-type {\n",
       "        vertical-align: middle;\n",
       "    }\n",
       "\n",
       "    .dataframe tbody tr th {\n",
       "        vertical-align: top;\n",
       "    }\n",
       "\n",
       "    .dataframe thead th {\n",
       "        text-align: right;\n",
       "    }\n",
       "</style>\n",
       "<table border=\"1\" class=\"dataframe\">\n",
       "  <thead>\n",
       "    <tr style=\"text-align: right;\">\n",
       "      <th></th>\n",
       "      <th>index</th>\n",
       "      <th>file</th>\n",
       "      <th>round</th>\n",
       "      <th>ct_val_pred</th>\n",
       "      <th>t_val_pred</th>\n",
       "      <th>ct_val_real</th>\n",
       "      <th>t_val_real</th>\n",
       "      <th>round_type</th>\n",
       "      <th>ct_error</th>\n",
       "      <th>t_error</th>\n",
       "    </tr>\n",
       "  </thead>\n",
       "  <tbody>\n",
       "    <tr>\n",
       "      <th>0</th>\n",
       "      <td>0</td>\n",
       "      <td>esea_match_13779704.dem</td>\n",
       "      <td>1</td>\n",
       "      <td>5550.0</td>\n",
       "      <td>6366.666667</td>\n",
       "      <td>4550</td>\n",
       "      <td>3850</td>\n",
       "      <td>PISTOL_ROUND</td>\n",
       "      <td>-1000.0</td>\n",
       "      <td>-2516.666667</td>\n",
       "    </tr>\n",
       "    <tr>\n",
       "      <th>1</th>\n",
       "      <td>1</td>\n",
       "      <td>esea_match_13779704.dem</td>\n",
       "      <td>2</td>\n",
       "      <td>20200.0</td>\n",
       "      <td>7737.500000</td>\n",
       "      <td>18450</td>\n",
       "      <td>5300</td>\n",
       "      <td>ECO</td>\n",
       "      <td>-1750.0</td>\n",
       "      <td>-2437.500000</td>\n",
       "    </tr>\n",
       "    <tr>\n",
       "      <th>2</th>\n",
       "      <td>2</td>\n",
       "      <td>esea_match_13779704.dem</td>\n",
       "      <td>3</td>\n",
       "      <td>9025.0</td>\n",
       "      <td>18150.000000</td>\n",
       "      <td>9550</td>\n",
       "      <td>22900</td>\n",
       "      <td>SEMI_ECO</td>\n",
       "      <td>525.0</td>\n",
       "      <td>4750.000000</td>\n",
       "    </tr>\n",
       "    <tr>\n",
       "      <th>3</th>\n",
       "      <td>3</td>\n",
       "      <td>esea_match_13779704.dem</td>\n",
       "      <td>4</td>\n",
       "      <td>4250.0</td>\n",
       "      <td>17300.000000</td>\n",
       "      <td>1600</td>\n",
       "      <td>19650</td>\n",
       "      <td>ECO</td>\n",
       "      <td>-2650.0</td>\n",
       "      <td>2350.000000</td>\n",
       "    </tr>\n",
       "    <tr>\n",
       "      <th>4</th>\n",
       "      <td>4</td>\n",
       "      <td>esea_match_13779704.dem</td>\n",
       "      <td>5</td>\n",
       "      <td>25900.0</td>\n",
       "      <td>18450.000000</td>\n",
       "      <td>23350</td>\n",
       "      <td>21750</td>\n",
       "      <td>NORMAL</td>\n",
       "      <td>-2550.0</td>\n",
       "      <td>3300.000000</td>\n",
       "    </tr>\n",
       "  </tbody>\n",
       "</table>\n",
       "</div>"
      ],
      "text/plain": [
       "   index                     file  round  ct_val_pred    t_val_pred  \\\n",
       "0      0  esea_match_13779704.dem      1       5550.0   6366.666667   \n",
       "1      1  esea_match_13779704.dem      2      20200.0   7737.500000   \n",
       "2      2  esea_match_13779704.dem      3       9025.0  18150.000000   \n",
       "3      3  esea_match_13779704.dem      4       4250.0  17300.000000   \n",
       "4      4  esea_match_13779704.dem      5      25900.0  18450.000000   \n",
       "\n",
       "   ct_val_real  t_val_real    round_type  ct_error      t_error  \n",
       "0         4550        3850  PISTOL_ROUND   -1000.0 -2516.666667  \n",
       "1        18450        5300           ECO   -1750.0 -2437.500000  \n",
       "2         9550       22900      SEMI_ECO     525.0  4750.000000  \n",
       "3         1600       19650           ECO   -2650.0  2350.000000  \n",
       "4        23350       21750        NORMAL   -2550.0  3300.000000  "
      ]
     },
     "execution_count": 32,
     "metadata": {},
     "output_type": "execute_result"
    }
   ],
   "source": [
    "df.head()"
   ]
  },
  {
   "cell_type": "code",
   "execution_count": 37,
   "metadata": {},
   "outputs": [
    {
     "name": "stdout",
     "output_type": "stream",
     "text": [
      "CT Error: 3932.489281724597\n",
      "T Error: 4591.245160143518\n"
     ]
    }
   ],
   "source": [
    "print(f\"CT Error: {mean_squared_error(y_pred=df['ct_val_pred'], y_true=df['ct_val_real'], squared=False)}\")\n",
    "print(f\"T Error: {mean_squared_error(y_pred=df['t_val_pred'], y_true=df['t_val_real'], squared=False)}\")"
   ]
  }
 ],
 "metadata": {
  "kernelspec": {
   "display_name": "Python [conda env:ironhack_env]",
   "language": "python",
   "name": "conda-env-ironhack_env-py"
  },
  "language_info": {
   "codemirror_mode": {
    "name": "ipython",
    "version": 3
   },
   "file_extension": ".py",
   "mimetype": "text/x-python",
   "name": "python",
   "nbconvert_exporter": "python",
   "pygments_lexer": "ipython3",
   "version": "3.7.3"
  }
 },
 "nbformat": 4,
 "nbformat_minor": 4
}
